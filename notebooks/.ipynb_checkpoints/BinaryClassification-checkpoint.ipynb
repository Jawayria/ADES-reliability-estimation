{
 "cells": [
  {
   "cell_type": "code",
   "execution_count": 1,
   "id": "d3f434e5-ad5d-420a-8df3-cdd4a57b79fd",
   "metadata": {},
   "outputs": [],
   "source": [
    "import glob\n",
    "import matplotlib.pyplot as plt\n",
    "import numpy as np\n",
    "import networkx as nx\n",
    "import pandas as pd\n",
    "import re\n",
    "\n",
    "import torch\n",
    "import torch.nn.functional as F\n",
    "\n",
    "from torch_geometric.data import Data\n",
    "from torch_geometric.loader import DataLoader\n",
    "from torch_geometric.nn import GCNConv, GATConv, MessagePassing, global_mean_pool\n",
    "\n",
    "from tqdm import tqdm\n",
    "\n",
    "from sklearn.model_selection import train_test_split"
   ]
  },
  {
   "cell_type": "code",
   "execution_count": 2,
   "id": "d18a8306-65e1-4ee8-a321-36d4a2372a25",
   "metadata": {},
   "outputs": [],
   "source": [
    "from utils import extract_config_id, generate_matrix\n",
    "from filepath import *\n",
    "from models.GAT import GAT#, GCN, SimpleMPNN\n",
    "from train_eval.train import train\n",
    "from train_eval.evaluate import evaluate"
   ]
  },
  {
   "cell_type": "code",
   "execution_count": 3,
   "id": "e27b60cc-2fac-4b98-ba7c-3b2a57e8fe55",
   "metadata": {},
   "outputs": [],
   "source": [
    "NUM_EPOCHS = 100\n",
    "DROPOUT_RATE = 0.3\n",
    "LEARNING_RATE = 0.0005\n",
    "THRESHOLD = 0.97\n",
    "NODE_FEATURES = 5\n",
    "PATIENCE = 15\n",
    "ONE_TIMESTAMP = False"
   ]
  },
  {
   "cell_type": "code",
   "execution_count": 4,
   "id": "862f1f1d-4a51-446d-a04b-52fc53cbaaaf",
   "metadata": {},
   "outputs": [],
   "source": [
    "\n",
    "# Red all matrix files and convert them into a list of lists\n",
    "mat_files = sorted(glob.glob(matrices_path))\n",
    "\n",
    "all_matrices = []\n",
    "\n",
    "for path in mat_files:\n",
    "    \n",
    "  with open(path, 'r') as f:\n",
    "    content = f.read()\n",
    "      \n",
    "  # Remove the first and last character ('[' and ']')\n",
    "  content = content[1:-1]\n",
    "  string_list = []\n",
    "  current_row = ''\n",
    "  start_line = False\n",
    "    \n",
    "  for c in content:\n",
    "      if c == '[':\n",
    "          start_line = True\n",
    "      elif c == ']':\n",
    "          start_line = False\n",
    "          string_list.append(current_row)\n",
    "          current_row = ''\n",
    "      elif start_line:\n",
    "          if c != '\\n':\n",
    "              current_row += c\n",
    "              \n",
    "  matrix = []\n",
    "  for string in string_list:\n",
    "    vals = string.replace('.', ' ').split()\n",
    "    vals = [int(v) for v in vals]\n",
    "    matrix.append(vals)\n",
    "  all_matrices.append({\"matrix\": matrix, \"config_id\": extract_config_id(path)})\n",
    "    \n",
    "all_matrices_df = pd.DataFrame(all_matrices)"
   ]
  },
  {
   "cell_type": "code",
   "execution_count": 5,
   "id": "62215f31-8fd2-4697-8917-3b8c66c125dd",
   "metadata": {},
   "outputs": [],
   "source": [
    "rel_files = sorted(glob.glob(reliabilities_path))\n",
    "all_rels = []\n",
    "if config_all_path in rel_files:\n",
    "    rel_files.remove(config_all_path)\n",
    "\n",
    "\n",
    "for path in rel_files:\n",
    "\n",
    " rel_data = pd.read_csv(\n",
    "        path,\n",
    "        sep=';',\n",
    "        decimal=',',\n",
    "        names=['timestamp', 'reliability']\n",
    "    )\n",
    "\n",
    " all_rels.append({\"rel_data\": rel_data, \"config_id\": extract_config_id(path)})\n",
    "all_rels_df = pd.DataFrame(all_rels)"
   ]
  },
  {
   "cell_type": "code",
   "execution_count": 6,
   "id": "44126f9d-e23f-4ab4-bfea-413f87122d38",
   "metadata": {},
   "outputs": [
    {
     "name": "stdout",
     "output_type": "stream",
     "text": [
      "(167736, 4)\n"
     ]
    }
   ],
   "source": [
    "merged_df = pd.merge(all_matrices_df, all_rels_df, on=\"config_id\", how=\"inner\")\n",
    "\n",
    "# Assuming merged_df has a 'rel_data' column that is a DataFrame\n",
    "# with columns 'timestamp' and 'reliability'\n",
    "\n",
    "# First, extract the 'timestamp' and 'reliability' columns from the rel_data DataFrame\n",
    "merged_df['timestamp'] = merged_df['rel_data'].apply(lambda df: df['timestamp'].tolist())\n",
    "merged_df['reliability'] = merged_df['rel_data'].apply(lambda df: df['reliability'].tolist())\n",
    "\n",
    "# Now we can drop the 'rel_data' column (optional)\n",
    "merged_df = merged_df.drop(columns=['rel_data'])\n",
    "\n",
    "# Explode the 'timestamp' and 'reliability' columns\n",
    "merged_df_exploded = merged_df.explode(['timestamp', 'reliability']).reset_index(drop=True)\n",
    "\n",
    "# Display the exploded DataFrame\n",
    "# print(merged_df_exploded)\n",
    "merged_df_exploded.head(10)\n",
    "print(merged_df_exploded.shape)"
   ]
  },
  {
   "cell_type": "code",
   "execution_count": 7,
   "id": "cb443894-9df7-49b3-bc7e-fcdc9f08780b",
   "metadata": {},
   "outputs": [
    {
     "data": {
      "text/plain": [
       "(167736, 4)"
      ]
     },
     "execution_count": 7,
     "metadata": {},
     "output_type": "execute_result"
    }
   ],
   "source": [
    "if ONE_TIMESTAMP:\n",
    "  merged_df_exploded = merged_df_exploded.loc[merged_df_exploded['timestamp'] == 1000]\n",
    "  merged_df_exploded = merged_df_exploded.reset_index(drop=True)\n",
    "merged_df_exploded.shape\n"
   ]
  },
  {
   "cell_type": "code",
   "execution_count": 8,
   "id": "aa8418ca-49b2-41c3-b5dd-d82f83fb24bb",
   "metadata": {},
   "outputs": [],
   "source": [
    "all_edge_indices = []\n",
    "\n",
    "merged_df_exploded['matrix'] = merged_df_exploded['matrix'].apply(np.array)\n",
    "\n",
    "for _, row in merged_df_exploded.iterrows():\n",
    "    matrix_np = row['matrix']\n",
    "\n",
    "    # Get the indices where there are edges (i.e., non-zero entries)\n",
    "    edge_indices = np.nonzero(matrix_np)\n",
    "\n",
    "    # Stack the indices into a 2xN array where each column represents an edge\n",
    "    edge_index = torch.tensor(np.vstack(edge_indices), dtype=torch.long)\n",
    "\n",
    "    # Append the edge_index tensor to the list\n",
    "    all_edge_indices.append(edge_index)"
   ]
  },
  {
   "cell_type": "code",
   "execution_count": 9,
   "id": "aee31c3c-17d0-4d7b-8e16-f77a8f31c18f",
   "metadata": {},
   "outputs": [],
   "source": [
    "all_rels = []\n",
    "\n",
    "for _, row in merged_df_exploded.iterrows():\n",
    "    reliability = row['reliability']\n",
    "    if reliability >= THRESHOLD:\n",
    "      all_rels.append(1)\n",
    "    else:\n",
    "      all_rels.append(0)"
   ]
  },
  {
   "cell_type": "code",
   "execution_count": 10,
   "id": "31f53452-2621-419e-99c3-72b15be88931",
   "metadata": {},
   "outputs": [
    {
     "data": {
      "image/png": "[encoded data removed]",
      "text/plain": [
       "<Figure size 800x600 with 1 Axes>"
      ]
     },
     "metadata": {},
     "output_type": "display_data"
    }
   ],
   "source": [
    "plt.figure(figsize=(8, 6))\n",
    "plt.hist(all_rels, edgecolor='k', alpha=0.7)\n",
    "plt.title(\"Distribution of y Values\")\n",
    "plt.xlabel(\"y\")\n",
    "plt.ylabel(\"Frequency\")\n",
    "plt.grid(True)\n",
    "plt.show()"
   ]
  },
  {
   "cell_type": "code",
   "execution_count": 11,
   "id": "90d3b546-fec2-421f-bbb5-1c62f4f10a21",
   "metadata": {},
   "outputs": [],
   "source": [
    "all_rels_tensor = torch.tensor(all_rels)"
   ]
  },
  {
   "cell_type": "code",
   "execution_count": 12,
   "id": "89f4153a-82cf-4261-9041-0ae112adcc45",
   "metadata": {},
   "outputs": [],
   "source": [
    "prefix_to_type = {\n",
    "    'S': 'slave',\n",
    "    'L': 'link',\n",
    "    'Sw':'switch',\n",
    "    'I': 'i'\n",
    "}"
   ]
  },
  {
   "cell_type": "code",
   "execution_count": 13,
   "id": "a424505a-a32a-477a-8380-7cd6bfbd9b92",
   "metadata": {},
   "outputs": [],
   "source": [
    "type_failure_rates = {\n",
    "    'slave': 0.00001,\n",
    "    'link': 0.0000001,\n",
    "    'switch': 0.000001,\n",
    "    'i': 0.0000001\n",
    "}"
   ]
  },
  {
   "cell_type": "code",
   "execution_count": 14,
   "id": "d138555c-6f39-481d-ba9d-f5f461799853",
   "metadata": {},
   "outputs": [],
   "source": [
    "# Initialize the dictionary to store the index to type mapping\n",
    "index_to_type = {}\n",
    "\n",
    "# Read the first line from 'configs.txt'\n",
    "with open(configs_list_path, 'r') as file:\n",
    "    first_line = file.readline().strip()\n",
    "\n",
    "# Extract the part after 'config_0: [' and before the closing ']'\n",
    "start = first_line.find('[')\n",
    "end = first_line.find(']')\n",
    "node_list_str = first_line[start+1:end]\n",
    "\n",
    "# Split the node names by comma and strip whitespace\n",
    "node_names = [node.strip() for node in node_list_str.split(',')]\n",
    "\n",
    "# Iterate over the node names and map index to type\n",
    "for index, node_name in enumerate(node_names):\n",
    "    if node_name.startswith('Sw'):\n",
    "        node_type = 'switch'\n",
    "    else:\n",
    "        # Use the first character as prefix\n",
    "        prefix = node_name[0]\n",
    "        node_type = prefix_to_type.get(prefix, 'unknown')\n",
    "    # Map the index to the node type\n",
    "    index_to_type[index] = node_type\n",
    "\n"
   ]
  },
  {
   "cell_type": "code",
   "execution_count": 15,
   "id": "4b3391b2-2c84-49b8-87aa-21127442d98e",
   "metadata": {},
   "outputs": [
    {
     "name": "stderr",
     "output_type": "stream",
     "text": [
      "167736it [00:29, 5627.26it/s]\n"
     ]
    }
   ],
   "source": [
    "num_features = NODE_FEATURES \n",
    "\n",
    "all_node_features = []\n",
    "for _, row in tqdm(merged_df_exploded.iterrows()):\n",
    "    \n",
    "  adj_matrix = row['matrix']\n",
    "  timestamp = row['timestamp']\n",
    "  num_nodes = adj_matrix.shape[0]\n",
    "  node_features = np.zeros((num_nodes, num_features))\n",
    "    \n",
    "  #Get indegree and centrality using NetworksX graph\n",
    "  G = nx.from_numpy_array(adj_matrix)\n",
    "\n",
    "  # Calculate centrality measures\n",
    "  degree_centrality = nx.degree_centrality(G)\n",
    "  closeness_centrality = nx.closeness_centrality(G)\n",
    "  degree = adj_matrix.sum(axis=1)\n",
    "  # katz_centrality = nx.katz_centrality(G)\n",
    "  # betweenness_centrality = nx.betweenness_centrality(G)\n",
    "  # eigenvector_centrality = nx.eigenvector_centrality(G, max_iter=500, tol=1e-06)\n",
    "\n",
    "  # Assign centrality measures to node features\n",
    "  for node in G.nodes():\n",
    "      node_features[node, 0] = degree_centrality[node]\n",
    "      node_features[node, 1] = closeness_centrality[node]\n",
    "      node_features[node, 2] = degree[node]\n",
    "      node_features[node, 3] = timestamp\n",
    "      node_features[node, 4] = type_failure_rates[index_to_type[node]]\n",
    "      # node_features[node, 4] = katz_centrality[node]\n",
    "      # node_features[node, 5] = betweenness_centrality[node]\n",
    "      # node_features[node, 6] = eigenvector_centrality[node]\n",
    "\n",
    "  all_node_features.append(node_features)\n",
    "node_features_tensor = torch.tensor(np.array(all_node_features), dtype=torch.float)"
   ]
  },
  {
   "cell_type": "code",
   "execution_count": 16,
   "id": "25d7cd5f-f1d3-4844-a218-365a41c5c127",
   "metadata": {},
   "outputs": [],
   "source": [
    "data_list = []\n",
    "\n",
    "for i, row in merged_df_exploded.iterrows():\n",
    "  node_features = node_features_tensor[i]\n",
    "  edge_index = all_edge_indices[i]\n",
    "  y = all_rels[i]\n",
    "  data = Data(x=node_features, edge_index=edge_index, y=y)\n",
    "  data_list.append(data)"
   ]
  },
  {
   "cell_type": "code",
   "execution_count": 17,
   "id": "4bbfbb02-b31f-4820-8fb7-1303f55ac270",
   "metadata": {},
   "outputs": [
    {
     "name": "stdout",
     "output_type": "stream",
     "text": [
      "Training samples: 100641\n",
      "Validation samples: 33547\n",
      "Test samples: 33548\n"
     ]
    }
   ],
   "source": [
    "from sklearn.model_selection import train_test_split\n",
    "\n",
    "# Split into training and testing data\n",
    "train_data_list, test_data_list = train_test_split(data_list, test_size=0.2, random_state=42)\n",
    "\n",
    "# Further split training data into training and validation\n",
    "train_data_list, val_data_list = train_test_split(train_data_list, test_size=0.25, random_state=42)  # 0.25 x 0.8 = 0.2 validation split\n",
    "\n",
    "# Create DataLoaders\n",
    "train_loader = DataLoader(train_data_list, batch_size=16, shuffle=True)\n",
    "val_loader = DataLoader(val_data_list, batch_size=16, shuffle=False)\n",
    "test_loader = DataLoader(test_data_list, batch_size=16, shuffle=False)\n",
    "\n",
    "print(f\"Training samples: {len(train_data_list)}\")\n",
    "print(f\"Validation samples: {len(val_data_list)}\")\n",
    "print(f\"Test samples: {len(test_data_list)}\")\n"
   ]
  },
  {
   "cell_type": "code",
   "execution_count": 18,
   "id": "45354d30-7347-451e-9445-79761c7ffe69",
   "metadata": {},
   "outputs": [],
   "source": [
    "device = torch.device('cuda' if torch.cuda.is_available() else 'cpu')\n",
    "\n",
    "model = GAT(input_dim=NODE_FEATURES, hidden_dim=64, output_dim=2, dropout_rate=DROPOUT_RATE).to(device)\n",
    "optimizer = torch.optim.Adam(model.parameters(), lr=LEARNING_RATE)\n",
    "criterion = torch.nn.CrossEntropyLoss()"
   ]
  },
  {
   "cell_type": "code",
   "execution_count": 19,
   "id": "db2e7a3e-1e4d-4f99-af36-cea56f7dab65",
   "metadata": {},
   "outputs": [],
   "source": [
    "train_config = {\n",
    "    \"num_epochs\": NUM_EPOCHS,\n",
    "    \"patience\": PATIENCE,\n",
    "    \"device\": device,\n",
    "    \"criterion\": criterion,\n",
    "    \"optimizer\": optimizer,\n",
    "}"
   ]
  },
  {
   "cell_type": "code",
   "execution_count": 20,
   "id": "38b8ebbd-6e46-407b-8c07-df0de71665f6",
   "metadata": {},
   "outputs": [],
   "source": [
    "#train(model, train_loader, val_loader, train_config, model_checkpoints_path + \"best_model_GAT.pth\")"
   ]
  },
  {
   "cell_type": "code",
   "execution_count": 21,
   "id": "2c0dd508-da62-471d-9f51-9591f81f480f",
   "metadata": {},
   "outputs": [
    {
     "data": {
      "text/plain": [
       "<All keys matched successfully>"
      ]
     },
     "execution_count": 21,
     "metadata": {},
     "output_type": "execute_result"
    }
   ],
   "source": [
    "# Load the best model after training\n",
    "model.load_state_dict(torch.load(model_checkpoints_path + \"best_model_GAT.pth\", weights_only=True))"
   ]
  },
  {
   "cell_type": "code",
   "execution_count": 22,
   "id": "f7b3252d-6cef-4e4d-9241-f27955ee9df1",
   "metadata": {},
   "outputs": [
    {
     "name": "stdout",
     "output_type": "stream",
     "text": [
      "GAT(\n",
      "  (conv1): GATConv(5, 64, heads=1)\n",
      "  (bn1): BatchNorm1d(64, eps=1e-05, momentum=0.1, affine=True, track_running_stats=True)\n",
      "  (conv2): GATConv(64, 32, heads=1)\n",
      "  (bn2): BatchNorm1d(32, eps=1e-05, momentum=0.1, affine=True, track_running_stats=True)\n",
      "  (dropout): Dropout(p=0.3, inplace=False)\n",
      "  (fc): Linear(in_features=32, out_features=2, bias=True)\n",
      ")\n",
      "[np.int64(1), np.int64(1), np.int64(1), np.int64(1), np.int64(1), np.int64(0), np.int64(1), np.int64(0), np.int64(0), np.int64(1)]\n",
      "[np.int64(1), np.int64(1), np.int64(1), np.int64(1), np.int64(1), np.int64(0), np.int64(1), np.int64(0), np.int64(0), np.int64(1)]\n",
      "Accuracy: 0.9579\n"
     ]
    }
   ],
   "source": [
    "true_values, predicted_values, accuracy = evaluate(device, model, test_loader, model_checkpoints_path + \"best_model_GAT.pth\")"
   ]
  },
  {
   "cell_type": "code",
   "execution_count": 23,
   "id": "a169f2fa-cb48-404e-b976-d685b6405638",
   "metadata": {},
   "outputs": [
    {
     "data": {
      "image/png": "[encoded data removed]",
      "text/plain": [
       "<Figure size 640x480 with 2 Axes>"
      ]
     },
     "metadata": {},
     "output_type": "display_data"
    }
   ],
   "source": [
    "generate_matrix(true_values, predicted_values, accuracy, \"GAT\")"
   ]
  },
  {
   "cell_type": "code",
   "execution_count": null,
   "id": "bda88228-a275-4e3f-8e98-3dea19b63c6a",
   "metadata": {},
   "outputs": [],
   "source": []
  }
 ],
 "metadata": {
  "kernelspec": {
   "display_name": "Python 3 (ipykernel)",
   "language": "python",
   "name": "python3"
  },
  "language_info": {
   "codemirror_mode": {
    "name": "ipython",
    "version": 3
   },
   "file_extension": ".py",
   "mimetype": "text/x-python",
   "name": "python",
   "nbconvert_exporter": "python",
   "pygments_lexer": "ipython3",
   "version": "3.11.10"
  }
 },
 "nbformat": 4,
 "nbformat_minor": 5
}
