{
 "cells": [
  {
   "metadata": {
    "ExecuteTime": {
     "end_time": "2025-02-04T12:20:55.414751Z",
     "start_time": "2025-02-04T12:20:55.374638Z"
    }
   },
   "cell_type": "code",
   "source": [
    "import importlib\n",
    "import datamanip\n",
    "importlib.reload(datamanip.plots)"
   ],
   "id": "61db74da29e860b4",
   "outputs": [
    {
     "data": {
      "text/plain": [
       "<module 'datamanip.plots' from '/Users/einar/Documents/EDISS/Period 1/DIE/ADES-reliability-estimation/src/datamanip/plots.py'>"
      ]
     },
     "execution_count": 81,
     "metadata": {},
     "output_type": "execute_result"
    }
   ],
   "execution_count": 81
  },
  {
   "metadata": {
    "ExecuteTime": {
     "end_time": "2025-02-04T12:20:56.735333Z",
     "start_time": "2025-02-04T12:20:56.728729Z"
    }
   },
   "cell_type": "code",
   "source": [
    "import torch\n",
    "from filepath import *\n",
    "from datamanip.plots import generate_matrix, generate_metrics\n",
    "from models.GAT import GAT#, GCN, SimpleMPNN\n",
    "from train_eval.train import train\n",
    "from train_eval.evaluate import evaluate\n",
    "from datamanip.datasetmanip.three_five_dataset import ThreeFiveDataset\n",
    "from datamanip.datasetmanip.dataset_util import split_dataset"
   ],
   "id": "1b8602fbdefee2bb",
   "outputs": [],
   "execution_count": 82
  },
  {
   "metadata": {},
   "cell_type": "markdown",
   "source": [
    "# Model Selection by number of 9's\n",
    "### 1. Match 1-1: 0 vs. 7\n",
    "### 2. Match 2-1: 0/1 vs. 2/3\n",
    "### 3. Match 2-2: 4/5 vs. 6/7\n",
    "### 4. Match 3-1: 0 vs. 1\n",
    "### 5. Match 3-2: 2 vs. 3\n",
    "### 6. Match 3-3: 4 vs. 5\n",
    "### 7. Match 3-4: 6 vs. 7\n",
    "\n"
   ],
   "id": "4b4367eaefa0afab"
  },
  {
   "metadata": {
    "ExecuteTime": {
     "end_time": "2025-02-04T12:08:46.938113Z",
     "start_time": "2025-02-04T12:08:46.935226Z"
    }
   },
   "cell_type": "code",
   "source": "match = \"1-1\"",
   "id": "9f58b512338cbca1",
   "outputs": [],
   "execution_count": 60
  },
  {
   "metadata": {
    "ExecuteTime": {
     "end_time": "2025-02-04T12:08:46.949097Z",
     "start_time": "2025-02-04T12:08:46.946647Z"
    }
   },
   "cell_type": "code",
   "source": [
    "if match == \"1-1\":\n",
    "    NUM_EPOCHS = 1\n",
    "    DROPOUT_RATE = 0.3\n",
    "    LEARNING_RATE = 0.0005\n",
    "    NODE_FEATURES = 10\n",
    "    PATIENCE = 15\n",
    "    HIDDEN_DIM = 64\n",
    "else:\n",
    "    NUM_EPOCHS = 100\n",
    "    DROPOUT_RATE = 0.3\n",
    "    LEARNING_RATE = 0.0005\n",
    "    NODE_FEATURES = 10\n",
    "    PATIENCE = 15\n",
    "    HIDDEN_DIM = 64"
   ],
   "id": "af7d21d4096e7504",
   "outputs": [],
   "execution_count": 61
  },
  {
   "cell_type": "code",
   "id": "25d7cd5f-f1d3-4844-a218-365a41c5c127",
   "metadata": {
    "ExecuteTime": {
     "end_time": "2025-02-04T12:08:47.208919Z",
     "start_time": "2025-02-04T12:08:46.955924Z"
    }
   },
   "source": [
    "#Create list of Data objects, each containing the node features, edge indices, and target values\n",
    "data_list = ThreeFiveDataset(root=dataset_path, match=match)"
   ],
   "outputs": [],
   "execution_count": 62
  },
  {
   "metadata": {
    "ExecuteTime": {
     "end_time": "2025-02-04T12:08:53.700449Z",
     "start_time": "2025-02-04T12:08:47.224931Z"
    }
   },
   "cell_type": "code",
   "source": "train_loader, val_loader, test_loader = split_dataset(data_list)",
   "id": "ffd3e54c6af9ac8b",
   "outputs": [],
   "execution_count": 63
  },
  {
   "cell_type": "code",
   "id": "45354d30-7347-451e-9445-79761c7ffe69",
   "metadata": {
    "ExecuteTime": {
     "end_time": "2025-02-04T12:08:53.718232Z",
     "start_time": "2025-02-04T12:08:53.712318Z"
    }
   },
   "source": [
    "device = torch.device('cuda' if torch.cuda.is_available() else 'cpu')\n",
    "model = GAT(input_dim=NODE_FEATURES, hidden_dim=HIDDEN_DIM, output_dim=2, dropout_rate=DROPOUT_RATE).to(device)\n",
    "optimizer = torch.optim.Adam(model.parameters(), lr=LEARNING_RATE)\n",
    "criterion = torch.nn.CrossEntropyLoss()"
   ],
   "outputs": [],
   "execution_count": 64
  },
  {
   "cell_type": "code",
   "id": "db2e7a3e-1e4d-4f99-af36-cea56f7dab65",
   "metadata": {
    "ExecuteTime": {
     "end_time": "2025-02-04T12:08:53.730722Z",
     "start_time": "2025-02-04T12:08:53.728253Z"
    }
   },
   "source": [
    "train_config = {\n",
    "    \"num_epochs\": NUM_EPOCHS,\n",
    "    \"patience\": PATIENCE,\n",
    "    \"device\": device,\n",
    "    \"criterion\": criterion,\n",
    "    \"optimizer\": optimizer,\n",
    "}"
   ],
   "outputs": [],
   "execution_count": 65
  },
  {
   "cell_type": "code",
   "id": "38b8ebbd-6e46-407b-8c07-df0de71665f6",
   "metadata": {
    "ExecuteTime": {
     "end_time": "2025-02-04T12:09:02.585167Z",
     "start_time": "2025-02-04T12:08:53.737985Z"
    }
   },
   "source": "train(model, train_loader, val_loader, train_config, model_checkpoints_path + \"/booster/\" + match + \".pth\")",
   "outputs": [
    {
     "name": "stdout",
     "output_type": "stream",
     "text": [
      "Epoch 1/1, Train Loss: 0.3699\n",
      "Epoch 1/1, Validation Loss: 0.3186\n",
      "Best model updated based on validation loss.\n"
     ]
    },
    {
     "data": {
      "text/plain": [
       "([0.3698596240357584], [0.3185913209054855])"
      ]
     },
     "execution_count": 66,
     "metadata": {},
     "output_type": "execute_result"
    }
   ],
   "execution_count": 66
  },
  {
   "cell_type": "code",
   "id": "2c0dd508-da62-471d-9f51-9591f81f480f",
   "metadata": {
    "ExecuteTime": {
     "end_time": "2025-02-04T12:09:02.603153Z",
     "start_time": "2025-02-04T12:09:02.597240Z"
    }
   },
   "source": [
    "# Load the best model after training\n",
    "model.load_state_dict(torch.load(model_checkpoints_path + \"/booster/\" + match + \".pth\", weights_only=True))"
   ],
   "outputs": [
    {
     "data": {
      "text/plain": [
       "<All keys matched successfully>"
      ]
     },
     "execution_count": 67,
     "metadata": {},
     "output_type": "execute_result"
    }
   ],
   "execution_count": 67
  },
  {
   "cell_type": "code",
   "id": "f7b3252d-6cef-4e4d-9241-f27955ee9df1",
   "metadata": {
    "ExecuteTime": {
     "end_time": "2025-02-04T12:09:04.053219Z",
     "start_time": "2025-02-04T12:09:02.616608Z"
    }
   },
   "source": "true_values, predicted_values, accuracy = evaluate(device, model, test_loader, model_checkpoints_path + \"/booster/\" + match + \".pth\")",
   "outputs": [
    {
     "name": "stdout",
     "output_type": "stream",
     "text": [
      "GAT(\n",
      "  (conv1): GATConv(10, 64, heads=1)\n",
      "  (bn1): BatchNorm1d(64, eps=1e-05, momentum=0.1, affine=True, track_running_stats=True)\n",
      "  (conv2): GATConv(64, 32, heads=1)\n",
      "  (bn2): BatchNorm1d(32, eps=1e-05, momentum=0.1, affine=True, track_running_stats=True)\n",
      "  (dropout): Dropout(p=0.3, inplace=False)\n",
      "  (fc): Linear(in_features=32, out_features=2, bias=True)\n",
      ")\n",
      "[np.int64(0), np.int64(1), np.int64(0), np.int64(0), np.int64(0), np.int64(0), np.int64(0), np.int64(1), np.int64(0), np.int64(1)]\n",
      "[np.int64(0), np.int64(1), np.int64(0), np.int64(1), np.int64(0), np.int64(0), np.int64(0), np.int64(1), np.int64(0), np.int64(0)]\n",
      "Accuracy: 0.8477\n"
     ]
    }
   ],
   "execution_count": 68
  },
  {
   "cell_type": "code",
   "id": "a169f2fa-cb48-404e-b976-d685b6405638",
   "metadata": {
    "ExecuteTime": {
     "end_time": "2025-02-04T12:09:04.167253Z",
     "start_time": "2025-02-04T12:09:04.066191Z"
    }
   },
   "source": "generate_matrix(true_values, predicted_values, accuracy, \"GAT Match: \"  + match)",
   "outputs": [
    {
     "data": {
      "text/plain": [
       "<Figure size 640x480 with 2 Axes>"
      ],
      "image/png": "[encoded data removed]"
     },
     "metadata": {},
     "output_type": "display_data"
    }
   ],
   "execution_count": 69
  },
  {
   "metadata": {
    "ExecuteTime": {
     "end_time": "2025-02-04T12:20:59.583303Z",
     "start_time": "2025-02-04T12:20:59.510828Z"
    }
   },
   "cell_type": "code",
   "source": "generate_metrics(true_values, predicted_values, match, model_checkpoints_path, NUM_EPOCHS, LEARNING_RATE, NODE_FEATURES, DROPOUT_RATE, PATIENCE, HIDDEN_DIM)",
   "id": "2da014330419dafa",
   "outputs": [
    {
     "name": "stdout",
     "output_type": "stream",
     "text": [
      "Precision: 0.8837\n",
      "Recall: 0.7301\n",
      "F1 Score: 0.7996\n",
      "AUROC: 0.8308\n",
      "Accuracy: 0.8477\n",
      "Metrics saved to /Users/einar/Documents/EDISS/Period 1/DIE/ADES-reliability-estimation/src/../models/booster/results/1-1.csv\n"
     ]
    }
   ],
   "execution_count": 83
  }
 ],
 "metadata": {
  "kernelspec": {
   "display_name": "Python 3 (ipykernel)",
   "language": "python",
   "name": "python3"
  },
  "language_info": {
   "codemirror_mode": {
    "name": "ipython",
    "version": 3
   },
   "file_extension": ".py",
   "mimetype": "text/x-python",
   "name": "python",
   "nbconvert_exporter": "python",
   "pygments_lexer": "ipython3",
   "version": "3.11.10"
  }
 },
 "nbformat": 4,
 "nbformat_minor": 5
}
