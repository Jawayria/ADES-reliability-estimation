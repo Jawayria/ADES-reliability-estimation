{
 "cells": [
  {
   "metadata": {
    "ExecuteTime": {
     "end_time": "2025-02-05T11:09:27.496697Z",
     "start_time": "2025-02-05T11:09:27.484924Z"
    }
   },
   "cell_type": "code",
   "source": [
    "import importlib\n",
    "import datamanip\n",
    "importlib.reload(datamanip)"
   ],
   "id": "61db74da29e860b4",
   "outputs": [
    {
     "data": {
      "text/plain": [
       "<module 'datamanip' (namespace)>"
      ]
     },
     "execution_count": 341,
     "metadata": {},
     "output_type": "execute_result"
    }
   ],
   "execution_count": 341
  },
  {
   "metadata": {
    "ExecuteTime": {
     "end_time": "2025-02-05T11:09:27.506597Z",
     "start_time": "2025-02-05T11:09:27.501967Z"
    }
   },
   "cell_type": "code",
   "source": [
    "import torch\n",
    "from filepath import *\n",
    "from datamanip.plots import generate_matrix, generate_metrics\n",
    "from models.GAT import GAT#, GCN, SimpleMPNN\n",
    "from train_eval.train import train\n",
    "from train_eval.evaluate import evaluate\n",
    "from datamanip.datasetmanip.three_five_dataset import ThreeFiveDataset\n",
    "from datamanip.datasetmanip.dataset_util import split_dataset"
   ],
   "id": "1b8602fbdefee2bb",
   "outputs": [],
   "execution_count": 342
  },
  {
   "metadata": {},
   "cell_type": "markdown",
   "source": [
    "# Model Selection by number of 9's\n",
    "### 1. Match 1-1: 0 vs. 7\n",
    "### 2. Match 2-1: 0/1 vs. 2/3\n",
    "### 3. Match 2-2: 4/5 vs. 6/7\n",
    "### 4. Match 3-1: 0 vs. 1\n",
    "### 5. Match 3-2: 2 vs. 3\n",
    "### 6. Match 3-3: 4 vs. 5\n",
    "### 7. Match 3-4: 6 vs. 7\n",
    "\n"
   ],
   "id": "4b4367eaefa0afab"
  },
  {
   "metadata": {
    "ExecuteTime": {
     "end_time": "2025-02-05T11:09:27.535460Z",
     "start_time": "2025-02-05T11:09:27.533451Z"
    }
   },
   "cell_type": "code",
   "source": "match = \"3-1\"",
   "id": "9f58b512338cbca1",
   "outputs": [],
   "execution_count": 343
  },
  {
   "metadata": {
    "ExecuteTime": {
     "end_time": "2025-02-05T11:09:27.541188Z",
     "start_time": "2025-02-05T11:09:27.538131Z"
    }
   },
   "cell_type": "code",
   "source": [
    "if match == \"1-1\":\n",
    "    NUM_EPOCHS = 150\n",
    "    DROPOUT_RATE = 0.01\n",
    "    LEARNING_RATE = 0.0005\n",
    "    NODE_FEATURES = 10\n",
    "    PATIENCE = 30\n",
    "    HIDDEN_DIM = 64\n",
    "elif match == \"2-1\":\n",
    "    NUM_EPOCHS = 100\n",
    "    DROPOUT_RATE = 0.3\n",
    "    LEARNING_RATE = 0.0005\n",
    "    NODE_FEATURES = 10\n",
    "    PATIENCE = 15\n",
    "    HIDDEN_DIM = 16\n",
    "elif match == \"2-2\":\n",
    "    NUM_EPOCHS = 150\n",
    "    DROPOUT_RATE = 0.3\n",
    "    LEARNING_RATE = 0.0005\n",
    "    NODE_FEATURES = 10\n",
    "    PATIENCE = 15\n",
    "    HIDDEN_DIM = 28\n",
    "elif match == \"3-1\":\n",
    "    NUM_EPOCHS = 150\n",
    "    DROPOUT_RATE = 0.3\n",
    "    LEARNING_RATE = 0.0005\n",
    "    NODE_FEATURES = 10\n",
    "    PATIENCE = 15\n",
    "    HIDDEN_DIM = 82\n",
    "else:\n",
    "    NUM_EPOCHS = 100\n",
    "    DROPOUT_RATE = 0.2\n",
    "    LEARNING_RATE = 0.0007\n",
    "    NODE_FEATURES = 10\n",
    "    PATIENCE = 15\n",
    "    HIDDEN_DIM = 64"
   ],
   "id": "af7d21d4096e7504",
   "outputs": [],
   "execution_count": 344
  },
  {
   "cell_type": "code",
   "id": "25d7cd5f-f1d3-4844-a218-365a41c5c127",
   "metadata": {
    "ExecuteTime": {
     "end_time": "2025-02-05T11:09:27.625111Z",
     "start_time": "2025-02-05T11:09:27.548684Z"
    }
   },
   "source": [
    "#Create list of Data objects, each containing the node features, edge indices, and target values\n",
    "data_list = ThreeFiveDataset(root=dataset_path, match=match)"
   ],
   "outputs": [],
   "execution_count": 345
  },
  {
   "metadata": {
    "ExecuteTime": {
     "end_time": "2025-02-05T11:09:28.138486Z",
     "start_time": "2025-02-05T11:09:27.633421Z"
    }
   },
   "cell_type": "code",
   "source": "train_loader, val_loader, test_loader = split_dataset(data_list)",
   "id": "ffd3e54c6af9ac8b",
   "outputs": [],
   "execution_count": 346
  },
  {
   "cell_type": "code",
   "id": "45354d30-7347-451e-9445-79761c7ffe69",
   "metadata": {
    "ExecuteTime": {
     "end_time": "2025-02-05T11:09:28.151530Z",
     "start_time": "2025-02-05T11:09:28.145228Z"
    }
   },
   "source": [
    "device = torch.device('cuda' if torch.cuda.is_available() else 'cpu')\n",
    "model = GAT(input_dim=NODE_FEATURES, hidden_dim=HIDDEN_DIM, output_dim=2, dropout_rate=DROPOUT_RATE).to(device)\n",
    "optimizer = torch.optim.Adam(model.parameters(), lr=LEARNING_RATE)\n",
    "criterion = torch.nn.CrossEntropyLoss()"
   ],
   "outputs": [],
   "execution_count": 347
  },
  {
   "cell_type": "code",
   "id": "db2e7a3e-1e4d-4f99-af36-cea56f7dab65",
   "metadata": {
    "ExecuteTime": {
     "end_time": "2025-02-05T11:09:28.160182Z",
     "start_time": "2025-02-05T11:09:28.157602Z"
    }
   },
   "source": [
    "train_config = {\n",
    "    \"num_epochs\": NUM_EPOCHS,\n",
    "    \"patience\": PATIENCE,\n",
    "    \"device\": device,\n",
    "    \"criterion\": criterion,\n",
    "    \"optimizer\": optimizer,\n",
    "}"
   ],
   "outputs": [],
   "execution_count": 348
  },
  {
   "cell_type": "code",
   "id": "38b8ebbd-6e46-407b-8c07-df0de71665f6",
   "metadata": {
    "ExecuteTime": {
     "end_time": "2025-02-05T11:10:36.110723Z",
     "start_time": "2025-02-05T11:09:28.259291Z"
    }
   },
   "source": "train(model, train_loader, val_loader, train_config, model_checkpoints_path + \"/booster/\" + match + \".pth\")",
   "outputs": [
    {
     "name": "stdout",
     "output_type": "stream",
     "text": [
      "Epoch 1/150, Train Loss: 0.4027\n",
      "Epoch 1/150, Validation Loss: 0.3520\n",
      "Best model updated based on validation loss.\n",
      "Epoch 2/150, Train Loss: 0.3588\n",
      "Epoch 2/150, Validation Loss: 0.3509\n",
      "Best model updated based on validation loss.\n",
      "Epoch 3/150, Train Loss: 0.3594\n",
      "Epoch 3/150, Validation Loss: 0.3456\n",
      "Best model updated based on validation loss.\n",
      "Epoch 4/150, Train Loss: 0.3568\n",
      "Epoch 4/150, Validation Loss: 0.3649\n",
      "No improvement in validation loss for 1 epoch(s).\n",
      "Epoch 5/150, Train Loss: 0.3536\n",
      "Epoch 5/150, Validation Loss: 0.3467\n",
      "No improvement in validation loss for 2 epoch(s).\n",
      "Epoch 6/150, Train Loss: 0.3511\n",
      "Epoch 6/150, Validation Loss: 0.3673\n",
      "No improvement in validation loss for 3 epoch(s).\n",
      "Epoch 7/150, Train Loss: 0.3421\n",
      "Epoch 7/150, Validation Loss: 0.3811\n",
      "No improvement in validation loss for 4 epoch(s).\n",
      "Epoch 8/150, Train Loss: 0.3455\n",
      "Epoch 8/150, Validation Loss: 0.3679\n",
      "No improvement in validation loss for 5 epoch(s).\n",
      "Epoch 9/150, Train Loss: 0.3352\n",
      "Epoch 9/150, Validation Loss: 0.3578\n",
      "No improvement in validation loss for 6 epoch(s).\n",
      "Epoch 10/150, Train Loss: 0.3273\n",
      "Epoch 10/150, Validation Loss: 0.4265\n",
      "No improvement in validation loss for 7 epoch(s).\n",
      "Epoch 11/150, Train Loss: 0.3183\n",
      "Epoch 11/150, Validation Loss: 0.3294\n",
      "Best model updated based on validation loss.\n",
      "Epoch 12/150, Train Loss: 0.3046\n",
      "Epoch 12/150, Validation Loss: 0.8250\n",
      "No improvement in validation loss for 1 epoch(s).\n",
      "Epoch 13/150, Train Loss: 0.2757\n",
      "Epoch 13/150, Validation Loss: 0.6674\n",
      "No improvement in validation loss for 2 epoch(s).\n",
      "Epoch 14/150, Train Loss: 0.2629\n",
      "Epoch 14/150, Validation Loss: 0.8081\n",
      "No improvement in validation loss for 3 epoch(s).\n",
      "Epoch 15/150, Train Loss: 0.2392\n",
      "Epoch 15/150, Validation Loss: 0.3225\n",
      "Best model updated based on validation loss.\n",
      "Epoch 16/150, Train Loss: 0.2384\n",
      "Epoch 16/150, Validation Loss: 0.9706\n",
      "No improvement in validation loss for 1 epoch(s).\n",
      "Epoch 17/150, Train Loss: 0.2287\n",
      "Epoch 17/150, Validation Loss: 0.8539\n",
      "No improvement in validation loss for 2 epoch(s).\n",
      "Epoch 18/150, Train Loss: 0.2401\n",
      "Epoch 18/150, Validation Loss: 1.1465\n",
      "No improvement in validation loss for 3 epoch(s).\n",
      "Epoch 19/150, Train Loss: 0.2185\n",
      "Epoch 19/150, Validation Loss: 1.2487\n",
      "No improvement in validation loss for 4 epoch(s).\n",
      "Epoch 20/150, Train Loss: 0.2312\n",
      "Epoch 20/150, Validation Loss: 0.3586\n",
      "No improvement in validation loss for 5 epoch(s).\n",
      "Epoch 21/150, Train Loss: 0.2253\n",
      "Epoch 21/150, Validation Loss: 2.3510\n",
      "No improvement in validation loss for 6 epoch(s).\n",
      "Epoch 22/150, Train Loss: 0.2179\n",
      "Epoch 22/150, Validation Loss: 2.3034\n",
      "No improvement in validation loss for 7 epoch(s).\n",
      "Epoch 23/150, Train Loss: 0.2212\n",
      "Epoch 23/150, Validation Loss: 0.1797\n",
      "Best model updated based on validation loss.\n",
      "Epoch 24/150, Train Loss: 0.2256\n",
      "Epoch 24/150, Validation Loss: 0.2177\n",
      "No improvement in validation loss for 1 epoch(s).\n",
      "Epoch 25/150, Train Loss: 0.2102\n",
      "Epoch 25/150, Validation Loss: 0.3229\n",
      "No improvement in validation loss for 2 epoch(s).\n",
      "Epoch 26/150, Train Loss: 0.2168\n",
      "Epoch 26/150, Validation Loss: 0.4073\n",
      "No improvement in validation loss for 3 epoch(s).\n",
      "Epoch 27/150, Train Loss: 0.2094\n",
      "Epoch 27/150, Validation Loss: 0.5187\n",
      "No improvement in validation loss for 4 epoch(s).\n",
      "Epoch 28/150, Train Loss: 0.2118\n",
      "Epoch 28/150, Validation Loss: 0.2247\n",
      "No improvement in validation loss for 5 epoch(s).\n",
      "Epoch 29/150, Train Loss: 0.2089\n",
      "Epoch 29/150, Validation Loss: 0.2215\n",
      "No improvement in validation loss for 6 epoch(s).\n",
      "Epoch 30/150, Train Loss: 0.2105\n",
      "Epoch 30/150, Validation Loss: 0.3457\n",
      "No improvement in validation loss for 7 epoch(s).\n",
      "Epoch 31/150, Train Loss: 0.2105\n",
      "Epoch 31/150, Validation Loss: 0.2911\n",
      "No improvement in validation loss for 8 epoch(s).\n",
      "Epoch 32/150, Train Loss: 0.2113\n",
      "Epoch 32/150, Validation Loss: 0.2424\n",
      "No improvement in validation loss for 9 epoch(s).\n",
      "Epoch 33/150, Train Loss: 0.2158\n",
      "Epoch 33/150, Validation Loss: 0.2452\n",
      "No improvement in validation loss for 10 epoch(s).\n",
      "Epoch 34/150, Train Loss: 0.2171\n",
      "Epoch 34/150, Validation Loss: 0.1899\n",
      "No improvement in validation loss for 11 epoch(s).\n",
      "Epoch 35/150, Train Loss: 0.2166\n",
      "Epoch 35/150, Validation Loss: 0.4582\n",
      "No improvement in validation loss for 12 epoch(s).\n",
      "Epoch 36/150, Train Loss: 0.2104\n",
      "Epoch 36/150, Validation Loss: 0.4783\n",
      "No improvement in validation loss for 13 epoch(s).\n",
      "Epoch 37/150, Train Loss: 0.2061\n",
      "Epoch 37/150, Validation Loss: 0.1845\n",
      "No improvement in validation loss for 14 epoch(s).\n",
      "Epoch 38/150, Train Loss: 0.2063\n",
      "Epoch 38/150, Validation Loss: 0.2024\n",
      "No improvement in validation loss for 15 epoch(s).\n",
      "Early stopping triggered.\n"
     ]
    },
    {
     "data": {
      "text/plain": [
       "([0.40269184412927966,\n",
       "  0.3588006602887344,\n",
       "  0.3594256382244142,\n",
       "  0.35679709353289113,\n",
       "  0.3535934243896026,\n",
       "  0.3510619746926038,\n",
       "  0.3420636910842106,\n",
       "  0.345482258295471,\n",
       "  0.33515730271992006,\n",
       "  0.3273091243042541,\n",
       "  0.318270950449314,\n",
       "  0.3045615394095423,\n",
       "  0.27573420912793034,\n",
       "  0.2628636034315989,\n",
       "  0.23915634226245372,\n",
       "  0.23844060236993042,\n",
       "  0.22870768037562078,\n",
       "  0.2400639007317101,\n",
       "  0.21851550491725502,\n",
       "  0.23117601786088565,\n",
       "  0.2253144591928942,\n",
       "  0.21786416222234606,\n",
       "  0.22117858623769207,\n",
       "  0.2256104111553652,\n",
       "  0.21022267339257855,\n",
       "  0.21676304920948306,\n",
       "  0.20936177762247357,\n",
       "  0.21176676673763117,\n",
       "  0.20894684171370367,\n",
       "  0.21047490564259616,\n",
       "  0.21047919847277313,\n",
       "  0.211329115260201,\n",
       "  0.21582322264745418,\n",
       "  0.21714586924334525,\n",
       "  0.2166086454459801,\n",
       "  0.21044203574242798,\n",
       "  0.20613684631118426,\n",
       "  0.20632483824910855],\n",
       " [0.35201682525097266,\n",
       "  0.35092702856254293,\n",
       "  0.3456284312101511,\n",
       "  0.36493573761021597,\n",
       "  0.3467125838853904,\n",
       "  0.36734153233336275,\n",
       "  0.38110843781359804,\n",
       "  0.367917571745857,\n",
       "  0.3577706258325182,\n",
       "  0.42651258211737203,\n",
       "  0.32939782835675413,\n",
       "  0.8249855568334901,\n",
       "  0.6673825047579567,\n",
       "  0.8080918293380173,\n",
       "  0.32254277914762497,\n",
       "  0.9705962896568855,\n",
       "  0.85385926270626,\n",
       "  1.146494816438317,\n",
       "  1.2487437063139262,\n",
       "  0.3586122853097302,\n",
       "  2.3509666832024783,\n",
       "  2.3033945597529124,\n",
       "  0.17974378655736262,\n",
       "  0.21766018567706,\n",
       "  0.32287713564028575,\n",
       "  0.4072535116908818,\n",
       "  0.5187483400811811,\n",
       "  0.22470255489268245,\n",
       "  0.22148503597891894,\n",
       "  0.3457433259081558,\n",
       "  0.2910986947909703,\n",
       "  0.24237610913328164,\n",
       "  0.24518319953387305,\n",
       "  0.18992259194688685,\n",
       "  0.45815639713635814,\n",
       "  0.47829960022099627,\n",
       "  0.1845153685019919,\n",
       "  0.20239184483797593])"
      ]
     },
     "execution_count": 349,
     "metadata": {},
     "output_type": "execute_result"
    }
   ],
   "execution_count": 349
  },
  {
   "cell_type": "code",
   "id": "2c0dd508-da62-471d-9f51-9591f81f480f",
   "metadata": {
    "ExecuteTime": {
     "end_time": "2025-02-05T11:10:36.172738Z",
     "start_time": "2025-02-05T11:10:36.160626Z"
    }
   },
   "source": [
    "# Load the best model after training\n",
    "model.load_state_dict(torch.load(model_checkpoints_path + \"/booster/\" + match + \".pth\", weights_only=True))"
   ],
   "outputs": [
    {
     "data": {
      "text/plain": [
       "<All keys matched successfully>"
      ]
     },
     "execution_count": 350,
     "metadata": {},
     "output_type": "execute_result"
    }
   ],
   "execution_count": 350
  },
  {
   "cell_type": "code",
   "id": "f7b3252d-6cef-4e4d-9241-f27955ee9df1",
   "metadata": {
    "ExecuteTime": {
     "end_time": "2025-02-05T11:10:36.578332Z",
     "start_time": "2025-02-05T11:10:36.202374Z"
    }
   },
   "source": "true_values, predicted_values, accuracy = evaluate(device, model, test_loader, model_checkpoints_path + \"/booster/\" + match + \".pth\")",
   "outputs": [
    {
     "name": "stdout",
     "output_type": "stream",
     "text": [
      "GAT(\n",
      "  (conv1): GATConv(10, 82, heads=1)\n",
      "  (bn1): BatchNorm1d(82, eps=1e-05, momentum=0.1, affine=True, track_running_stats=True)\n",
      "  (conv2): GATConv(82, 41, heads=1)\n",
      "  (bn2): BatchNorm1d(41, eps=1e-05, momentum=0.1, affine=True, track_running_stats=True)\n",
      "  (dropout): Dropout(p=0.3, inplace=False)\n",
      "  (fc): Linear(in_features=41, out_features=2, bias=True)\n",
      ")\n",
      "[np.int64(0), np.int64(1), np.int64(0), np.int64(0), np.int64(1), np.int64(1), np.int64(1), np.int64(1), np.int64(1), np.int64(1)]\n",
      "[np.int64(0), np.int64(0), np.int64(0), np.int64(0), np.int64(1), np.int64(1), np.int64(1), np.int64(1), np.int64(1), np.int64(1)]\n",
      "Accuracy: 0.9280\n"
     ]
    }
   ],
   "execution_count": 351
  },
  {
   "cell_type": "code",
   "id": "a169f2fa-cb48-404e-b976-d685b6405638",
   "metadata": {
    "ExecuteTime": {
     "end_time": "2025-02-05T11:10:36.678476Z",
     "start_time": "2025-02-05T11:10:36.592973Z"
    }
   },
   "source": "generate_matrix(true_values, predicted_values, accuracy, \"GAT Match: \"  + match)",
   "outputs": [
    {
     "data": {
      "text/plain": [
       "<Figure size 640x480 with 2 Axes>"
      ],
      "image/png": "[encoded data removed]"
     },
     "metadata": {},
     "output_type": "display_data"
    }
   ],
   "execution_count": 352
  },
  {
   "metadata": {
    "ExecuteTime": {
     "end_time": "2025-02-05T11:10:36.696771Z",
     "start_time": "2025-02-05T11:10:36.688431Z"
    }
   },
   "cell_type": "code",
   "source": "generate_metrics(true_values, predicted_values, match, model_checkpoints_path, NUM_EPOCHS, LEARNING_RATE, NODE_FEATURES, DROPOUT_RATE, PATIENCE, HIDDEN_DIM)",
   "id": "2da014330419dafa",
   "outputs": [
    {
     "name": "stdout",
     "output_type": "stream",
     "text": [
      "Precision: 0.9642\n",
      "Recall: 0.9518\n",
      "F1 Score: 0.9580\n",
      "AUROC: 0.8660\n",
      "Accuracy: 0.9280\n",
      "Metrics saved to /Users/einar/Documents/EDISS/Period 1/DIE/ADES-reliability-estimation/src/../models/booster/results/3-1.csv\n"
     ]
    }
   ],
   "execution_count": 353
  }
 ],
 "metadata": {
  "kernelspec": {
   "display_name": "Python 3 (ipykernel)",
   "language": "python",
   "name": "python3"
  },
  "language_info": {
   "codemirror_mode": {
    "name": "ipython",
    "version": 3
   },
   "file_extension": ".py",
   "mimetype": "text/x-python",
   "name": "python",
   "nbconvert_exporter": "python",
   "pygments_lexer": "ipython3",
   "version": "3.11.10"
  }
 },
 "nbformat": 4,
 "nbformat_minor": 5
}
