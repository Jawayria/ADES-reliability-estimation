{
 "cells": [
  {
   "metadata": {
    "ExecuteTime": {
     "end_time": "2025-02-04T23:01:14.545516Z",
     "start_time": "2025-02-04T23:01:14.532171Z"
    }
   },
   "cell_type": "code",
   "source": [
    "import importlib\n",
    "import datamanip\n",
    "importlib.reload(datamanip)"
   ],
   "id": "61db74da29e860b4",
   "outputs": [
    {
     "data": {
      "text/plain": [
       "<module 'datamanip' (namespace)>"
      ]
     },
     "execution_count": 102,
     "metadata": {},
     "output_type": "execute_result"
    }
   ],
   "execution_count": 102
  },
  {
   "metadata": {
    "ExecuteTime": {
     "end_time": "2025-02-04T23:01:14.562588Z",
     "start_time": "2025-02-04T23:01:14.556554Z"
    }
   },
   "cell_type": "code",
   "source": [
    "import torch\n",
    "from filepath import *\n",
    "from datamanip.plots import generate_matrix, generate_metrics\n",
    "from models.GAT import GAT#, GCN, SimpleMPNN\n",
    "from train_eval.train import train\n",
    "from train_eval.evaluate import evaluate\n",
    "from datamanip.datasetmanip.three_five_dataset import ThreeFiveDataset\n",
    "from datamanip.datasetmanip.dataset_util import split_dataset"
   ],
   "id": "1b8602fbdefee2bb",
   "outputs": [],
   "execution_count": 103
  },
  {
   "metadata": {},
   "cell_type": "markdown",
   "source": [
    "# Model Selection by number of 9's\n",
    "### 1. Match 1-1: 0 vs. 7\n",
    "### 2. Match 2-1: 0/1 vs. 2/3\n",
    "### 3. Match 2-2: 4/5 vs. 6/7\n",
    "### 4. Match 3-1: 0 vs. 1\n",
    "### 5. Match 3-2: 2 vs. 3\n",
    "### 6. Match 3-3: 4 vs. 5\n",
    "### 7. Match 3-4: 6 vs. 7\n",
    "\n"
   ],
   "id": "4b4367eaefa0afab"
  },
  {
   "metadata": {
    "ExecuteTime": {
     "end_time": "2025-02-04T23:01:14.581966Z",
     "start_time": "2025-02-04T23:01:14.579034Z"
    }
   },
   "cell_type": "code",
   "source": "match = \"2-1\"",
   "id": "9f58b512338cbca1",
   "outputs": [],
   "execution_count": 104
  },
  {
   "metadata": {
    "ExecuteTime": {
     "end_time": "2025-02-04T23:01:14.596035Z",
     "start_time": "2025-02-04T23:01:14.590101Z"
    }
   },
   "cell_type": "code",
   "source": [
    "if match == \"1-1\":\n",
    "    NUM_EPOCHS = 150\n",
    "    DROPOUT_RATE = 0.01\n",
    "    LEARNING_RATE = 0.0005\n",
    "    NODE_FEATURES = 10\n",
    "    PATIENCE = 30\n",
    "    HIDDEN_DIM = 64\n",
    "elif match == \"2-1\":\n",
    "    NUM_EPOCHS = 100\n",
    "    DROPOUT_RATE = 0.3\n",
    "    LEARNING_RATE = 0.0005\n",
    "    NODE_FEATURES = 10\n",
    "    PATIENCE = 15\n",
    "    HIDDEN_DIM = 16\n",
    "else:\n",
    "    NUM_EPOCHS = 100\n",
    "    DROPOUT_RATE = 0.3\n",
    "    LEARNING_RATE = 0.0005\n",
    "    NODE_FEATURES = 10\n",
    "    PATIENCE = 15\n",
    "    HIDDEN_DIM = 64"
   ],
   "id": "af7d21d4096e7504",
   "outputs": [],
   "execution_count": 105
  },
  {
   "cell_type": "code",
   "id": "25d7cd5f-f1d3-4844-a218-365a41c5c127",
   "metadata": {
    "ExecuteTime": {
     "end_time": "2025-02-04T23:01:14.791225Z",
     "start_time": "2025-02-04T23:01:14.604780Z"
    }
   },
   "source": [
    "#Create list of Data objects, each containing the node features, edge indices, and target values\n",
    "data_list = ThreeFiveDataset(root=dataset_path, match=match)"
   ],
   "outputs": [],
   "execution_count": 106
  },
  {
   "metadata": {
    "ExecuteTime": {
     "end_time": "2025-02-04T23:01:18.480220Z",
     "start_time": "2025-02-04T23:01:14.797309Z"
    }
   },
   "cell_type": "code",
   "source": "train_loader, val_loader, test_loader = split_dataset(data_list)",
   "id": "ffd3e54c6af9ac8b",
   "outputs": [],
   "execution_count": 107
  },
  {
   "cell_type": "code",
   "id": "45354d30-7347-451e-9445-79761c7ffe69",
   "metadata": {
    "ExecuteTime": {
     "end_time": "2025-02-04T23:01:18.495064Z",
     "start_time": "2025-02-04T23:01:18.487549Z"
    }
   },
   "source": [
    "device = torch.device('cuda' if torch.cuda.is_available() else 'cpu')\n",
    "model = GAT(input_dim=NODE_FEATURES, hidden_dim=HIDDEN_DIM, output_dim=2, dropout_rate=DROPOUT_RATE).to(device)\n",
    "optimizer = torch.optim.Adam(model.parameters(), lr=LEARNING_RATE)\n",
    "criterion = torch.nn.CrossEntropyLoss()"
   ],
   "outputs": [],
   "execution_count": 108
  },
  {
   "cell_type": "code",
   "id": "db2e7a3e-1e4d-4f99-af36-cea56f7dab65",
   "metadata": {
    "ExecuteTime": {
     "end_time": "2025-02-04T23:01:18.504742Z",
     "start_time": "2025-02-04T23:01:18.501219Z"
    }
   },
   "source": [
    "train_config = {\n",
    "    \"num_epochs\": NUM_EPOCHS,\n",
    "    \"patience\": PATIENCE,\n",
    "    \"device\": device,\n",
    "    \"criterion\": criterion,\n",
    "    \"optimizer\": optimizer,\n",
    "}"
   ],
   "outputs": [],
   "execution_count": 109
  },
  {
   "cell_type": "code",
   "id": "38b8ebbd-6e46-407b-8c07-df0de71665f6",
   "metadata": {
    "ExecuteTime": {
     "end_time": "2025-02-04T23:06:18.522230Z",
     "start_time": "2025-02-04T23:01:18.514184Z"
    }
   },
   "source": "train(model, train_loader, val_loader, train_config, model_checkpoints_path + \"/booster/\" + match + \".pth\")",
   "outputs": [
    {
     "name": "stdout",
     "output_type": "stream",
     "text": [
      "Epoch 1/100, Train Loss: 0.4770\n",
      "Epoch 1/100, Validation Loss: 0.6960\n",
      "Best model updated based on validation loss.\n",
      "Epoch 2/100, Train Loss: 0.4254\n",
      "Epoch 2/100, Validation Loss: 0.7179\n",
      "No improvement in validation loss for 1 epoch(s).\n",
      "Epoch 3/100, Train Loss: 0.4003\n",
      "Epoch 3/100, Validation Loss: 0.4445\n",
      "Best model updated based on validation loss.\n",
      "Epoch 4/100, Train Loss: 0.3827\n",
      "Epoch 4/100, Validation Loss: 0.5839\n",
      "No improvement in validation loss for 1 epoch(s).\n",
      "Epoch 5/100, Train Loss: 0.3742\n",
      "Epoch 5/100, Validation Loss: 0.3499\n",
      "Best model updated based on validation loss.\n",
      "Epoch 6/100, Train Loss: 0.3837\n",
      "Epoch 6/100, Validation Loss: 0.3890\n",
      "No improvement in validation loss for 1 epoch(s).\n",
      "Epoch 7/100, Train Loss: 0.3708\n",
      "Epoch 7/100, Validation Loss: 0.3666\n",
      "No improvement in validation loss for 2 epoch(s).\n",
      "Epoch 8/100, Train Loss: 0.3581\n",
      "Epoch 8/100, Validation Loss: 0.8602\n",
      "No improvement in validation loss for 3 epoch(s).\n",
      "Epoch 9/100, Train Loss: 0.3702\n",
      "Epoch 9/100, Validation Loss: 0.3232\n",
      "Best model updated based on validation loss.\n",
      "Epoch 10/100, Train Loss: 0.3563\n",
      "Epoch 10/100, Validation Loss: 0.3928\n",
      "No improvement in validation loss for 1 epoch(s).\n",
      "Epoch 11/100, Train Loss: 0.3527\n",
      "Epoch 11/100, Validation Loss: 0.3103\n",
      "Best model updated based on validation loss.\n",
      "Epoch 12/100, Train Loss: 0.3597\n",
      "Epoch 12/100, Validation Loss: 0.3444\n",
      "No improvement in validation loss for 1 epoch(s).\n",
      "Epoch 13/100, Train Loss: 0.3543\n",
      "Epoch 13/100, Validation Loss: 0.3496\n",
      "No improvement in validation loss for 2 epoch(s).\n",
      "Epoch 14/100, Train Loss: 0.3543\n",
      "Epoch 14/100, Validation Loss: 0.6927\n",
      "No improvement in validation loss for 3 epoch(s).\n",
      "Epoch 15/100, Train Loss: 0.3463\n",
      "Epoch 15/100, Validation Loss: 0.3464\n",
      "No improvement in validation loss for 4 epoch(s).\n",
      "Epoch 16/100, Train Loss: 0.3439\n",
      "Epoch 16/100, Validation Loss: 0.4504\n",
      "No improvement in validation loss for 5 epoch(s).\n",
      "Epoch 17/100, Train Loss: 0.3322\n",
      "Epoch 17/100, Validation Loss: 0.2781\n",
      "Best model updated based on validation loss.\n",
      "Epoch 18/100, Train Loss: 0.3300\n",
      "Epoch 18/100, Validation Loss: 0.3091\n",
      "No improvement in validation loss for 1 epoch(s).\n",
      "Epoch 19/100, Train Loss: 0.3262\n",
      "Epoch 19/100, Validation Loss: 0.8756\n",
      "No improvement in validation loss for 2 epoch(s).\n",
      "Epoch 20/100, Train Loss: 0.3226\n",
      "Epoch 20/100, Validation Loss: 0.3396\n",
      "No improvement in validation loss for 3 epoch(s).\n",
      "Epoch 21/100, Train Loss: 0.3209\n",
      "Epoch 21/100, Validation Loss: 0.5274\n",
      "No improvement in validation loss for 4 epoch(s).\n",
      "Epoch 22/100, Train Loss: 0.3200\n",
      "Epoch 22/100, Validation Loss: 1.6454\n",
      "No improvement in validation loss for 5 epoch(s).\n",
      "Epoch 23/100, Train Loss: 0.3171\n",
      "Epoch 23/100, Validation Loss: 0.3733\n",
      "No improvement in validation loss for 6 epoch(s).\n",
      "Epoch 24/100, Train Loss: 0.3168\n",
      "Epoch 24/100, Validation Loss: 0.7953\n",
      "No improvement in validation loss for 7 epoch(s).\n",
      "Epoch 25/100, Train Loss: 0.3218\n",
      "Epoch 25/100, Validation Loss: 0.3308\n",
      "No improvement in validation loss for 8 epoch(s).\n",
      "Epoch 26/100, Train Loss: 0.3105\n",
      "Epoch 26/100, Validation Loss: 0.2912\n",
      "No improvement in validation loss for 9 epoch(s).\n",
      "Epoch 27/100, Train Loss: 0.3151\n",
      "Epoch 27/100, Validation Loss: 0.5499\n",
      "No improvement in validation loss for 10 epoch(s).\n",
      "Epoch 28/100, Train Loss: 0.3091\n",
      "Epoch 28/100, Validation Loss: 0.5044\n",
      "No improvement in validation loss for 11 epoch(s).\n",
      "Epoch 29/100, Train Loss: 0.3140\n",
      "Epoch 29/100, Validation Loss: 0.7742\n",
      "No improvement in validation loss for 12 epoch(s).\n",
      "Epoch 30/100, Train Loss: 0.3128\n",
      "Epoch 30/100, Validation Loss: 0.3735\n",
      "No improvement in validation loss for 13 epoch(s).\n",
      "Epoch 31/100, Train Loss: 0.3124\n",
      "Epoch 31/100, Validation Loss: 0.2902\n",
      "No improvement in validation loss for 14 epoch(s).\n",
      "Epoch 32/100, Train Loss: 0.3072\n",
      "Epoch 32/100, Validation Loss: 0.2734\n",
      "Best model updated based on validation loss.\n",
      "Epoch 33/100, Train Loss: 0.3054\n",
      "Epoch 33/100, Validation Loss: 0.2670\n",
      "Best model updated based on validation loss.\n",
      "Epoch 34/100, Train Loss: 0.3077\n",
      "Epoch 34/100, Validation Loss: 0.3519\n",
      "No improvement in validation loss for 1 epoch(s).\n",
      "Epoch 35/100, Train Loss: 0.3086\n",
      "Epoch 35/100, Validation Loss: 0.2800\n",
      "No improvement in validation loss for 2 epoch(s).\n",
      "Epoch 36/100, Train Loss: 0.3047\n",
      "Epoch 36/100, Validation Loss: 0.2793\n",
      "No improvement in validation loss for 3 epoch(s).\n",
      "Epoch 37/100, Train Loss: 0.3100\n",
      "Epoch 37/100, Validation Loss: 0.3296\n",
      "No improvement in validation loss for 4 epoch(s).\n",
      "Epoch 38/100, Train Loss: 0.3027\n",
      "Epoch 38/100, Validation Loss: 0.2856\n",
      "No improvement in validation loss for 5 epoch(s).\n",
      "Epoch 39/100, Train Loss: 0.3018\n",
      "Epoch 39/100, Validation Loss: 0.2633\n",
      "Best model updated based on validation loss.\n",
      "Epoch 40/100, Train Loss: 0.3033\n",
      "Epoch 40/100, Validation Loss: 0.2875\n",
      "No improvement in validation loss for 1 epoch(s).\n",
      "Epoch 41/100, Train Loss: 0.3095\n",
      "Epoch 41/100, Validation Loss: 0.6651\n",
      "No improvement in validation loss for 2 epoch(s).\n",
      "Epoch 42/100, Train Loss: 0.2997\n",
      "Epoch 42/100, Validation Loss: 0.3143\n",
      "No improvement in validation loss for 3 epoch(s).\n",
      "Epoch 43/100, Train Loss: 0.3015\n",
      "Epoch 43/100, Validation Loss: 0.2617\n",
      "Best model updated based on validation loss.\n",
      "Epoch 44/100, Train Loss: 0.3057\n",
      "Epoch 44/100, Validation Loss: 0.2966\n",
      "No improvement in validation loss for 1 epoch(s).\n",
      "Epoch 45/100, Train Loss: 0.3259\n",
      "Epoch 45/100, Validation Loss: 0.3438\n",
      "No improvement in validation loss for 2 epoch(s).\n",
      "Epoch 46/100, Train Loss: 0.3053\n",
      "Epoch 46/100, Validation Loss: 0.2745\n",
      "No improvement in validation loss for 3 epoch(s).\n",
      "Epoch 47/100, Train Loss: 0.2971\n",
      "Epoch 47/100, Validation Loss: 0.3505\n",
      "No improvement in validation loss for 4 epoch(s).\n",
      "Epoch 48/100, Train Loss: 0.2948\n",
      "Epoch 48/100, Validation Loss: 0.2526\n",
      "Best model updated based on validation loss.\n",
      "Epoch 49/100, Train Loss: 0.2953\n",
      "Epoch 49/100, Validation Loss: 0.2761\n",
      "No improvement in validation loss for 1 epoch(s).\n",
      "Epoch 50/100, Train Loss: 0.2961\n",
      "Epoch 50/100, Validation Loss: 1.0108\n",
      "No improvement in validation loss for 2 epoch(s).\n",
      "Epoch 51/100, Train Loss: 0.2960\n",
      "Epoch 51/100, Validation Loss: 0.2843\n",
      "No improvement in validation loss for 3 epoch(s).\n",
      "Epoch 52/100, Train Loss: 0.2953\n",
      "Epoch 52/100, Validation Loss: 0.3295\n",
      "No improvement in validation loss for 4 epoch(s).\n",
      "Epoch 53/100, Train Loss: 0.3216\n",
      "Epoch 53/100, Validation Loss: 0.5267\n",
      "No improvement in validation loss for 5 epoch(s).\n",
      "Epoch 54/100, Train Loss: 0.3616\n",
      "Epoch 54/100, Validation Loss: 0.3027\n",
      "No improvement in validation loss for 6 epoch(s).\n",
      "Epoch 55/100, Train Loss: 0.3279\n",
      "Epoch 55/100, Validation Loss: 0.2981\n",
      "No improvement in validation loss for 7 epoch(s).\n",
      "Epoch 56/100, Train Loss: 0.3068\n",
      "Epoch 56/100, Validation Loss: 0.3053\n",
      "No improvement in validation loss for 8 epoch(s).\n",
      "Epoch 57/100, Train Loss: 0.2963\n",
      "Epoch 57/100, Validation Loss: 0.6716\n",
      "No improvement in validation loss for 9 epoch(s).\n",
      "Epoch 58/100, Train Loss: 0.3115\n",
      "Epoch 58/100, Validation Loss: 0.2886\n",
      "No improvement in validation loss for 10 epoch(s).\n",
      "Epoch 59/100, Train Loss: 0.3103\n",
      "Epoch 59/100, Validation Loss: 0.4176\n",
      "No improvement in validation loss for 11 epoch(s).\n",
      "Epoch 60/100, Train Loss: 0.3103\n",
      "Epoch 60/100, Validation Loss: 0.2929\n",
      "No improvement in validation loss for 12 epoch(s).\n",
      "Epoch 61/100, Train Loss: 0.3032\n",
      "Epoch 61/100, Validation Loss: 0.3083\n",
      "No improvement in validation loss for 13 epoch(s).\n",
      "Epoch 62/100, Train Loss: 0.3008\n",
      "Epoch 62/100, Validation Loss: 0.3309\n",
      "No improvement in validation loss for 14 epoch(s).\n",
      "Epoch 63/100, Train Loss: 0.3032\n",
      "Epoch 63/100, Validation Loss: 0.2544\n",
      "No improvement in validation loss for 15 epoch(s).\n",
      "Early stopping triggered.\n"
     ]
    },
    {
     "data": {
      "text/plain": [
       "([0.4770071358996847,\n",
       "  0.42544388215280016,\n",
       "  0.40034718494409854,\n",
       "  0.3826742357186038,\n",
       "  0.37421925019789565,\n",
       "  0.3836981748242067,\n",
       "  0.37080593232955283,\n",
       "  0.3580599285413319,\n",
       "  0.3701754680680119,\n",
       "  0.35625980414359676,\n",
       "  0.35274112899504934,\n",
       "  0.3597179092014367,\n",
       "  0.3542700544007213,\n",
       "  0.3542881588741896,\n",
       "  0.34632135593230545,\n",
       "  0.3439313840339722,\n",
       "  0.33217363922973636,\n",
       "  0.3299550007998581,\n",
       "  0.3262289454481802,\n",
       "  0.3226304627117901,\n",
       "  0.32094261745511277,\n",
       "  0.3199705472291421,\n",
       "  0.31709027155736075,\n",
       "  0.31681611311625735,\n",
       "  0.3217929206140008,\n",
       "  0.3105487572406287,\n",
       "  0.31507794878931966,\n",
       "  0.3090603166403106,\n",
       "  0.3139620688461099,\n",
       "  0.31284776478364823,\n",
       "  0.31237515876152616,\n",
       "  0.3071985470511864,\n",
       "  0.3054380017834214,\n",
       "  0.30769034953757757,\n",
       "  0.3086093123417785,\n",
       "  0.3046830717289466,\n",
       "  0.30997709303656934,\n",
       "  0.30269682168892703,\n",
       "  0.3018272496658087,\n",
       "  0.30333489170561917,\n",
       "  0.309474029321872,\n",
       "  0.2997263687821143,\n",
       "  0.3014614591148761,\n",
       "  0.3057371819022334,\n",
       "  0.3259252883524065,\n",
       "  0.3052793164107843,\n",
       "  0.2970689915305358,\n",
       "  0.29476152826289115,\n",
       "  0.2952634239350615,\n",
       "  0.29606488079533944,\n",
       "  0.2960082512642992,\n",
       "  0.2952961565885195,\n",
       "  0.32159900620036763,\n",
       "  0.3615691971848248,\n",
       "  0.3278892072189132,\n",
       "  0.3068331895539394,\n",
       "  0.296318604165937,\n",
       "  0.31153563976943915,\n",
       "  0.3103149271445718,\n",
       "  0.31026516492791506,\n",
       "  0.3032291611139983,\n",
       "  0.300784846801718,\n",
       "  0.3032192802245197],\n",
       " [0.6959889083083193,\n",
       "  0.7179089976370063,\n",
       "  0.444519654413818,\n",
       "  0.5838894367625029,\n",
       "  0.3499272699511648,\n",
       "  0.38898686997942933,\n",
       "  0.3666403914981257,\n",
       "  0.8601697263546706,\n",
       "  0.3232336936346135,\n",
       "  0.39278868629352637,\n",
       "  0.31033269581646405,\n",
       "  0.3444243902411193,\n",
       "  0.3495532475943269,\n",
       "  0.6926680378706304,\n",
       "  0.346442338749088,\n",
       "  0.45039100390442044,\n",
       "  0.2781450964612194,\n",
       "  0.30907860281841887,\n",
       "  0.8756001196202451,\n",
       "  0.3396392972950508,\n",
       "  0.5273903829465325,\n",
       "  1.6453869030874488,\n",
       "  0.37328679622214556,\n",
       "  0.7953449012612718,\n",
       "  0.33078218802063525,\n",
       "  0.2911981415619709,\n",
       "  0.5498534062473112,\n",
       "  0.5043837040074859,\n",
       "  0.7742099813348154,\n",
       "  0.37352727235991606,\n",
       "  0.29015961455602385,\n",
       "  0.2734490872469585,\n",
       "  0.2669902893181817,\n",
       "  0.3518938374039978,\n",
       "  0.2800147665073821,\n",
       "  0.27927287841252474,\n",
       "  0.32957716605573756,\n",
       "  0.2855572695921603,\n",
       "  0.2632589815029018,\n",
       "  0.2875164127279757,\n",
       "  0.6650851140525164,\n",
       "  0.31427108617400545,\n",
       "  0.26168741288627406,\n",
       "  0.2965984737248992,\n",
       "  0.3438152750227629,\n",
       "  0.2744841540574304,\n",
       "  0.350478856534625,\n",
       "  0.25261181737656657,\n",
       "  0.2761463142920155,\n",
       "  1.0108100688353474,\n",
       "  0.2843350574758599,\n",
       "  0.3295115081336185,\n",
       "  0.5266789695889617,\n",
       "  0.30267057952235066,\n",
       "  0.29809872533035026,\n",
       "  0.30532432293833117,\n",
       "  0.671632906373969,\n",
       "  0.2885975876430188,\n",
       "  0.41757482282353825,\n",
       "  0.29285733072774,\n",
       "  0.30830780507174177,\n",
       "  0.3308685924151237,\n",
       "  0.2544090641557899])"
      ]
     },
     "execution_count": 110,
     "metadata": {},
     "output_type": "execute_result"
    }
   ],
   "execution_count": 110
  },
  {
   "cell_type": "code",
   "id": "2c0dd508-da62-471d-9f51-9591f81f480f",
   "metadata": {
    "ExecuteTime": {
     "end_time": "2025-02-04T23:06:18.609139Z",
     "start_time": "2025-02-04T23:06:18.601038Z"
    }
   },
   "source": [
    "# Load the best model after training\n",
    "model.load_state_dict(torch.load(model_checkpoints_path + \"/booster/\" + match + \".pth\", weights_only=True))"
   ],
   "outputs": [
    {
     "data": {
      "text/plain": [
       "<All keys matched successfully>"
      ]
     },
     "execution_count": 111,
     "metadata": {},
     "output_type": "execute_result"
    }
   ],
   "execution_count": 111
  },
  {
   "cell_type": "code",
   "id": "f7b3252d-6cef-4e4d-9241-f27955ee9df1",
   "metadata": {
    "ExecuteTime": {
     "end_time": "2025-02-04T23:06:19.491524Z",
     "start_time": "2025-02-04T23:06:18.668036Z"
    }
   },
   "source": "true_values, predicted_values, accuracy = evaluate(device, model, test_loader, model_checkpoints_path + \"/booster/\" + match + \".pth\")",
   "outputs": [
    {
     "name": "stdout",
     "output_type": "stream",
     "text": [
      "GAT(\n",
      "  (conv1): GATConv(10, 16, heads=1)\n",
      "  (bn1): BatchNorm1d(16, eps=1e-05, momentum=0.1, affine=True, track_running_stats=True)\n",
      "  (conv2): GATConv(16, 8, heads=1)\n",
      "  (bn2): BatchNorm1d(8, eps=1e-05, momentum=0.1, affine=True, track_running_stats=True)\n",
      "  (dropout): Dropout(p=0.3, inplace=False)\n",
      "  (fc): Linear(in_features=8, out_features=2, bias=True)\n",
      ")\n",
      "[np.int64(0), np.int64(1), np.int64(1), np.int64(1), np.int64(0), np.int64(1), np.int64(1), np.int64(1), np.int64(1), np.int64(0)]\n",
      "[np.int64(0), np.int64(1), np.int64(1), np.int64(1), np.int64(1), np.int64(1), np.int64(1), np.int64(1), np.int64(1), np.int64(0)]\n",
      "Accuracy: 0.8883\n"
     ]
    }
   ],
   "execution_count": 112
  },
  {
   "cell_type": "code",
   "id": "a169f2fa-cb48-404e-b976-d685b6405638",
   "metadata": {
    "ExecuteTime": {
     "end_time": "2025-02-04T23:06:19.604811Z",
     "start_time": "2025-02-04T23:06:19.500985Z"
    }
   },
   "source": "generate_matrix(true_values, predicted_values, accuracy, \"GAT Match: \"  + match)",
   "outputs": [
    {
     "data": {
      "text/plain": [
       "<Figure size 640x480 with 2 Axes>"
      ],
      "image/png": "[encoded data removed]"
     },
     "metadata": {},
     "output_type": "display_data"
    }
   ],
   "execution_count": 113
  },
  {
   "metadata": {
    "ExecuteTime": {
     "end_time": "2025-02-04T23:06:19.650211Z",
     "start_time": "2025-02-04T23:06:19.615189Z"
    }
   },
   "cell_type": "code",
   "source": "generate_metrics(true_values, predicted_values, match, model_checkpoints_path, NUM_EPOCHS, LEARNING_RATE, NODE_FEATURES, DROPOUT_RATE, PATIENCE, HIDDEN_DIM)",
   "id": "2da014330419dafa",
   "outputs": [
    {
     "name": "stdout",
     "output_type": "stream",
     "text": [
      "Precision: 0.9150\n",
      "Recall: 0.9362\n",
      "F1 Score: 0.9255\n",
      "AUROC: 0.8438\n",
      "Accuracy: 0.8883\n",
      "Metrics saved to /Users/einar/Documents/EDISS/Period 1/DIE/ADES-reliability-estimation/src/../models/booster/results/2-1.csv\n"
     ]
    }
   ],
   "execution_count": 114
  }
 ],
 "metadata": {
  "kernelspec": {
   "display_name": "Python 3 (ipykernel)",
   "language": "python",
   "name": "python3"
  },
  "language_info": {
   "codemirror_mode": {
    "name": "ipython",
    "version": 3
   },
   "file_extension": ".py",
   "mimetype": "text/x-python",
   "name": "python",
   "nbconvert_exporter": "python",
   "pygments_lexer": "ipython3",
   "version": "3.11.10"
  }
 },
 "nbformat": 4,
 "nbformat_minor": 5
}
