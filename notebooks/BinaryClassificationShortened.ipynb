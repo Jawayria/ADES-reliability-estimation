{
 "cells": [
  {
   "cell_type": "code",
   "execution_count": 1,
   "id": "20876ddc86219ad6",
   "metadata": {
    "ExecuteTime": {
     "end_time": "2025-02-06T19:58:29.596650Z",
     "start_time": "2025-02-06T19:58:29.585841Z"
    }
   },
   "outputs": [
    {
     "data": {
      "text/plain": [
       "<module 'datamanip' (<_frozen_importlib_external.NamespaceLoader object at 0x10351d110>)>"
      ]
     },
     "execution_count": 1,
     "metadata": {},
     "output_type": "execute_result"
    }
   ],
   "source": [
    "import importlib\n",
    "import datamanip\n",
    "importlib.reload(datamanip)"
   ]
  },
  {
   "cell_type": "code",
   "execution_count": 2,
   "id": "93f8ba8bac98d962",
   "metadata": {
    "ExecuteTime": {
     "end_time": "2025-02-06T19:58:37.738987Z",
     "start_time": "2025-02-06T19:58:29.602659Z"
    }
   },
   "outputs": [],
   "source": [
    "import torch\n",
    "from filepath import *\n",
    "from datamanip.plots import generate_matrix, generate_metrics\n",
    "from models.GAT import GAT#, GCN, SimpleMPNN\n",
    "from train_eval.train import train\n",
    "from train_eval.evaluate import evaluate\n",
    "from datamanip.datasetmanip.three_five_dataset import ThreeFiveDataset\n",
    "from datamanip.datasetmanip.dataset_util import create_loaders"
   ]
  },
  {
   "cell_type": "markdown",
   "id": "a2ed7ad0113530ba",
   "metadata": {},
   "source": [
    "# Model Selection by number of 9's\n",
    "### 1. Match 1-1: 0 vs. 7\n",
    "### 2. Match 2-1: 0/1 vs. 2/3\n",
    "### 3. Match 2-2: 4/5 vs. 6/7\n",
    "### 4. Match 3-1: 0 vs. 1\n",
    "### 5. Match 3-2: 2 vs. 3\n",
    "### 6. Match 3-3: 4 vs. 5\n",
    "### 7. Match 3-4: 6 vs. 7\n",
    "\n"
   ]
  },
  {
   "cell_type": "code",
   "execution_count": 3,
   "id": "5d77e32da00081ab",
   "metadata": {
    "ExecuteTime": {
     "end_time": "2025-02-06T19:58:37.944840Z",
     "start_time": "2025-02-06T19:58:37.941278Z"
    }
   },
   "outputs": [],
   "source": [
    "match = \"2-1\""
   ]
  },
  {
   "cell_type": "code",
   "execution_count": 4,
   "id": "bf2f6a33f2886a44",
   "metadata": {
    "ExecuteTime": {
     "end_time": "2025-02-06T19:58:37.961776Z",
     "start_time": "2025-02-06T19:58:37.954917Z"
    }
   },
   "outputs": [],
   "source": [
    "if match == \"1-1\":\n",
    "    NUM_EPOCHS = 200\n",
    "    DROPOUT_RATE = 0.15\n",
    "    LEARNING_RATE = 0.0008\n",
    "    NODE_FEATURES = 12\n",
    "    PATIENCE = 30\n",
    "    HIDDEN_DIM = 128\n",
    "elif match == \"2-1\":\n",
    "    NUM_EPOCHS = 200\n",
    "    DROPOUT_RATE = 0.15\n",
    "    LEARNING_RATE = 0.0008\n",
    "    NODE_FEATURES = 12\n",
    "    PATIENCE = 15\n",
    "    HIDDEN_DIM = 16\n",
    "elif match == \"2-2\":\n",
    "    NUM_EPOCHS = 150\n",
    "    DROPOUT_RATE = 0.3\n",
    "    LEARNING_RATE = 0.0005\n",
    "    NODE_FEATURES = 12\n",
    "    PATIENCE = 15\n",
    "    HIDDEN_DIM = 28\n",
    "elif match == \"3-1\":\n",
    "    NUM_EPOCHS = 150\n",
    "    DROPOUT_RATE = 0.3\n",
    "    LEARNING_RATE = 0.0005\n",
    "    NODE_FEATURES = 12\n",
    "    PATIENCE = 15\n",
    "    HIDDEN_DIM = 82\n",
    "elif match == \"3-2\":\n",
    "    NUM_EPOCHS = 200\n",
    "    DROPOUT_RATE = 0.3\n",
    "    LEARNING_RATE = 0.0001\n",
    "    NODE_FEATURES = 12\n",
    "    PATIENCE = 30\n",
    "    HIDDEN_DIM = 128\n",
    "elif match == \"3-3\":\n",
    "    NUM_EPOCHS = 250\n",
    "    DROPOUT_RATE = 0.3\n",
    "    LEARNING_RATE = 0.0005\n",
    "    NODE_FEATURES = 12\n",
    "    PATIENCE = 30\n",
    "    HIDDEN_DIM = 64\n",
    "elif match == \"3-4\":\n",
    "    NUM_EPOCHS = 200\n",
    "    DROPOUT_RATE = 0.3\n",
    "    LEARNING_RATE = 0.0005\n",
    "    NODE_FEATURES = 12\n",
    "    PATIENCE = 20\n",
    "    HIDDEN_DIM = 32\n",
    "else:\n",
    "    NUM_EPOCHS = 100\n",
    "    DROPOUT_RATE = 0.2\n",
    "    LEARNING_RATE = 0.0007\n",
    "    NODE_FEATURES = 12\n",
    "    PATIENCE = 15\n",
    "    HIDDEN_DIM = 64"
   ]
  },
  {
   "cell_type": "code",
   "execution_count": 5,
   "id": "2ba9a1fa93b8f7b9",
   "metadata": {
    "ExecuteTime": {
     "end_time": "2025-02-06T20:36:08.937224Z",
     "start_time": "2025-02-06T19:58:37.972759Z"
    }
   },
   "outputs": [],
   "source": [
    "#Create list of Data objects, each containing the node features, edge indices, and target values\n",
    "train_list = ThreeFiveDataset(root=dataset_path, match=match, test_train_val=\"train\")\n",
    "test_list = ThreeFiveDataset(root=dataset_path, match=match, test_train_val=\"test\")\n",
    "val_list = ThreeFiveDataset(root=dataset_path, match=match, test_train_val=\"val\")"
   ]
  },
  {
   "cell_type": "code",
   "execution_count": 6,
   "id": "c4df5f6e44f44d99",
   "metadata": {
    "ExecuteTime": {
     "end_time": "2025-02-06T20:36:08.989927Z",
     "start_time": "2025-02-06T20:36:08.984653Z"
    }
   },
   "outputs": [],
   "source": [
    "train_loader, val_loader, test_loader = create_loaders(train_list, val_list, test_list)"
   ]
  },
  {
   "cell_type": "code",
   "execution_count": 7,
   "id": "bb6e9a3752579873",
   "metadata": {
    "ExecuteTime": {
     "end_time": "2025-02-06T20:36:09.118885Z",
     "start_time": "2025-02-06T20:36:09.017935Z"
    }
   },
   "outputs": [],
   "source": [
    "device = torch.device('cuda' if torch.cuda.is_available() else 'cpu')\n",
    "model = GAT(input_dim=NODE_FEATURES, hidden_dim=HIDDEN_DIM, output_dim=2, dropout_rate=DROPOUT_RATE).to(device)\n",
    "optimizer = torch.optim.Adam(model.parameters(), lr=LEARNING_RATE)\n",
    "criterion = torch.nn.CrossEntropyLoss()"
   ]
  },
  {
   "cell_type": "code",
   "execution_count": 8,
   "id": "558a8e6533c23b4e",
   "metadata": {
    "ExecuteTime": {
     "end_time": "2025-02-06T20:36:09.132125Z",
     "start_time": "2025-02-06T20:36:09.128749Z"
    }
   },
   "outputs": [],
   "source": [
    "train_config = {\n",
    "    \"num_epochs\": NUM_EPOCHS,\n",
    "    \"patience\": PATIENCE,\n",
    "    \"device\": device,\n",
    "    \"criterion\": criterion,\n",
    "    \"optimizer\": optimizer,\n",
    "}"
   ]
  },
  {
   "cell_type": "code",
   "execution_count": 9,
   "id": "e718e13b7de516fd",
   "metadata": {
    "ExecuteTime": {
     "end_time": "2025-02-06T20:36:10.090362Z",
     "start_time": "2025-02-06T20:36:09.142661Z"
    }
   },
   "outputs": [
    {
     "name": "stdout",
     "output_type": "stream",
     "text": [
      "Epoch 1/200, Train Loss: 0.4117\n",
      "Epoch 1/200, Validation Loss: 0.6146\n",
      "Best model updated based on validation loss.\n",
      "Epoch 2/200, Train Loss: 0.2898\n",
      "Epoch 2/200, Validation Loss: 0.3228\n",
      "Best model updated based on validation loss.\n",
      "Epoch 3/200, Train Loss: 0.2692\n",
      "Epoch 3/200, Validation Loss: 0.2185\n",
      "Best model updated based on validation loss.\n",
      "Epoch 4/200, Train Loss: 0.2789\n",
      "Epoch 4/200, Validation Loss: 0.3165\n",
      "No improvement in validation loss for 1 epoch(s).\n",
      "Epoch 5/200, Train Loss: 0.2663\n",
      "Epoch 5/200, Validation Loss: 0.2712\n",
      "No improvement in validation loss for 2 epoch(s).\n",
      "Epoch 6/200, Train Loss: 0.2702\n",
      "Epoch 6/200, Validation Loss: 0.2858\n",
      "No improvement in validation loss for 3 epoch(s).\n",
      "Epoch 7/200, Train Loss: 0.2694\n",
      "Epoch 7/200, Validation Loss: 0.2143\n",
      "Best model updated based on validation loss.\n",
      "Epoch 8/200, Train Loss: 0.2617\n",
      "Epoch 8/200, Validation Loss: 0.2413\n",
      "No improvement in validation loss for 1 epoch(s).\n",
      "Epoch 9/200, Train Loss: 0.2857\n",
      "Epoch 9/200, Validation Loss: 0.3625\n",
      "No improvement in validation loss for 2 epoch(s).\n",
      "Epoch 10/200, Train Loss: 0.2683\n",
      "Epoch 10/200, Validation Loss: 0.2156\n",
      "No improvement in validation loss for 3 epoch(s).\n",
      "Epoch 11/200, Train Loss: 0.2458\n",
      "Epoch 11/200, Validation Loss: 0.2226\n",
      "No improvement in validation loss for 4 epoch(s).\n",
      "Epoch 12/200, Train Loss: 0.2471\n",
      "Epoch 12/200, Validation Loss: 0.1978\n",
      "Best model updated based on validation loss.\n",
      "Epoch 13/200, Train Loss: 0.2410\n",
      "Epoch 13/200, Validation Loss: 0.3150\n",
      "No improvement in validation loss for 1 epoch(s).\n",
      "Epoch 14/200, Train Loss: 0.2376\n",
      "Epoch 14/200, Validation Loss: 0.2051\n",
      "No improvement in validation loss for 2 epoch(s).\n",
      "Epoch 15/200, Train Loss: 0.2358\n",
      "Epoch 15/200, Validation Loss: 0.1955\n",
      "Best model updated based on validation loss.\n",
      "Epoch 16/200, Train Loss: 0.2353\n",
      "Epoch 16/200, Validation Loss: 0.3700\n",
      "No improvement in validation loss for 1 epoch(s).\n",
      "Epoch 17/200, Train Loss: 0.2249\n",
      "Epoch 17/200, Validation Loss: 0.1662\n",
      "Best model updated based on validation loss.\n",
      "Epoch 18/200, Train Loss: 0.2219\n",
      "Epoch 18/200, Validation Loss: 0.1821\n",
      "No improvement in validation loss for 1 epoch(s).\n",
      "Epoch 19/200, Train Loss: 0.2302\n",
      "Epoch 19/200, Validation Loss: 0.3389\n",
      "No improvement in validation loss for 2 epoch(s).\n",
      "Epoch 20/200, Train Loss: 0.2380\n",
      "Epoch 20/200, Validation Loss: 0.2521\n",
      "No improvement in validation loss for 3 epoch(s).\n",
      "Epoch 21/200, Train Loss: 0.2267\n",
      "Epoch 21/200, Validation Loss: 0.4155\n",
      "No improvement in validation loss for 4 epoch(s).\n",
      "Epoch 22/200, Train Loss: 0.2207\n",
      "Epoch 22/200, Validation Loss: 0.1715\n",
      "No improvement in validation loss for 5 epoch(s).\n",
      "Epoch 23/200, Train Loss: 0.2236\n",
      "Epoch 23/200, Validation Loss: 0.1956\n",
      "No improvement in validation loss for 6 epoch(s).\n",
      "Epoch 24/200, Train Loss: 0.2180\n",
      "Epoch 24/200, Validation Loss: 0.1779\n",
      "No improvement in validation loss for 7 epoch(s).\n",
      "Epoch 25/200, Train Loss: 0.2184\n",
      "Epoch 25/200, Validation Loss: 0.2136\n",
      "No improvement in validation loss for 8 epoch(s).\n",
      "Epoch 26/200, Train Loss: 0.2129\n",
      "Epoch 26/200, Validation Loss: 0.2165\n",
      "No improvement in validation loss for 9 epoch(s).\n",
      "Epoch 27/200, Train Loss: 0.2054\n",
      "Epoch 27/200, Validation Loss: 0.3079\n",
      "No improvement in validation loss for 10 epoch(s).\n",
      "Epoch 28/200, Train Loss: 0.2103\n",
      "Epoch 28/200, Validation Loss: 0.2112\n",
      "No improvement in validation loss for 11 epoch(s).\n",
      "Epoch 29/200, Train Loss: 0.2035\n",
      "Epoch 29/200, Validation Loss: 0.2043\n",
      "No improvement in validation loss for 12 epoch(s).\n",
      "Epoch 30/200, Train Loss: 0.2027\n",
      "Epoch 30/200, Validation Loss: 0.2707\n",
      "No improvement in validation loss for 13 epoch(s).\n",
      "Epoch 31/200, Train Loss: 0.2036\n",
      "Epoch 31/200, Validation Loss: 0.3351\n",
      "No improvement in validation loss for 14 epoch(s).\n",
      "Epoch 32/200, Train Loss: 0.2040\n",
      "Epoch 32/200, Validation Loss: 0.1960\n",
      "No improvement in validation loss for 15 epoch(s).\n",
      "Early stopping triggered.\n"
     ]
    },
    {
     "data": {
      "text/plain": [
       "([0.41168823137496063,\n",
       "  0.2897921053319371,\n",
       "  0.26916174963715567,\n",
       "  0.27886971000018995,\n",
       "  0.26634686382134054,\n",
       "  0.27024247612113417,\n",
       "  0.2694160234270915,\n",
       "  0.26172121843604607,\n",
       "  0.28573140965341437,\n",
       "  0.2682974828449093,\n",
       "  0.24576397489912066,\n",
       "  0.2471064952245064,\n",
       "  0.24099013571291045,\n",
       "  0.23758579097540464,\n",
       "  0.23582038219063867,\n",
       "  0.23530878591184512,\n",
       "  0.22486566129317237,\n",
       "  0.221859626707572,\n",
       "  0.23022516506313798,\n",
       "  0.23800749492123802,\n",
       "  0.22669356832099083,\n",
       "  0.22071608311286053,\n",
       "  0.22355423574131242,\n",
       "  0.21796218865118833,\n",
       "  0.21843641826589488,\n",
       "  0.21291383379513332,\n",
       "  0.20539810383115423,\n",
       "  0.21026503590972734,\n",
       "  0.20350652341386513,\n",
       "  0.2027345447694246,\n",
       "  0.20362292588683442,\n",
       "  0.2040320458509515],\n",
       " [0.6145682015130893,\n",
       "  0.3227980108036158,\n",
       "  0.21854066326079938,\n",
       "  0.31652685794501734,\n",
       "  0.27117383875884116,\n",
       "  0.2857842069889347,\n",
       "  0.2143456193809517,\n",
       "  0.2412681682781579,\n",
       "  0.3624754686338397,\n",
       "  0.2155570104951039,\n",
       "  0.22255187937154028,\n",
       "  0.19778910101665995,\n",
       "  0.31499668632526523,\n",
       "  0.20513784834362853,\n",
       "  0.19552262070684287,\n",
       "  0.36997202129210705,\n",
       "  0.1662464725698392,\n",
       "  0.1821477014469938,\n",
       "  0.3388931986768372,\n",
       "  0.25212655434958064,\n",
       "  0.4154502328795691,\n",
       "  0.17145884512828138,\n",
       "  0.19557819731282786,\n",
       "  0.17789730262936643,\n",
       "  0.21360842742694494,\n",
       "  0.21647547533472952,\n",
       "  0.30794630308325094,\n",
       "  0.21120856363827792,\n",
       "  0.20426686401090896,\n",
       "  0.2707292315287468,\n",
       "  0.3351030408118207,\n",
       "  0.19599003670289397])"
      ]
     },
     "execution_count": 9,
     "metadata": {},
     "output_type": "execute_result"
    }
   ],
   "source": [
    "train(model, train_loader, val_loader, train_config, model_checkpoints_path + \"/booster/\" + match + \".pth\")"
   ]
  },
  {
   "cell_type": "code",
   "execution_count": 10,
   "id": "b0dbb0009f51abf4",
   "metadata": {},
   "outputs": [
    {
     "data": {
      "text/plain": [
       "<All keys matched successfully>"
      ]
     },
     "execution_count": 10,
     "metadata": {},
     "output_type": "execute_result"
    }
   ],
   "source": [
    "# Load the best model after training\n",
    "model.load_state_dict(torch.load(model_checkpoints_path + \"/booster/\" + match + \".pth\", weights_only=True))"
   ]
  },
  {
   "cell_type": "code",
   "execution_count": 11,
   "id": "a520e80c09e814c6",
   "metadata": {},
   "outputs": [
    {
     "name": "stdout",
     "output_type": "stream",
     "text": [
      "GAT(\n",
      "  (conv1): GATConv(12, 16, heads=1)\n",
      "  (bn1): BatchNorm1d(16, eps=1e-05, momentum=0.1, affine=True, track_running_stats=True)\n",
      "  (conv2): GATConv(16, 8, heads=1)\n",
      "  (bn2): BatchNorm1d(8, eps=1e-05, momentum=0.1, affine=True, track_running_stats=True)\n",
      "  (dropout): Dropout(p=0.15, inplace=False)\n",
      "  (fc): Linear(in_features=8, out_features=2, bias=True)\n",
      ")\n",
      "[np.int64(1), np.int64(1), np.int64(1), np.int64(1), np.int64(0), np.int64(1), np.int64(0), np.int64(0), np.int64(1), np.int64(1)]\n",
      "[np.int64(1), np.int64(1), np.int64(1), np.int64(1), np.int64(0), np.int64(1), np.int64(1), np.int64(0), np.int64(1), np.int64(1)]\n",
      "Accuracy: 0.9399\n"
     ]
    }
   ],
   "source": [
    "true_values, predicted_values, accuracy = evaluate(device, model, test_loader, model_checkpoints_path + \"/booster/\" + match + \".pth\")"
   ]
  },
  {
   "cell_type": "code",
   "execution_count": 12,
   "id": "810768846ddfc62a",
   "metadata": {},
   "outputs": [
    {
     "data": {
      "image/png": "[encoded data removed]",
      "text/plain": [
       "<Figure size 640x480 with 2 Axes>"
      ]
     },
     "metadata": {},
     "output_type": "display_data"
    }
   ],
   "source": [
    "generate_matrix(true_values, predicted_values, accuracy, \"GAT Match: \"  + match)"
   ]
  },
  {
   "cell_type": "code",
   "execution_count": 13,
   "id": "704d71a02da61822",
   "metadata": {},
   "outputs": [
    {
     "name": "stdout",
     "output_type": "stream",
     "text": [
      "Precision: 0.9461\n",
      "Recall: 0.9777\n",
      "F1 Score: 0.9616\n",
      "AUROC: 0.8955\n",
      "Accuracy: 0.9399\n",
      "Metrics saved to /Users/jawayria/Desktop/EDISS/DIE/temp/ADES-reliability-estimation/src/../models/booster/results/2-1.csv\n"
     ]
    }
   ],
   "source": [
    "generate_metrics(true_values, predicted_values, match, model_checkpoints_path, NUM_EPOCHS, LEARNING_RATE, NODE_FEATURES, DROPOUT_RATE, PATIENCE, HIDDEN_DIM)"
   ]
  },
  {
   "cell_type": "code",
   "execution_count": null,
   "id": "f969cf1e-2578-4682-bf50-bb016798484c",
   "metadata": {},
   "outputs": [],
   "source": []
  }
 ],
 "metadata": {
  "kernelspec": {
   "display_name": "Python 3 (ipykernel)",
   "language": "python",
   "name": "python3"
  },
  "language_info": {
   "codemirror_mode": {
    "name": "ipython",
    "version": 3
   },
   "file_extension": ".py",
   "mimetype": "text/x-python",
   "name": "python",
   "nbconvert_exporter": "python",
   "pygments_lexer": "ipython3",
   "version": "3.11.10"
  }
 },
 "nbformat": 4,
 "nbformat_minor": 5
}
