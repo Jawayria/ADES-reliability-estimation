{
 "cells": [
  {
   "metadata": {},
   "cell_type": "code",
   "outputs": [],
   "execution_count": null,
   "source": [
    "import importlib\n",
    "\n",
    "import datamanip\n",
    "from train_eval.evaluate import evaluate_ensamble\n",
    "from utils import load_best_model_based_on_match\n",
    "\n",
    "importlib.reload(datamanip)\n",
    "\n",
    "import torch\n",
    "from torch_geometric.loader import DataLoader\n",
    "from filepath import *\n",
    "from datamanip.datasetmanip.three_five_dataset import ThreeFiveDataset"
   ],
   "id": "cb8d77208c6360e"
  },
  {
   "metadata": {},
   "cell_type": "code",
   "outputs": [],
   "execution_count": null,
   "source": [
    "test_set = ThreeFiveDataset(root=dataset_path, match='ensemble', test_train_val=\"test\")\n",
    "val_set = ThreeFiveDataset(root=dataset_path, match='ensemble', test_train_val=\"val\")\n",
    "test_loader = DataLoader(test_set, batch_size=1, shuffle=True)\n",
    "val_loader = DataLoader(val_set, batch_size=1, shuffle=True)\n"
   ],
   "id": "37fd46aad5434b96"
  },
  {
   "metadata": {},
   "cell_type": "code",
   "outputs": [],
   "execution_count": null,
   "source": [
    "matches = [\"1-1\", \"2-1\", \"2-2\", \"3-1\", \"3-2\", \"3-3\", \"3-4\"]\n",
    "ensemble = {}\n",
    "for match in matches:\n",
    "    ensemble[match] = load_best_model_based_on_match(match)\n"
   ],
   "id": "9a5cff6a3405d331"
  },
  {
   "metadata": {},
   "cell_type": "code",
   "outputs": [],
   "execution_count": null,
   "source": [
    "device = torch.device('cuda' if torch.cuda.is_available() else 'cpu')\n",
    "predictions, true_classes, distance, accuracy = evaluate_ensamble(device, ensemble, test_loader)\n"
   ],
   "id": "be4df1553b3da55"
  },
  {
   "metadata": {},
   "cell_type": "code",
   "outputs": [],
   "execution_count": null,
   "source": [
    "print(f\"Cumulative distance is {distance}\")\n",
    "print(f\"Accuracy is {accuracy}\")"
   ],
   "id": "22a69e60a7a7c936"
  }
 ],
 "metadata": {},
 "nbformat": 5,
 "nbformat_minor": 9
}
