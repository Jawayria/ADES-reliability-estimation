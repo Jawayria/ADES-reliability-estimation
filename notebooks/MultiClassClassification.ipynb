{
 "cells": [
  {
   "cell_type": "code",
   "id": "d3f434e5-ad5d-420a-8df3-cdd4a57b79fd",
   "metadata": {
    "ExecuteTime": {
     "end_time": "2025-01-23T10:59:37.580213Z",
     "start_time": "2025-01-23T10:59:37.489261Z"
    }
   },
   "source": [
    "import numpy as np\n",
    "import networkx as nx\n",
    "\n",
    "import torch\n",
    "\n",
    "from torch_geometric.data import Data\n",
    "from torch_geometric.loader import DataLoader\n",
    "\n",
    "from tqdm import tqdm\n",
    "\n",
    "from sklearn.model_selection import train_test_split\n",
    "\n",
    "from decimal import Decimal, getcontext\n",
    "\n",
    "import datamanip.plots\n",
    "import importlib\n",
    "\n",
    "importlib.reload(datamanip.plots)\n",
    "\n"
   ],
   "outputs": [
    {
     "data": {
      "text/plain": [
       "<module 'datamanip.plots' from '/Users/einar/Documents/EDISS/Period 1/DIE/ADES-reliability-estimation/src/datamanip/plots.py'>"
      ]
     },
     "execution_count": 77,
     "metadata": {},
     "output_type": "execute_result"
    }
   ],
   "execution_count": 77
  },
  {
   "metadata": {
    "ExecuteTime": {
     "end_time": "2025-01-23T10:59:37.609215Z",
     "start_time": "2025-01-23T10:59:37.584636Z"
    }
   },
   "cell_type": "code",
   "source": [
    "\n",
    "from filepath import *\n",
    "from datamanip.plots import plot_rel_distribution, generate_matrix\n",
    "from datamanip.feature_extraction import calculate_failure_rates\n",
    "from datamanip.read_csvs import read_matrices, read_rel_values,merge_matrices_and_rel\n",
    "from models.GAT import GAT#, GCN, SimpleMPNN\n",
    "from train_eval.train import train\n",
    "from train_eval.evaluate import evaluate\n",
    "\n"
   ],
   "id": "1b8602fbdefee2bb",
   "outputs": [],
   "execution_count": 78
  },
  {
   "metadata": {
    "ExecuteTime": {
     "end_time": "2025-01-23T10:59:37.686099Z",
     "start_time": "2025-01-23T10:59:37.664117Z"
    }
   },
   "cell_type": "code",
   "source": [
    "# Number of epochs to train the model\n",
    "NUM_EPOCHS = 100\n",
    "\n",
    "# Dropout rate for the model to prevent overfitting\n",
    "DROPOUT_RATE = 0.3\n",
    "\n",
    "# Learning rate for the optimizer\n",
    "LEARNING_RATE = 0.0005\n",
    "\n",
    "# Threshold for classifying reliability\n",
    "THRESHOLD = 0.97\n",
    "\n",
    "# Number of features for each node in the graph\n",
    "NODE_FEATURES = 5\n",
    "\n",
    "# Number of epochs to wait for improvement before early stopping\n",
    "PATIENCE = 20\n",
    "\n",
    "# Flag to indicate whether to use only one timestamp\n",
    "ONE_TIMESTAMP = False\n",
    "\n",
    "NUM_BINS = 0"
   ],
   "id": "af7d21d4096e7504",
   "outputs": [],
   "execution_count": 79
  },
  {
   "metadata": {
    "ExecuteTime": {
     "end_time": "2025-01-23T10:59:38.561901Z",
     "start_time": "2025-01-23T10:59:37.721686Z"
    }
   },
   "cell_type": "code",
   "source": [
    "\n",
    "\n",
    "# Read matrices and reliability values into one DataFrame\n",
    "all_matrices_df = read_matrices(matrices_path)\n",
    "all_rels_df = read_rel_values(reliabilities_path, config_all_path)\n",
    "merged_df = merge_matrices_and_rel(all_matrices_df, all_rels_df)\n",
    "\n",
    "# Explode the 'timestamp' and 'reliability' columns\n",
    "merged_df_exploded = merged_df.explode(['timestamp', 'reliability']).reset_index(drop=True)\n",
    "\n",
    "# Display the exploded DataFrame\n",
    "# print(merged_df_exploded)\n",
    "print(merged_df_exploded.tail(10))\n",
    "print(merged_df_exploded.shape)"
   ],
   "id": "44126f9d-e23f-4ab4-bfea-413f87122d38",
   "outputs": [
    {
     "name": "stdout",
     "output_type": "stream",
     "text": [
      "                                                   matrix  config_id  \\\n",
      "167726  [[0, 0, 0, 0, 0, 0, 0, 0, 0, 0, 0, 0, 0, 0, 0,...         99   \n",
      "167727  [[0, 0, 0, 0, 0, 0, 0, 0, 0, 0, 0, 0, 0, 0, 0,...         99   \n",
      "167728  [[0, 0, 0, 0, 0, 0, 0, 0, 0, 0, 0, 0, 0, 0, 0,...         99   \n",
      "167729  [[0, 0, 0, 0, 0, 0, 0, 0, 0, 0, 0, 0, 0, 0, 0,...         99   \n",
      "167730  [[0, 0, 0, 0, 0, 0, 0, 0, 0, 0, 0, 0, 0, 0, 0,...         99   \n",
      "167731  [[0, 0, 0, 0, 0, 0, 0, 0, 0, 0, 0, 0, 0, 0, 0,...         99   \n",
      "167732  [[0, 0, 0, 0, 0, 0, 0, 0, 0, 0, 0, 0, 0, 0, 0,...         99   \n",
      "167733  [[0, 0, 0, 0, 0, 0, 0, 0, 0, 0, 0, 0, 0, 0, 0,...         99   \n",
      "167734  [[0, 0, 0, 0, 0, 0, 0, 0, 0, 0, 0, 0, 0, 0, 0,...         99   \n",
      "167735  [[0, 0, 0, 0, 0, 0, 0, 0, 0, 0, 0, 0, 0, 0, 0,...         99   \n",
      "\n",
      "       timestamp reliability  \n",
      "167726     45500     0.24779  \n",
      "167727     46000    0.243932  \n",
      "167728     46500    0.240131  \n",
      "167729     47000    0.236387  \n",
      "167730     47500      0.2327  \n",
      "167731     48000    0.229069  \n",
      "167732     48500    0.225492  \n",
      "167733     49000    0.221969  \n",
      "167734     49500      0.2185  \n",
      "167735     50000    0.215083  \n",
      "(167736, 4)\n"
     ]
    }
   ],
   "execution_count": 80
  },
  {
   "cell_type": "code",
   "id": "cb443894-9df7-49b3-bc7e-fcdc9f08780b",
   "metadata": {
    "ExecuteTime": {
     "end_time": "2025-01-23T10:59:38.617833Z",
     "start_time": "2025-01-23T10:59:38.596602Z"
    }
   },
   "source": [
    "# If the ONE_TIMESTAMP flag is set to True, filter the DataFrame to include only rows with a timestamp of 1000\n",
    "if ONE_TIMESTAMP:\n",
    "  merged_df_exploded = merged_df_exploded.loc[merged_df_exploded['timestamp'] == 1000]\n",
    "  # Reset the index of the DataFrame after filtering\n",
    "  merged_df_exploded = merged_df_exploded.reset_index(drop=True)\n",
    "\n",
    "# Display the shape of the DataFrame\n",
    "merged_df_exploded.shape\n"
   ],
   "outputs": [
    {
     "data": {
      "text/plain": [
       "(167736, 4)"
      ]
     },
     "execution_count": 81,
     "metadata": {},
     "output_type": "execute_result"
    }
   ],
   "execution_count": 81
  },
  {
   "cell_type": "code",
   "id": "aa8418ca-49b2-41c3-b5dd-d82f83fb24bb",
   "metadata": {
    "ExecuteTime": {
     "end_time": "2025-01-23T10:59:46.888832Z",
     "start_time": "2025-01-23T10:59:38.651320Z"
    }
   },
   "source": [
    "#Convert the matrices to edge indices\n",
    "\n",
    "all_edge_indices : list[torch.Tensor] = []\n",
    "\n",
    "merged_df_exploded['matrix'] = merged_df_exploded['matrix'].apply(np.array)\n",
    "\n",
    "for _, row in merged_df_exploded.iterrows():\n",
    "    matrix_np = row['matrix']\n",
    "\n",
    "    # Get the indices where there are edges (i.e., non-zero entries)\n",
    "    edge_indices = np.nonzero(matrix_np)\n",
    "\n",
    "    # Stack the indices into a 2xN array where each column represents an edge\n",
    "    edge_index = torch.tensor(np.vstack(edge_indices), dtype=torch.long)\n",
    "\n",
    "    # Append the edge_index tensor to the list\n",
    "    all_edge_indices.append(edge_index)"
   ],
   "outputs": [],
   "execution_count": 82
  },
  {
   "metadata": {
    "ExecuteTime": {
     "end_time": "2025-01-23T10:59:47.017811Z",
     "start_time": "2025-01-23T10:59:46.952165Z"
    }
   },
   "cell_type": "code",
   "source": [
    "max_reliability =  merged_df_exploded.loc[merged_df_exploded['reliability'] < 1, 'reliability'].max()\n",
    "\n",
    "max_value_decimal = Decimal(str(max_reliability))  # Ensure precise representation\n",
    "decimal_part = str(max_value_decimal).split('.')[1]  # Get the decimal part\n",
    "\n",
    "count_nines = 0\n",
    "for digit in decimal_part:\n",
    "    if digit == '9':\n",
    "        count_nines += 1\n",
    "    else:\n",
    "        break  # Stop counting when encountering the first non-9 digit\n"
   ],
   "id": "3d3a244d6c89a60d",
   "outputs": [],
   "execution_count": 83
  },
  {
   "metadata": {
    "ExecuteTime": {
     "end_time": "2025-01-23T10:59:47.077139Z",
     "start_time": "2025-01-23T10:59:47.055795Z"
    }
   },
   "cell_type": "code",
   "source": [
    "getcontext().prec = count_nines + 2  # Set precision\n",
    "\n",
    "bins = []\n",
    "current_bin_start = Decimal('0')\n",
    "\n",
    "for i in range(1, count_nines + 1):\n",
    "    current_bin_end = Decimal('1') - Decimal(f'1e-{i}')\n",
    "    bins.append((current_bin_start, current_bin_end))\n",
    "    current_bin_start = current_bin_end\n",
    "\n",
    "# Add the last bin for values very close to 1\n",
    "# bins.append((current_bin_start, Decimal('1')))\n"
   ],
   "id": "51d2fda373e7d031",
   "outputs": [],
   "execution_count": 84
  },
  {
   "metadata": {
    "ExecuteTime": {
     "end_time": "2025-01-23T10:59:47.134459Z",
     "start_time": "2025-01-23T10:59:47.111144Z"
    }
   },
   "cell_type": "code",
   "source": [
    "def classify_into_bins(value, bins_nines):\n",
    "    for idx, (bin_start, bin_end) in enumerate(bins_nines):\n",
    "        if bin_start <= value < bin_end:\n",
    "            return idx\n",
    "    return len(bins)"
   ],
   "id": "b0c21595db287cfc",
   "outputs": [],
   "execution_count": 85
  },
  {
   "metadata": {
    "ExecuteTime": {
     "end_time": "2025-01-23T10:59:50.396426Z",
     "start_time": "2025-01-23T10:59:47.169826Z"
    }
   },
   "cell_type": "code",
   "source": [
    "all_rels : list[int] = []\n",
    "\n",
    "for _, row in merged_df_exploded.iterrows():\n",
    "    reliability = row['reliability']\n",
    "    bin_index = classify_into_bins(reliability, bins)\n",
    "    all_rels.append(bin_index)\n",
    "\n",
    "plot_rel_distribution(all_rels)\n",
    "\n",
    "NUM_BINS = len(bins) + 1"
   ],
   "id": "aee31c3c-17d0-4d7b-8e16-f77a8f31c18f",
   "outputs": [
    {
     "data": {
      "text/plain": [
       "<Figure size 1000x600 with 1 Axes>"
      ],
      "image/png": "[encoded data removed]"
     },
     "metadata": {},
     "output_type": "display_data"
    }
   ],
   "execution_count": 86
  },
  {
   "metadata": {
    "ExecuteTime": {
     "end_time": "2025-01-23T10:59:50.469238Z",
     "start_time": "2025-01-23T10:59:50.433736Z"
    }
   },
   "cell_type": "code",
   "source": "all_rels_tensor : torch.Tensor = torch.tensor(all_rels)",
   "id": "c669f45d7ab3efa",
   "outputs": [],
   "execution_count": 87
  },
  {
   "cell_type": "code",
   "id": "4b3391b2-2c84-49b8-87aa-21127442d98e",
   "metadata": {
    "ExecuteTime": {
     "end_time": "2025-01-23T11:00:33.087225Z",
     "start_time": "2025-01-23T10:59:50.505065Z"
    }
   },
   "source": [
    "#Create node features for the GNN\n",
    "num_features = NODE_FEATURES\n",
    "\n",
    "all_node_features = []\n",
    "for _, row in tqdm(merged_df_exploded.iterrows()):\n",
    "    \n",
    "  adj_matrix  = row['matrix'] # Matrix of the graph\n",
    "  timestamp = row['timestamp'] # Timestamp when reliability was measured\n",
    "  num_nodes = adj_matrix.shape[0] # Number of nodes in the graph\n",
    "  node_features = np.zeros((num_nodes, num_features)) # Initialize node features\n",
    "    \n",
    "  #Get indegree and centrality using NetworksX graph\n",
    "  G = nx.from_numpy_array(adj_matrix)\n",
    "\n",
    "  # Calculate centrality measures\n",
    "  degree_centrality = nx.degree_centrality(G)\n",
    "  closeness_centrality = nx.closeness_centrality(G)\n",
    "  degree = adj_matrix.sum(axis=1)\n",
    "  # Calculate failure rates based on given topology parameters\n",
    "  failure_rates = calculate_failure_rates()\n",
    "\n",
    "  # Assign features to each node\n",
    "  for node in G.nodes():\n",
    "      node_features[node, 0] = degree_centrality[node]\n",
    "      node_features[node, 1] = closeness_centrality[node]\n",
    "      node_features[node, 2] = degree[node]\n",
    "      node_features[node, 3] = timestamp\n",
    "      node_features[node, 4] = failure_rates[node]\n",
    "\n",
    "  all_node_features.append(node_features)\n",
    "node_features_tensor = torch.tensor(np.array(all_node_features), dtype=torch.float)"
   ],
   "outputs": [
    {
     "name": "stderr",
     "output_type": "stream",
     "text": [
      "167736it [00:42, 3979.88it/s]\n"
     ]
    }
   ],
   "execution_count": 88
  },
  {
   "cell_type": "code",
   "id": "25d7cd5f-f1d3-4844-a218-365a41c5c127",
   "metadata": {
    "ExecuteTime": {
     "end_time": "2025-01-23T11:00:39.165650Z",
     "start_time": "2025-01-23T11:00:33.134842Z"
    }
   },
   "source": [
    "#Create list of Data objects, each containing the node features, edge indices, and target values\n",
    "data_list = []\n",
    "\n",
    "for i, row in merged_df_exploded.iterrows():\n",
    "  node_features = node_features_tensor[i]\n",
    "  edge_index = all_edge_indices[i]\n",
    "  y = all_rels[i]\n",
    "  data = Data(x=node_features, edge_index=edge_index, y=y)\n",
    "  data_list.append(data)"
   ],
   "outputs": [],
   "execution_count": 89
  },
  {
   "cell_type": "code",
   "id": "4bbfbb02-b31f-4820-8fb7-1303f55ac270",
   "metadata": {
    "ExecuteTime": {
     "end_time": "2025-01-23T11:00:39.814396Z",
     "start_time": "2025-01-23T11:00:39.223770Z"
    }
   },
   "source": [
    "# Split into training and testing data\n",
    "train_data_list, test_data_list  = train_test_split(data_list, test_size=0.2, random_state=42)\n",
    "\n",
    "# Further split training data into training and validation\n",
    "train_data_list, val_data_list = train_test_split(train_data_list, test_size=0.25, random_state=42)  # 0.25 x 0.8 = 0.2 validation split\n",
    "\n",
    "# Create DataLoaders\n",
    "train_loader = DataLoader(train_data_list, batch_size=16, shuffle=True)\n",
    "val_loader = DataLoader(val_data_list, batch_size=16, shuffle=False)\n",
    "test_loader = DataLoader(test_data_list, batch_size=16, shuffle=False)\n",
    "\n",
    "print(f\"Training samples: {len(train_data_list)}\")\n",
    "print(f\"Validation samples: {len(val_data_list)}\")\n",
    "print(f\"Test samples: {len(test_data_list)}\")\n"
   ],
   "outputs": [
    {
     "name": "stdout",
     "output_type": "stream",
     "text": [
      "Training samples: 100641\n",
      "Validation samples: 33547\n",
      "Test samples: 33548\n"
     ]
    }
   ],
   "execution_count": 90
  },
  {
   "cell_type": "code",
   "id": "45354d30-7347-451e-9445-79761c7ffe69",
   "metadata": {
    "ExecuteTime": {
     "end_time": "2025-01-23T11:00:39.884583Z",
     "start_time": "2025-01-23T11:00:39.851367Z"
    }
   },
   "source": [
    "device = torch.device('cuda' if torch.cuda.is_available() else 'cpu')\n",
    "\n",
    "model = GAT(input_dim=NODE_FEATURES, hidden_dim=64, output_dim=NUM_BINS, dropout_rate=DROPOUT_RATE).to(device)\n",
    "optimizer = torch.optim.Adam(model.parameters(), lr=LEARNING_RATE)\n",
    "criterion = torch.nn.CrossEntropyLoss()"
   ],
   "outputs": [],
   "execution_count": 91
  },
  {
   "cell_type": "code",
   "id": "db2e7a3e-1e4d-4f99-af36-cea56f7dab65",
   "metadata": {
    "ExecuteTime": {
     "end_time": "2025-01-23T11:00:39.938458Z",
     "start_time": "2025-01-23T11:00:39.918027Z"
    }
   },
   "source": [
    "train_config = {\n",
    "    \"num_epochs\": NUM_EPOCHS,\n",
    "    \"patience\": PATIENCE,\n",
    "    \"device\": device,\n",
    "    \"criterion\": criterion,\n",
    "    \"optimizer\": optimizer,\n",
    "}"
   ],
   "outputs": [],
   "execution_count": 92
  },
  {
   "cell_type": "code",
   "id": "38b8ebbd-6e46-407b-8c07-df0de71665f6",
   "metadata": {
    "ExecuteTime": {
     "end_time": "2025-01-23T11:21:46.849918Z",
     "start_time": "2025-01-23T11:01:30.981415Z"
    }
   },
   "source": "train(model, train_loader, val_loader, train_config, model_checkpoints_path + \"best_model_GAT_MCC.pth\")",
   "outputs": [
    {
     "name": "stdout",
     "output_type": "stream",
     "text": [
      "Epoch 1/100, Train Loss: 0.9653\n",
      "Epoch 1/100, Validation Loss: 1.0319\n",
      "Best model updated based on validation loss.\n",
      "Epoch 2/100, Train Loss: 0.9359\n",
      "Epoch 2/100, Validation Loss: 1.1493\n",
      "No improvement in validation loss for 1 epoch(s).\n",
      "Epoch 3/100, Train Loss: 0.9137\n",
      "Epoch 3/100, Validation Loss: 1.1266\n",
      "No improvement in validation loss for 2 epoch(s).\n",
      "Epoch 4/100, Train Loss: 0.8904\n",
      "Epoch 4/100, Validation Loss: 1.0011\n",
      "Best model updated based on validation loss.\n",
      "Epoch 5/100, Train Loss: 0.8750\n",
      "Epoch 5/100, Validation Loss: 1.3819\n",
      "No improvement in validation loss for 1 epoch(s).\n",
      "Epoch 6/100, Train Loss: 0.8778\n",
      "Epoch 6/100, Validation Loss: 1.3750\n",
      "No improvement in validation loss for 2 epoch(s).\n",
      "Epoch 7/100, Train Loss: 0.8654\n",
      "Epoch 7/100, Validation Loss: 1.1061\n",
      "No improvement in validation loss for 3 epoch(s).\n",
      "Epoch 8/100, Train Loss: 0.8650\n",
      "Epoch 8/100, Validation Loss: 1.4647\n",
      "No improvement in validation loss for 4 epoch(s).\n",
      "Epoch 9/100, Train Loss: 0.8554\n",
      "Epoch 9/100, Validation Loss: 1.5753\n",
      "No improvement in validation loss for 5 epoch(s).\n",
      "Epoch 10/100, Train Loss: 0.8533\n",
      "Epoch 10/100, Validation Loss: 1.3994\n",
      "No improvement in validation loss for 6 epoch(s).\n",
      "Epoch 11/100, Train Loss: 0.8463\n",
      "Epoch 11/100, Validation Loss: 0.9965\n",
      "Best model updated based on validation loss.\n",
      "Epoch 12/100, Train Loss: 0.8436\n",
      "Epoch 12/100, Validation Loss: 1.7922\n",
      "No improvement in validation loss for 1 epoch(s).\n",
      "Epoch 13/100, Train Loss: 0.8390\n",
      "Epoch 13/100, Validation Loss: 1.5694\n",
      "No improvement in validation loss for 2 epoch(s).\n",
      "Epoch 14/100, Train Loss: 0.9756\n",
      "Epoch 14/100, Validation Loss: 1.0497\n",
      "No improvement in validation loss for 3 epoch(s).\n",
      "Epoch 15/100, Train Loss: 0.9533\n",
      "Epoch 15/100, Validation Loss: 1.0689\n",
      "No improvement in validation loss for 4 epoch(s).\n",
      "Epoch 16/100, Train Loss: 0.9174\n",
      "Epoch 16/100, Validation Loss: 1.3768\n",
      "No improvement in validation loss for 5 epoch(s).\n",
      "Epoch 17/100, Train Loss: 0.9024\n",
      "Epoch 17/100, Validation Loss: 1.4350\n",
      "No improvement in validation loss for 6 epoch(s).\n",
      "Epoch 18/100, Train Loss: 0.8878\n",
      "Epoch 18/100, Validation Loss: 1.0250\n",
      "No improvement in validation loss for 7 epoch(s).\n",
      "Epoch 19/100, Train Loss: 0.8679\n",
      "Epoch 19/100, Validation Loss: 1.0423\n",
      "No improvement in validation loss for 8 epoch(s).\n",
      "Epoch 20/100, Train Loss: 0.8688\n",
      "Epoch 20/100, Validation Loss: 1.5611\n",
      "No improvement in validation loss for 9 epoch(s).\n",
      "Epoch 21/100, Train Loss: 0.8541\n",
      "Epoch 21/100, Validation Loss: 1.6218\n",
      "No improvement in validation loss for 10 epoch(s).\n",
      "Epoch 22/100, Train Loss: 0.8474\n",
      "Epoch 22/100, Validation Loss: 1.7636\n",
      "No improvement in validation loss for 11 epoch(s).\n",
      "Epoch 23/100, Train Loss: 0.8378\n",
      "Epoch 23/100, Validation Loss: 1.2921\n",
      "No improvement in validation loss for 12 epoch(s).\n",
      "Epoch 24/100, Train Loss: 0.8305\n",
      "Epoch 24/100, Validation Loss: 0.9760\n",
      "Best model updated based on validation loss.\n",
      "Epoch 25/100, Train Loss: 0.8329\n",
      "Epoch 25/100, Validation Loss: 1.3189\n",
      "No improvement in validation loss for 1 epoch(s).\n",
      "Epoch 26/100, Train Loss: 0.8380\n",
      "Epoch 26/100, Validation Loss: 0.9799\n",
      "No improvement in validation loss for 2 epoch(s).\n",
      "Epoch 27/100, Train Loss: 0.8336\n",
      "Epoch 27/100, Validation Loss: 2.0024\n",
      "No improvement in validation loss for 3 epoch(s).\n",
      "Epoch 28/100, Train Loss: 0.8482\n",
      "Epoch 28/100, Validation Loss: 1.4096\n",
      "No improvement in validation loss for 4 epoch(s).\n",
      "Epoch 29/100, Train Loss: 0.8357\n",
      "Epoch 29/100, Validation Loss: 1.9049\n",
      "No improvement in validation loss for 5 epoch(s).\n",
      "Epoch 30/100, Train Loss: 0.8255\n",
      "Epoch 30/100, Validation Loss: 1.0782\n",
      "No improvement in validation loss for 6 epoch(s).\n",
      "Epoch 31/100, Train Loss: 0.8250\n",
      "Epoch 31/100, Validation Loss: 1.9905\n",
      "No improvement in validation loss for 7 epoch(s).\n",
      "Epoch 32/100, Train Loss: 0.8376\n",
      "Epoch 32/100, Validation Loss: 1.1199\n",
      "No improvement in validation loss for 8 epoch(s).\n",
      "Epoch 33/100, Train Loss: 0.8273\n",
      "Epoch 33/100, Validation Loss: 1.1369\n",
      "No improvement in validation loss for 9 epoch(s).\n",
      "Epoch 34/100, Train Loss: 0.8202\n",
      "Epoch 34/100, Validation Loss: 1.4181\n",
      "No improvement in validation loss for 10 epoch(s).\n",
      "Epoch 35/100, Train Loss: 0.8252\n",
      "Epoch 35/100, Validation Loss: 1.6681\n",
      "No improvement in validation loss for 11 epoch(s).\n",
      "Epoch 36/100, Train Loss: 0.8252\n",
      "Epoch 36/100, Validation Loss: 1.9420\n",
      "No improvement in validation loss for 12 epoch(s).\n",
      "Epoch 37/100, Train Loss: 0.8107\n",
      "Epoch 37/100, Validation Loss: 1.0456\n",
      "No improvement in validation loss for 13 epoch(s).\n",
      "Epoch 38/100, Train Loss: 0.8235\n",
      "Epoch 38/100, Validation Loss: 0.8453\n",
      "Best model updated based on validation loss.\n",
      "Epoch 39/100, Train Loss: 0.8103\n",
      "Epoch 39/100, Validation Loss: 0.9670\n",
      "No improvement in validation loss for 1 epoch(s).\n",
      "Epoch 40/100, Train Loss: 0.8120\n",
      "Epoch 40/100, Validation Loss: 1.7368\n",
      "No improvement in validation loss for 2 epoch(s).\n",
      "Epoch 41/100, Train Loss: 0.8043\n",
      "Epoch 41/100, Validation Loss: 0.8453\n",
      "No improvement in validation loss for 3 epoch(s).\n",
      "Epoch 42/100, Train Loss: 0.8078\n",
      "Epoch 42/100, Validation Loss: 1.0778\n",
      "No improvement in validation loss for 4 epoch(s).\n",
      "Epoch 43/100, Train Loss: 0.8045\n",
      "Epoch 43/100, Validation Loss: 1.4556\n",
      "No improvement in validation loss for 5 epoch(s).\n",
      "Epoch 44/100, Train Loss: 0.8004\n",
      "Epoch 44/100, Validation Loss: 1.3624\n",
      "No improvement in validation loss for 6 epoch(s).\n",
      "Epoch 45/100, Train Loss: 0.7946\n",
      "Epoch 45/100, Validation Loss: 0.7516\n",
      "Best model updated based on validation loss.\n",
      "Epoch 46/100, Train Loss: 0.8011\n",
      "Epoch 46/100, Validation Loss: 1.7842\n",
      "No improvement in validation loss for 1 epoch(s).\n",
      "Epoch 47/100, Train Loss: 0.7920\n",
      "Epoch 47/100, Validation Loss: 0.7802\n",
      "No improvement in validation loss for 2 epoch(s).\n",
      "Epoch 48/100, Train Loss: 0.8051\n",
      "Epoch 48/100, Validation Loss: 1.3761\n",
      "No improvement in validation loss for 3 epoch(s).\n",
      "Epoch 49/100, Train Loss: 0.7922\n",
      "Epoch 49/100, Validation Loss: 0.8674\n",
      "No improvement in validation loss for 4 epoch(s).\n",
      "Epoch 50/100, Train Loss: 0.7980\n",
      "Epoch 50/100, Validation Loss: 0.8189\n",
      "No improvement in validation loss for 5 epoch(s).\n",
      "Epoch 51/100, Train Loss: 0.7990\n",
      "Epoch 51/100, Validation Loss: 1.9918\n",
      "No improvement in validation loss for 6 epoch(s).\n",
      "Epoch 52/100, Train Loss: 0.7989\n",
      "Epoch 52/100, Validation Loss: 2.0283\n",
      "No improvement in validation loss for 7 epoch(s).\n",
      "Epoch 53/100, Train Loss: 0.7955\n",
      "Epoch 53/100, Validation Loss: 1.9713\n",
      "No improvement in validation loss for 8 epoch(s).\n",
      "Epoch 54/100, Train Loss: 0.7903\n",
      "Epoch 54/100, Validation Loss: 0.8964\n",
      "No improvement in validation loss for 9 epoch(s).\n",
      "Epoch 55/100, Train Loss: 0.7942\n",
      "Epoch 55/100, Validation Loss: 1.6864\n",
      "No improvement in validation loss for 10 epoch(s).\n",
      "Epoch 56/100, Train Loss: 0.7983\n",
      "Epoch 56/100, Validation Loss: 2.2843\n",
      "No improvement in validation loss for 11 epoch(s).\n",
      "Epoch 57/100, Train Loss: 0.7860\n",
      "Epoch 57/100, Validation Loss: 1.1694\n",
      "No improvement in validation loss for 12 epoch(s).\n",
      "Epoch 58/100, Train Loss: 0.7966\n",
      "Epoch 58/100, Validation Loss: 1.9473\n",
      "No improvement in validation loss for 13 epoch(s).\n",
      "Epoch 59/100, Train Loss: 0.7912\n",
      "Epoch 59/100, Validation Loss: 2.0110\n",
      "No improvement in validation loss for 14 epoch(s).\n",
      "Epoch 60/100, Train Loss: 0.7927\n",
      "Epoch 60/100, Validation Loss: 2.8907\n",
      "No improvement in validation loss for 15 epoch(s).\n",
      "Epoch 61/100, Train Loss: 0.7881\n",
      "Epoch 61/100, Validation Loss: 1.7192\n",
      "No improvement in validation loss for 16 epoch(s).\n",
      "Epoch 62/100, Train Loss: 0.7833\n",
      "Epoch 62/100, Validation Loss: 0.9887\n",
      "No improvement in validation loss for 17 epoch(s).\n",
      "Epoch 63/100, Train Loss: 0.7838\n",
      "Epoch 63/100, Validation Loss: 1.3029\n",
      "No improvement in validation loss for 18 epoch(s).\n",
      "Epoch 64/100, Train Loss: 0.7798\n",
      "Epoch 64/100, Validation Loss: 1.9935\n",
      "No improvement in validation loss for 19 epoch(s).\n",
      "Epoch 65/100, Train Loss: 0.7838\n",
      "Epoch 65/100, Validation Loss: 1.9575\n",
      "No improvement in validation loss for 20 epoch(s).\n",
      "Early stopping triggered.\n"
     ]
    }
   ],
   "execution_count": 94
  },
  {
   "cell_type": "code",
   "id": "2c0dd508-da62-471d-9f51-9591f81f480f",
   "metadata": {
    "ExecuteTime": {
     "end_time": "2025-01-23T11:21:53.844616Z",
     "start_time": "2025-01-23T11:21:53.788368Z"
    }
   },
   "source": [
    "# Load the best model after training\n",
    "model.load_state_dict(torch.load(model_checkpoints_path + \"best_model_GAT_MCC.pth\", weights_only=True))"
   ],
   "outputs": [
    {
     "data": {
      "text/plain": [
       "<All keys matched successfully>"
      ]
     },
     "execution_count": 95,
     "metadata": {},
     "output_type": "execute_result"
    }
   ],
   "execution_count": 95
  },
  {
   "cell_type": "code",
   "id": "f7b3252d-6cef-4e4d-9241-f27955ee9df1",
   "metadata": {
    "ExecuteTime": {
     "end_time": "2025-01-23T11:21:59.814098Z",
     "start_time": "2025-01-23T11:21:57.012411Z"
    }
   },
   "source": "true_values, predicted_values, accuracy = evaluate(device, model, test_loader, model_checkpoints_path + \"best_model_GAT_MCC.pth\")",
   "outputs": [
    {
     "name": "stdout",
     "output_type": "stream",
     "text": [
      "GAT(\n",
      "  (conv1): GATConv(5, 64, heads=1)\n",
      "  (bn1): BatchNorm1d(64, eps=1e-05, momentum=0.1, affine=True, track_running_stats=True)\n",
      "  (conv2): GATConv(64, 32, heads=1)\n",
      "  (bn2): BatchNorm1d(32, eps=1e-05, momentum=0.1, affine=True, track_running_stats=True)\n",
      "  (dropout): Dropout(p=0.3, inplace=False)\n",
      "  (fc): Linear(in_features=32, out_features=8, bias=True)\n",
      ")\n",
      "[np.int64(4), np.int64(3), np.int64(2), np.int64(3), np.int64(4), np.int64(0), np.int64(3), np.int64(0), np.int64(0), np.int64(1)]\n",
      "[np.int64(4), np.int64(2), np.int64(2), np.int64(2), np.int64(3), np.int64(0), np.int64(2), np.int64(0), np.int64(0), np.int64(1)]\n",
      "Accuracy: 0.6758\n"
     ]
    }
   ],
   "execution_count": 96
  },
  {
   "cell_type": "code",
   "id": "a169f2fa-cb48-404e-b976-d685b6405638",
   "metadata": {
    "ExecuteTime": {
     "end_time": "2025-01-23T11:22:05.102444Z",
     "start_time": "2025-01-23T11:22:04.944844Z"
    }
   },
   "source": "generate_matrix(true_values, predicted_values, accuracy, \"GAT\")",
   "outputs": [
    {
     "data": {
      "text/plain": [
       "<Figure size 640x480 with 2 Axes>"
      ],
      "image/png": "[encoded data removed]"
     },
     "metadata": {},
     "output_type": "display_data"
    }
   ],
   "execution_count": 97
  }
 ],
 "metadata": {
  "kernelspec": {
   "display_name": "Python 3 (ipykernel)",
   "language": "python",
   "name": "python3"
  },
  "language_info": {
   "codemirror_mode": {
    "name": "ipython",
    "version": 3
   },
   "file_extension": ".py",
   "mimetype": "text/x-python",
   "name": "python",
   "nbconvert_exporter": "python",
   "pygments_lexer": "ipython3",
   "version": "3.11.10"
  }
 },
 "nbformat": 4,
 "nbformat_minor": 5
}
