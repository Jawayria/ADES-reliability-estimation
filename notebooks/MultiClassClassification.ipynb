{
 "cells": [
  {
   "cell_type": "code",
   "id": "d3f434e5-ad5d-420a-8df3-cdd4a57b79fd",
   "metadata": {
    "ExecuteTime": {
     "end_time": "2025-01-30T22:45:48.678149Z",
     "start_time": "2025-01-30T22:45:48.644791Z"
    }
   },
   "source": [
    "import numpy as np\n",
    "import networkx as nx\n",
    "\n",
    "import torch\n",
    "\n",
    "from torch_geometric.data import Data\n",
    "from torch_geometric.loader import DataLoader\n",
    "\n",
    "from tqdm import tqdm\n",
    "\n",
    "from sklearn.model_selection import train_test_split\n",
    "\n",
    "from decimal import Decimal, getcontext\n",
    "\n",
    "import datamanip.plots\n",
    "import importlib\n",
    "import train_eval\n",
    "import models\n",
    "# '''\n",
    "importlib.reload(models.GAT)\n",
    "importlib.reload(datamanip.plots)\n",
    "importlib.reload(train_eval.train)\n",
    "\n",
    "# '''\n"
   ],
   "outputs": [
    {
     "data": {
      "text/plain": [
       "<module 'train_eval.train' from '/Users/einar/Documents/EDISS/Period 1/DIE/ADES-reliability-estimation/src/train_eval/train.py'>"
      ]
     },
     "execution_count": 1254,
     "metadata": {},
     "output_type": "execute_result"
    }
   ],
   "execution_count": 1254
  },
  {
   "cell_type": "code",
   "id": "1b8602fbdefee2bb",
   "metadata": {
    "ExecuteTime": {
     "end_time": "2025-01-30T22:45:48.776864Z",
     "start_time": "2025-01-30T22:45:48.773153Z"
    }
   },
   "source": [
    "\n",
    "from filepath import *\n",
    "from datamanip.plots import plot_rel_distribution, generate_matrix\n",
    "from datamanip.feature_extraction import calculate_failure_rates\n",
    "from datamanip.read_csvs import read_matrices, read_rel_values,merge_matrices_and_rel\n",
    "from models.GAT import GAT#, GCN, SimpleMPNN\n",
    "from train_eval.train import train\n",
    "from train_eval.evaluate import evaluate\n",
    "\n"
   ],
   "outputs": [],
   "execution_count": 1255
  },
  {
   "cell_type": "code",
   "id": "af7d21d4096e7504",
   "metadata": {
    "ExecuteTime": {
     "end_time": "2025-01-30T22:45:48.827161Z",
     "start_time": "2025-01-30T22:45:48.823141Z"
    }
   },
   "source": [
    "# Number of epochs to train the model\n",
    "NUM_EPOCHS = 100\n",
    "\n",
    "# Dropout rate for the model to prevent overfitting\n",
    "DROPOUT_RATE = 0.3\n",
    "\n",
    "# Learning rate for the optimizer\n",
    "LEARNING_RATE = 0.0005\n",
    "\n",
    "# Threshold for classifying reliability\n",
    "THRESHOLD = 0.97\n",
    "\n",
    "# Number of features for each node in the graph\n",
    "NODE_FEATURES = 8\n",
    "\n",
    "# Number of epochs to wait for improvement before early stopping\n",
    "PATIENCE = 15\n",
    "\n",
    "# Flag to indicate whether to use only one timestamp\n",
    "ONE_TIMESTAMP = False\n",
    "\n",
    "NUM_BINS = 8\n",
    "\n"
   ],
   "outputs": [],
   "execution_count": 1256
  },
  {
   "cell_type": "code",
   "id": "b7ecd9d5afa055d4",
   "metadata": {
    "ExecuteTime": {
     "end_time": "2025-01-30T22:45:48.839957Z",
     "start_time": "2025-01-30T22:45:48.837931Z"
    }
   },
   "source": [
    "## Class Imbalance Configuration\n",
    "\n",
    "# Remove all values bellow 0.9\n",
    "DELETE_FIRST_CLASS = False\n",
    "\n",
    "# Use class weights for the loss function\n",
    "CLASS_WEIGHTS = False\n",
    "\n",
    "UNDER_SAMPLING = False\n",
    "\n",
    "CLASS_WEIGHTS_MIN_THRESHOLD = False\n",
    "\n",
    "OVER_SAMPLING = False"
   ],
   "outputs": [],
   "execution_count": 1257
  },
  {
   "cell_type": "code",
   "id": "44126f9d-e23f-4ab4-bfea-413f87122d38",
   "metadata": {
    "ExecuteTime": {
     "end_time": "2025-01-30T22:45:49.844069Z",
     "start_time": "2025-01-30T22:45:48.877052Z"
    }
   },
   "source": [
    "\n",
    "\n",
    "# Read matrices and reliability values into one DataFrame\n",
    "all_matrices_df = read_matrices(matrices_path)\n",
    "all_rels_df = read_rel_values(reliabilities_path, config_all_path)\n",
    "merged_df = merge_matrices_and_rel(all_matrices_df, all_rels_df)\n",
    "\n",
    "# Explode the 'timestamp' and 'reliability' columns\n",
    "merged_df_exploded = merged_df.explode(['timestamp', 'reliability']).reset_index(drop=True)\n"
   ],
   "outputs": [],
   "execution_count": 1258
  },
  {
   "cell_type": "code",
   "id": "cb443894-9df7-49b3-bc7e-fcdc9f08780b",
   "metadata": {
    "ExecuteTime": {
     "end_time": "2025-01-30T22:45:49.891948Z",
     "start_time": "2025-01-30T22:45:49.887493Z"
    }
   },
   "source": [
    "# If the ONE_TIMESTAMP flag is set to True, filter the DataFrame to include only rows with a timestamp of 1000\n",
    "if ONE_TIMESTAMP:\n",
    "  merged_df_exploded = merged_df_exploded.loc[merged_df_exploded['timestamp'] == 1000]\n",
    "  # Reset the index of the DataFrame after filtering\n",
    "  merged_df_exploded = merged_df_exploded.reset_index(drop=True)\n",
    "\n",
    "if DELETE_FIRST_CLASS:\n",
    "    merged_df_exploded = merged_df_exploded.loc[merged_df_exploded['reliability'] >= 0.9]\n",
    "    merged_df_exploded = merged_df_exploded.reset_index(drop=True)\n",
    "# Display the shape of the DataFrame\n",
    "merged_df_exploded.shape\n"
   ],
   "outputs": [
    {
     "data": {
      "text/plain": [
       "(167736, 4)"
      ]
     },
     "execution_count": 1259,
     "metadata": {},
     "output_type": "execute_result"
    }
   ],
   "execution_count": 1259
  },
  {
   "cell_type": "code",
   "id": "aa8418ca-49b2-41c3-b5dd-d82f83fb24bb",
   "metadata": {
    "ExecuteTime": {
     "end_time": "2025-01-30T22:45:58.177701Z",
     "start_time": "2025-01-30T22:45:49.929360Z"
    }
   },
   "source": [
    "#Convert the matrices to edge indices\n",
    "\n",
    "all_edge_indices : list[torch.Tensor] = []\n",
    "\n",
    "merged_df_exploded['matrix'] = merged_df_exploded['matrix'].apply(np.array)\n",
    "\n",
    "for _, row in merged_df_exploded.iterrows():\n",
    "    matrix_np = row['matrix']\n",
    "\n",
    "    # Get the indices where there are edges (i.e., non-zero entries)\n",
    "    edge_indices = np.nonzero(matrix_np)\n",
    "\n",
    "    # Stack the indices into a 2xN array where each column represents an edge\n",
    "    edge_index = torch.tensor(np.vstack(edge_indices), dtype=torch.long)\n",
    "\n",
    "    # Append the edge_index tensor to the list\n",
    "    all_edge_indices.append(edge_index)"
   ],
   "outputs": [],
   "execution_count": 1260
  },
  {
   "cell_type": "code",
   "id": "3d3a244d6c89a60d",
   "metadata": {
    "ExecuteTime": {
     "end_time": "2025-01-30T22:45:58.283427Z",
     "start_time": "2025-01-30T22:45:58.249537Z"
    }
   },
   "source": [
    "max_reliability =  merged_df_exploded.loc[merged_df_exploded['reliability'] < 1, 'reliability'].max()\n",
    "\n",
    "max_value_decimal = Decimal(str(max_reliability))  # Ensure precise representation\n",
    "decimal_part = str(max_value_decimal).split('.')[1]  # Get the decimal part\n",
    "\n",
    "count_nines = 0\n",
    "for digit in decimal_part:\n",
    "    if digit == '9':\n",
    "        count_nines += 1\n",
    "    else:\n",
    "        break  # Stop counting when encountering the first non-9 digit\n"
   ],
   "outputs": [],
   "execution_count": 1261
  },
  {
   "cell_type": "code",
   "id": "51d2fda373e7d031",
   "metadata": {
    "ExecuteTime": {
     "end_time": "2025-01-30T22:45:58.361321Z",
     "start_time": "2025-01-30T22:45:58.357552Z"
    }
   },
   "source": [
    "getcontext().prec = count_nines + 2  # Set precision\n",
    "\n",
    "bins = []\n",
    "current_bin_start = Decimal('0')\n",
    "\n",
    "for i in range(1, count_nines + 1):\n",
    "    current_bin_end = Decimal('1') - Decimal(f'1e-{i}')\n",
    "    bins.append((current_bin_start, current_bin_end))\n",
    "    current_bin_start = current_bin_end\n",
    "\n",
    "# Add the last bin for values very close to 1\n",
    "# bins.append((current_bin_start, Decimal('1')))\n",
    "\n",
    "if DELETE_FIRST_CLASS:\n",
    "    bins.pop(0)\n",
    "\n",
    "\n"
   ],
   "outputs": [],
   "execution_count": 1262
  },
  {
   "cell_type": "code",
   "id": "b0c21595db287cfc",
   "metadata": {
    "ExecuteTime": {
     "end_time": "2025-01-30T22:45:58.374865Z",
     "start_time": "2025-01-30T22:45:58.372405Z"
    }
   },
   "source": [
    "def classify_into_bins(value, bins_nines):\n",
    "    for idx, (bin_start, bin_end) in enumerate(bins_nines):\n",
    "        if bin_start <= value < bin_end:\n",
    "            return idx\n",
    "    return len(bins)"
   ],
   "outputs": [],
   "execution_count": 1263
  },
  {
   "cell_type": "code",
   "id": "aee31c3c-17d0-4d7b-8e16-f77a8f31c18f",
   "metadata": {
    "ExecuteTime": {
     "end_time": "2025-01-30T22:46:01.528044Z",
     "start_time": "2025-01-30T22:45:58.410973Z"
    }
   },
   "source": [
    "all_rels : list[int] = []\n",
    "\n",
    "for _, row in merged_df_exploded.iterrows():\n",
    "    reliability = row['reliability']\n",
    "    bin_index = classify_into_bins(reliability, bins)\n",
    "    all_rels.append(bin_index)\n",
    "\n",
    "\n",
    "NUM_BINS = len(bins) + 1\n"
   ],
   "outputs": [],
   "execution_count": 1264
  },
  {
   "cell_type": "code",
   "id": "b68ae4fe04e9d1d5",
   "metadata": {
    "ExecuteTime": {
     "end_time": "2025-01-30T22:46:01.657768Z",
     "start_time": "2025-01-30T22:46:01.565757Z"
    }
   },
   "source": [
    "\n",
    "plot_rel_distribution(all_rels)"
   ],
   "outputs": [
    {
     "data": {
      "text/plain": [
       "<Figure size 1000x600 with 1 Axes>"
      ],
      "image/png": "[encoded data removed]"
     },
     "metadata": {},
     "output_type": "display_data"
    }
   ],
   "execution_count": 1265
  },
  {
   "cell_type": "code",
   "id": "c669f45d7ab3efa",
   "metadata": {
    "ExecuteTime": {
     "end_time": "2025-01-30T22:46:01.712048Z",
     "start_time": "2025-01-30T22:46:01.694964Z"
    }
   },
   "source": [
    "all_rels_tensor : torch.Tensor = torch.tensor(all_rels)"
   ],
   "outputs": [],
   "execution_count": 1266
  },
  {
   "cell_type": "code",
   "id": "03eaea9c-7e82-43e7-9af4-51e6ae8ea15e",
   "metadata": {
    "ExecuteTime": {
     "end_time": "2025-01-30T22:46:01.750142Z",
     "start_time": "2025-01-30T22:46:01.748036Z"
    }
   },
   "source": [
    "from typing import Any, Union\n"
   ],
   "outputs": [],
   "execution_count": 1267
  },
  {
   "cell_type": "code",
   "id": "806c4003-17bf-4fad-9b88-b99baa58d84c",
   "metadata": {
    "ExecuteTime": {
     "end_time": "2025-01-30T22:48:21.031619Z",
     "start_time": "2025-01-30T22:46:01.825290Z"
    }
   },
   "source": [
    "all_node_features: list[list[list[Union[float, int]]]] = []\n",
    "\n",
    "for _, row in tqdm(merged_df_exploded.iterrows()):\n",
    "    adj_matrix = row['matrix']\n",
    "    timestamp = row['timestamp']\n",
    "\n",
    "    G = nx.from_numpy_array(adj_matrix)\n",
    "\n",
    "    # Centrality measures (handle NaN cases)\n",
    "    degree_centrality = nx.degree_centrality(G)\n",
    "    closeness_centrality = {node: val if not np.isnan(val) else 0.0 for node, val in nx.closeness_centrality(G).items()}\n",
    "    betweenness_centrality = nx.betweenness_centrality(G)\n",
    "    '''\n",
    "    try:\n",
    "        eigenvector_centrality = nx.eigenvector_centrality(G, max_iter=1000, tol=1e-6)\n",
    "    except nx.PowerIterationFailedConvergence:\n",
    "        eigenvector_centrality = {node: 0.0 for node in G.nodes}\n",
    "    '''\n",
    "    #pagerank = nx.pagerank(G, alpha=0.85)\n",
    "    k_core = nx.core_number(G)\n",
    "    degree = adj_matrix.sum(axis=1)\n",
    "\n",
    "    failure_rates = calculate_failure_rates()\n",
    "\n",
    "    mean_failure_rate_neighbors = {\n",
    "        node: np.mean([failure_rates.get(n, 0.0) for n in G.neighbors(node)])\n",
    "        if len(list(G.neighbors(node))) > 0 else 0.0\n",
    "        for node in G.nodes\n",
    "    }\n",
    "\n",
    "    node_features_of_one_graph = []\n",
    "    for node in G.nodes():\n",
    "        node_features_of_one_node = [\n",
    "            degree_centrality[node],\n",
    "            closeness_centrality[node],\n",
    "            degree[node],\n",
    "            timestamp,\n",
    "            failure_rates.get(node, 0.0),\n",
    "            betweenness_centrality[node],\n",
    "         #   eigenvector_centrality[node],\n",
    "         #   pagerank[node],\n",
    "            k_core[node],\n",
    "            mean_failure_rate_neighbors[node]\n",
    "        ]\n",
    "        node_features_of_one_graph.append(node_features_of_one_node)\n",
    "\n",
    "    all_node_features.append(node_features_of_one_graph)\n",
    "\n",
    "\n",
    "node_features_tensor = torch.tensor(np.array(all_node_features), dtype=torch.float)"
   ],
   "outputs": [
    {
     "name": "stderr",
     "output_type": "stream",
     "text": [
      "167736it [02:14, 1248.54it/s]\n"
     ]
    }
   ],
   "execution_count": 1268
  },
  {
   "cell_type": "code",
   "id": "4b3391b2-2c84-49b8-87aa-21127442d98e",
   "metadata": {
    "ExecuteTime": {
     "end_time": "2025-01-30T22:48:21.113231Z",
     "start_time": "2025-01-30T22:48:21.107265Z"
    }
   },
   "source": [
    "'''\n",
    "#Create node features for the GNN\n",
    "num_features = NODE_FEATURES\n",
    "\n",
    "all_node_features = []\n",
    "for _, row in tqdm(merged_df_exploded.iterrows()):\n",
    "    \n",
    "  adj_matrix  = row['matrix'] # Matrix of the graph\n",
    "  timestamp = row['timestamp'] # Timestamp when reliability was measured\n",
    "  num_nodes = adj_matrix.shape[0] # Number of nodes in the graph\n",
    "  node_features = np.zeros((num_nodes, num_features)) # Initialize node features\n",
    "    \n",
    "  #Get indegree and centrality using NetworksX graph\n",
    "  G = nx.from_numpy_array(adj_matrix)\n",
    "\n",
    "  # Calculate centrality measures\n",
    "  degree_centrality = nx.degree_centrality(G)\n",
    "  closeness_centrality = nx.closeness_centrality(G)\n",
    "  degree = adj_matrix.sum(axis=1)\n",
    "  # Calculate failure rates based on given topology parameters\n",
    "  failure_rates = calculate_failure_rates()\n",
    "\n",
    "  # Assign features to each node\n",
    "  for node in G.nodes():\n",
    "      node_features[node, 0] = degree_centrality[node]\n",
    "      node_features[node, 1] = closeness_centrality[node]\n",
    "      node_features[node, 2] = degree[node]\n",
    "      node_features[node, 3] = timestamp\n",
    "      node_features[node, 4] = failure_rates[node]\n",
    "\n",
    "  all_node_features.append(node_features)\n",
    "node_features_tensor = torch.tensor(np.array(all_node_features), dtype=torch.float)\n",
    "'''"
   ],
   "outputs": [
    {
     "data": {
      "text/plain": [
       "\"\\n#Create node features for the GNN\\nnum_features = NODE_FEATURES\\n\\nall_node_features = []\\nfor _, row in tqdm(merged_df_exploded.iterrows()):\\n    \\n  adj_matrix  = row['matrix'] # Matrix of the graph\\n  timestamp = row['timestamp'] # Timestamp when reliability was measured\\n  num_nodes = adj_matrix.shape[0] # Number of nodes in the graph\\n  node_features = np.zeros((num_nodes, num_features)) # Initialize node features\\n    \\n  #Get indegree and centrality using NetworksX graph\\n  G = nx.from_numpy_array(adj_matrix)\\n\\n  # Calculate centrality measures\\n  degree_centrality = nx.degree_centrality(G)\\n  closeness_centrality = nx.closeness_centrality(G)\\n  degree = adj_matrix.sum(axis=1)\\n  # Calculate failure rates based on given topology parameters\\n  failure_rates = calculate_failure_rates()\\n\\n  # Assign features to each node\\n  for node in G.nodes():\\n      node_features[node, 0] = degree_centrality[node]\\n      node_features[node, 1] = closeness_centrality[node]\\n      node_features[node, 2] = degree[node]\\n      node_features[node, 3] = timestamp\\n      node_features[node, 4] = failure_rates[node]\\n\\n  all_node_features.append(node_features)\\nnode_features_tensor = torch.tensor(np.array(all_node_features), dtype=torch.float)\\n\""
      ]
     },
     "execution_count": 1269,
     "metadata": {},
     "output_type": "execute_result"
    }
   ],
   "execution_count": 1269
  },
  {
   "cell_type": "code",
   "id": "25d7cd5f-f1d3-4844-a218-365a41c5c127",
   "metadata": {
    "ExecuteTime": {
     "end_time": "2025-01-30T22:48:29.658047Z",
     "start_time": "2025-01-30T22:48:21.178793Z"
    }
   },
   "source": [
    "#Create list of Data objects, each containing the node features, edge indices, and target values\n",
    "data_list = []\n",
    "\n",
    "for i, row in merged_df_exploded.iterrows():\n",
    "  node_features = node_features_tensor[i]\n",
    "  edge_index = all_edge_indices[i]\n",
    "  y = all_rels[i]\n",
    "  data = Data(x=node_features, edge_index=edge_index, y=y)\n",
    "  data_list.append(data)"
   ],
   "outputs": [],
   "execution_count": 1270
  },
  {
   "cell_type": "code",
   "id": "2bb255bf-6c2b-47d3-9031-a946f3b2ea32",
   "metadata": {
    "ExecuteTime": {
     "end_time": "2025-01-30T22:48:30.959204Z",
     "start_time": "2025-01-30T22:48:29.710328Z"
    }
   },
   "source": [
    "!pip install imblearn"
   ],
   "outputs": [
    {
     "name": "stdout",
     "output_type": "stream",
     "text": [
      "Requirement already satisfied: imblearn in /Users/einar/Documents/EDISS/Period 1/DIE/ADES-reliability-estimation/.venv2/lib/python3.9/site-packages (0.0)\r\n",
      "Requirement already satisfied: imbalanced-learn in /Users/einar/Documents/EDISS/Period 1/DIE/ADES-reliability-estimation/.venv2/lib/python3.9/site-packages (from imblearn) (0.12.4)\r\n",
      "Requirement already satisfied: numpy>=1.17.3 in /Users/einar/Documents/EDISS/Period 1/DIE/ADES-reliability-estimation/.venv2/lib/python3.9/site-packages (from imbalanced-learn->imblearn) (2.0.2)\r\n",
      "Requirement already satisfied: scipy>=1.5.0 in /Users/einar/Documents/EDISS/Period 1/DIE/ADES-reliability-estimation/.venv2/lib/python3.9/site-packages (from imbalanced-learn->imblearn) (1.13.1)\r\n",
      "Requirement already satisfied: scikit-learn>=1.0.2 in /Users/einar/Documents/EDISS/Period 1/DIE/ADES-reliability-estimation/.venv2/lib/python3.9/site-packages (from imbalanced-learn->imblearn) (1.6.1)\r\n",
      "Requirement already satisfied: joblib>=1.1.1 in /Users/einar/Documents/EDISS/Period 1/DIE/ADES-reliability-estimation/.venv2/lib/python3.9/site-packages (from imbalanced-learn->imblearn) (1.4.2)\r\n",
      "Requirement already satisfied: threadpoolctl>=2.0.0 in /Users/einar/Documents/EDISS/Period 1/DIE/ADES-reliability-estimation/.venv2/lib/python3.9/site-packages (from imbalanced-learn->imblearn) (3.5.0)\r\n",
      "\r\n",
      "\u001B[1m[\u001B[0m\u001B[34;49mnotice\u001B[0m\u001B[1;39;49m]\u001B[0m\u001B[39;49m A new release of pip is available: \u001B[0m\u001B[31;49m23.2.1\u001B[0m\u001B[39;49m -> \u001B[0m\u001B[32;49m25.0\u001B[0m\r\n",
      "\u001B[1m[\u001B[0m\u001B[34;49mnotice\u001B[0m\u001B[1;39;49m]\u001B[0m\u001B[39;49m To update, run: \u001B[0m\u001B[32;49mpip install --upgrade pip\u001B[0m\r\n"
     ]
    }
   ],
   "execution_count": 1271
  },
  {
   "cell_type": "code",
   "id": "4ddcef66c6f8ea99",
   "metadata": {
    "ExecuteTime": {
     "end_time": "2025-01-30T22:48:31.206533Z",
     "start_time": "2025-01-30T22:48:31.024440Z"
    }
   },
   "source": [
    "from imblearn.under_sampling import RandomUnderSampler\n",
    "from imblearn.over_sampling import RandomOverSampler\n",
    "y = [data.y for data in data_list]  # Convert tensor labels to integers\n",
    "indices = list(range(len(data_list)))\n",
    "\n",
    "\n",
    "if UNDER_SAMPLING:\n",
    "# ros = RandomOverSampler(sampling_strategy='not majority', random_state=42)\n",
    "    ros = RandomUnderSampler(sampling_strategy='not minority', random_state=42)\n",
    "    indices_resampled, y_resampled = ros.fit_resample([[i] for i in indices], y)\n",
    "    data_list = [data_list[i[0]] for i in indices_resampled]\n",
    "\n",
    "    plot_rel_distribution([data.y for data in data_list])\n",
    "\n",
    "elif OVER_SAMPLING:\n",
    "    count = np.bincount(y)\n",
    "    print(count)\n",
    "    ros = RandomOverSampler(sampling_strategy={0: int(count[0]*1),1: int(count[1]*1), 2: int(count[2]*1.1),3: int(count[3]*1.5),4: int(count[4]*1.7),5: int(count[5]*1.9),6: int(count[6]*1.9),7: int(count[7]*2.5)}, random_state=42) \n",
    "    indices_resampled, y_resampled = ros.fit_resample([[i] for i in indices], y)\n",
    "    data_list = [data_list[i[0]] for i in indices_resampled]\n",
    "\n",
    "    plot_rel_distribution([data.y for data in data_list])\n",
    "\n"
   ],
   "outputs": [],
   "execution_count": 1272
  },
  {
   "cell_type": "code",
   "id": "4bbfbb02-b31f-4820-8fb7-1303f55ac270",
   "metadata": {
    "ExecuteTime": {
     "end_time": "2025-01-30T22:48:31.937417Z",
     "start_time": "2025-01-30T22:48:31.247949Z"
    }
   },
   "source": [
    "# Split into training and testing data\n",
    "train_data_list, test_data_list  = train_test_split(data_list, test_size=0.2, random_state=42)\n",
    "\n",
    "# Further split training data into training and validation\n",
    "train_data_list, val_data_list = train_test_split(train_data_list, test_size=0.25, random_state=42)  # 0.25 x 0.8 = 0.2 validation split\n",
    "\n",
    "# Create DataLoaders\n",
    "train_loader = DataLoader(train_data_list, batch_size=16, shuffle=True)\n",
    "val_loader = DataLoader(val_data_list, batch_size=16, shuffle=False)\n",
    "test_loader = DataLoader(test_data_list, batch_size=16, shuffle=False)\n",
    "\n",
    "print(f\"Training samples: {len(train_data_list)}\")\n",
    "print(f\"Validation samples: {len(val_data_list)}\")\n",
    "print(f\"Test samples: {len(test_data_list)}\")\n"
   ],
   "outputs": [
    {
     "name": "stdout",
     "output_type": "stream",
     "text": [
      "Training samples: 100641\n",
      "Validation samples: 33547\n",
      "Test samples: 33548\n"
     ]
    }
   ],
   "execution_count": 1273
  },
  {
   "cell_type": "code",
   "id": "45354d30-7347-451e-9445-79761c7ffe69",
   "metadata": {
    "ExecuteTime": {
     "end_time": "2025-01-30T22:48:31.985389Z",
     "start_time": "2025-01-30T22:48:31.978384Z"
    }
   },
   "source": [
    "device = torch.device('cuda' if torch.cuda.is_available() else 'cpu')\n",
    "\n",
    "model = GAT(input_dim=NODE_FEATURES, hidden_dim=32, output_dim=NUM_BINS, dropout_rate=DROPOUT_RATE).to(device)\n",
    "optimizer = torch.optim.Adam(model.parameters(), lr=LEARNING_RATE  ) # weight_decay=0.0001\n"
   ],
   "outputs": [
    {
     "name": "stderr",
     "output_type": "stream",
     "text": [
      "/Users/einar/Documents/EDISS/Period 1/DIE/ADES-reliability-estimation/.venv2/lib/python3.9/site-packages/torch_geometric/deprecation.py:26: UserWarning: 'nn.glob.GlobalAttention' is deprecated, use 'nn.aggr.AttentionalAggregation' instead\n",
      "  warnings.warn(out)\n"
     ]
    }
   ],
   "execution_count": 1274
  },
  {
   "cell_type": "code",
   "id": "335533eded1dce88",
   "metadata": {
    "ExecuteTime": {
     "end_time": "2025-01-30T22:48:32.027075Z",
     "start_time": "2025-01-30T22:48:32.023070Z"
    }
   },
   "source": [
    "total_samples = all_rels_tensor.size(0)\n",
    "class_counts = torch.bincount(all_rels_tensor)\n",
    "\n",
    "if CLASS_WEIGHTS:\n",
    "    class_weights = total_samples / (NUM_BINS * class_counts)\n",
    "    criterion = torch.nn.CrossEntropyLoss(weight=class_weights)\n",
    "elif CLASS_WEIGHTS_MIN_THRESHOLD:\n",
    "    class_counts = class_counts + 1e-6\n",
    "    class_weights = total_samples / (NUM_BINS * class_counts)\n",
    "    class_weights = class_weights / class_weights.sum()\n",
    "    print(\"Before: \", class_weights)\n",
    "    class_weights = torch.clamp(class_weights, min=0.1, max=0.16)\n",
    "    print(\"After: \", class_weights)\n",
    "    criterion = torch.nn.CrossEntropyLoss(weight=class_weights)\n",
    "else:\n",
    "    criterion = torch.nn.CrossEntropyLoss()"
   ],
   "outputs": [],
   "execution_count": 1275
  },
  {
   "cell_type": "code",
   "id": "db2e7a3e-1e4d-4f99-af36-cea56f7dab65",
   "metadata": {
    "ExecuteTime": {
     "end_time": "2025-01-30T22:48:32.106215Z",
     "start_time": "2025-01-30T22:48:32.102659Z"
    }
   },
   "source": [
    "train_config = {\n",
    "    \"num_epochs\": NUM_EPOCHS,\n",
    "    \"patience\": PATIENCE,\n",
    "    \"device\": device,\n",
    "    \"criterion\": criterion,\n",
    "    \"optimizer\": optimizer,\n",
    "}"
   ],
   "outputs": [],
   "execution_count": 1276
  },
  {
   "cell_type": "code",
   "id": "38b8ebbd-6e46-407b-8c07-df0de71665f6",
   "metadata": {
    "ExecuteTime": {
     "end_time": "2025-01-30T22:56:23.804212Z",
     "start_time": "2025-01-30T22:48:32.152723Z"
    }
   },
   "source": [
    "training_losses, validation_losses = train(model, train_loader, val_loader, train_config, model_checkpoints_path + \"best_model_GAT_MCC.pth\")"
   ],
   "outputs": [
    {
     "name": "stdout",
     "output_type": "stream",
     "text": [
      "Epoch 1/100, Train Loss: 1.1667\n",
      "Epoch 1/100, Validation Loss: 3.1770\n",
      "Best model updated based on validation loss.\n",
      "Epoch 2/100, Train Loss: 1.1217\n",
      "Epoch 2/100, Validation Loss: 1.1146\n",
      "Best model updated based on validation loss.\n",
      "Epoch 3/100, Train Loss: 1.0635\n",
      "Epoch 3/100, Validation Loss: 1.1021\n",
      "Best model updated based on validation loss.\n",
      "Epoch 4/100, Train Loss: 0.9671\n",
      "Epoch 4/100, Validation Loss: 1.1199\n",
      "No improvement in validation loss for 1 epoch(s).\n",
      "Epoch 5/100, Train Loss: 0.9912\n",
      "Epoch 5/100, Validation Loss: 1.0865\n",
      "Best model updated based on validation loss.\n",
      "Epoch 6/100, Train Loss: 0.9493\n",
      "Epoch 6/100, Validation Loss: 1.0666\n",
      "Best model updated based on validation loss.\n",
      "Epoch 7/100, Train Loss: 0.9312\n",
      "Epoch 7/100, Validation Loss: 1.8057\n",
      "No improvement in validation loss for 1 epoch(s).\n",
      "Epoch 8/100, Train Loss: 0.8895\n",
      "Epoch 8/100, Validation Loss: 1.3327\n",
      "No improvement in validation loss for 2 epoch(s).\n",
      "Epoch 9/100, Train Loss: 0.8312\n",
      "Epoch 9/100, Validation Loss: 2.1667\n",
      "No improvement in validation loss for 3 epoch(s).\n",
      "Epoch 10/100, Train Loss: 0.8004\n",
      "Epoch 10/100, Validation Loss: 1.5891\n",
      "No improvement in validation loss for 4 epoch(s).\n",
      "Epoch 11/100, Train Loss: 0.8100\n",
      "Epoch 11/100, Validation Loss: 0.8754\n",
      "Best model updated based on validation loss.\n",
      "Epoch 12/100, Train Loss: 0.7779\n",
      "Epoch 12/100, Validation Loss: 1.9517\n",
      "No improvement in validation loss for 1 epoch(s).\n",
      "Epoch 13/100, Train Loss: 0.7974\n",
      "Epoch 13/100, Validation Loss: 0.9868\n",
      "No improvement in validation loss for 2 epoch(s).\n",
      "Epoch 14/100, Train Loss: 0.8002\n",
      "Epoch 14/100, Validation Loss: 1.1715\n",
      "No improvement in validation loss for 3 epoch(s).\n",
      "Epoch 15/100, Train Loss: 0.7669\n",
      "Epoch 15/100, Validation Loss: 2.7442\n",
      "No improvement in validation loss for 4 epoch(s).\n",
      "Epoch 16/100, Train Loss: 0.7596\n",
      "Epoch 16/100, Validation Loss: 1.3564\n",
      "No improvement in validation loss for 5 epoch(s).\n",
      "Epoch 17/100, Train Loss: 0.7589\n",
      "Epoch 17/100, Validation Loss: 1.5410\n",
      "No improvement in validation loss for 6 epoch(s).\n",
      "Epoch 18/100, Train Loss: 0.7700\n",
      "Epoch 18/100, Validation Loss: 2.8570\n",
      "No improvement in validation loss for 7 epoch(s).\n",
      "Epoch 19/100, Train Loss: 0.7535\n",
      "Epoch 19/100, Validation Loss: 2.9294\n",
      "No improvement in validation loss for 8 epoch(s).\n",
      "Epoch 20/100, Train Loss: 0.7599\n",
      "Epoch 20/100, Validation Loss: 1.9075\n",
      "No improvement in validation loss for 9 epoch(s).\n",
      "Epoch 21/100, Train Loss: 0.7503\n",
      "Epoch 21/100, Validation Loss: 1.1869\n",
      "No improvement in validation loss for 10 epoch(s).\n",
      "Epoch 22/100, Train Loss: 0.7408\n",
      "Epoch 22/100, Validation Loss: 2.9450\n",
      "No improvement in validation loss for 11 epoch(s).\n",
      "Epoch 23/100, Train Loss: 0.7362\n",
      "Epoch 23/100, Validation Loss: 3.6686\n",
      "No improvement in validation loss for 12 epoch(s).\n",
      "Epoch 24/100, Train Loss: 0.7233\n",
      "Epoch 24/100, Validation Loss: 3.8847\n",
      "No improvement in validation loss for 13 epoch(s).\n",
      "Epoch 25/100, Train Loss: 0.7391\n",
      "Epoch 25/100, Validation Loss: 4.7311\n",
      "No improvement in validation loss for 14 epoch(s).\n",
      "Epoch 26/100, Train Loss: 0.7316\n",
      "Epoch 26/100, Validation Loss: 1.1741\n",
      "No improvement in validation loss for 15 epoch(s).\n",
      "Early stopping triggered.\n"
     ]
    }
   ],
   "execution_count": 1277
  },
  {
   "cell_type": "code",
   "id": "9d80d8dfe7d4ba55",
   "metadata": {
    "ExecuteTime": {
     "end_time": "2025-01-30T22:56:24.072591Z",
     "start_time": "2025-01-30T22:56:23.963637Z"
    }
   },
   "source": [
    "# Plot the training and validation losses\n",
    "import matplotlib.pyplot as plt\n",
    "\n",
    "# Plot the training and validation losses\n",
    "plt.figure(figsize=(10, 6))\n",
    "plt.plot(training_losses, label='Training Loss')\n",
    "plt.plot(validation_losses, label='Validation Loss')\n",
    "plt.xlabel('Epoch')\n",
    "plt.ylabel('Loss')\n",
    "plt.title('Training and Validation Loss Over Epochs')\n",
    "plt.legend()\n",
    "plt.grid(True)\n",
    "plt.show()\n",
    "\n"
   ],
   "outputs": [
    {
     "data": {
      "text/plain": [
       "<Figure size 1000x600 with 1 Axes>"
      ],
      "image/png": "[encoded data removed]"
     },
     "metadata": {},
     "output_type": "display_data"
    }
   ],
   "execution_count": 1278
  },
  {
   "cell_type": "code",
   "id": "2c0dd508-da62-471d-9f51-9591f81f480f",
   "metadata": {
    "ExecuteTime": {
     "end_time": "2025-01-30T22:56:24.089868Z",
     "start_time": "2025-01-30T22:56:24.079605Z"
    }
   },
   "source": [
    "# Load the best model after training\n",
    "model.load_state_dict(torch.load(model_checkpoints_path + \"best_model_GAT_MCC.pth\", weights_only=True))"
   ],
   "outputs": [
    {
     "data": {
      "text/plain": [
       "<All keys matched successfully>"
      ]
     },
     "execution_count": 1279,
     "metadata": {},
     "output_type": "execute_result"
    }
   ],
   "execution_count": 1279
  },
  {
   "cell_type": "code",
   "id": "f7b3252d-6cef-4e4d-9241-f27955ee9df1",
   "metadata": {
    "ExecuteTime": {
     "end_time": "2025-01-30T22:56:27.305726Z",
     "start_time": "2025-01-30T22:56:24.131133Z"
    }
   },
   "source": [
    "true_values, predicted_values, accuracy = evaluate(device, model, test_loader, model_checkpoints_path + \"best_model_GAT_MCC.pth\")"
   ],
   "outputs": [
    {
     "name": "stdout",
     "output_type": "stream",
     "text": [
      "GAT(\n",
      "  (conv1): GATConv(8, 32, heads=1)\n",
      "  (bn1): BatchNorm1d(32, eps=1e-05, momentum=0.1, affine=True, track_running_stats=True)\n",
      "  (conv2): GATConv(32, 16, heads=1)\n",
      "  (bn2): BatchNorm1d(16, eps=1e-05, momentum=0.1, affine=True, track_running_stats=True)\n",
      "  (dropout): Dropout(p=0.3, inplace=False)\n",
      "  (fc): Linear(in_features=16, out_features=8, bias=True)\n",
      "  (attention): GlobalAttention(gate_nn=Sequential(\n",
      "    (0): Linear(in_features=16, out_features=16, bias=True)\n",
      "    (1): ReLU()\n",
      "    (2): Linear(in_features=16, out_features=1, bias=True)\n",
      "  ), nn=None)\n",
      ")\n",
      "[np.int64(4), np.int64(3), np.int64(2), np.int64(3), np.int64(4), np.int64(0), np.int64(3), np.int64(0), np.int64(0), np.int64(1)]\n",
      "[np.int64(3), np.int64(3), np.int64(1), np.int64(3), np.int64(3), np.int64(1), np.int64(2), np.int64(0), np.int64(0), np.int64(1)]\n",
      "Accuracy: 0.6223\n"
     ]
    }
   ],
   "execution_count": 1280
  },
  {
   "cell_type": "code",
   "id": "a169f2fa-cb48-404e-b976-d685b6405638",
   "metadata": {
    "ExecuteTime": {
     "end_time": "2025-01-30T22:56:27.631394Z",
     "start_time": "2025-01-30T22:56:27.472466Z"
    }
   },
   "source": [
    "generate_matrix(true_values, predicted_values, accuracy, \"GAT\")"
   ],
   "outputs": [
    {
     "data": {
      "text/plain": [
       "<Figure size 640x480 with 2 Axes>"
      ],
      "image/png": "[encoded data removed]"
     },
     "metadata": {},
     "output_type": "display_data"
    }
   ],
   "execution_count": 1281
  },
  {
   "cell_type": "markdown",
   "id": "2d8477341c6e5bc1",
   "metadata": {},
   "source": [
    "# Experiments\n",
    "1. Original 0.6758%\n",
    "2. Class Weights 0.6460% but class 7 was predicted\n",
    "3. Class Weights + REMOVE_FIRST_CLASS 0.5589%\n",
    "4. Oversampling Majority  0.5911%"
   ]
  },
  {
   "cell_type": "code",
   "id": "c0f7099799dd566b",
   "metadata": {
    "ExecuteTime": {
     "end_time": "2025-01-30T22:56:27.648862Z",
     "start_time": "2025-01-30T22:56:27.646419Z"
    }
   },
   "source": [],
   "outputs": [],
   "execution_count": null
  }
 ],
 "metadata": {
  "kernelspec": {
   "display_name": "Python 3 (ipykernel)",
   "language": "python",
   "name": "python3"
  },
  "language_info": {
   "codemirror_mode": {
    "name": "ipython",
    "version": 3
   },
   "file_extension": ".py",
   "mimetype": "text/x-python",
   "name": "python",
   "nbconvert_exporter": "python",
   "pygments_lexer": "ipython3",
   "version": "3.11.10"
  }
 },
 "nbformat": 4,
 "nbformat_minor": 5
}
