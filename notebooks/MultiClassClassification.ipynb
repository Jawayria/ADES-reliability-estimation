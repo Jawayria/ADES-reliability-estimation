{
 "cells": [
  {
   "cell_type": "code",
   "id": "d3f434e5-ad5d-420a-8df3-cdd4a57b79fd",
   "metadata": {
    "ExecuteTime": {
     "end_time": "2025-01-31T14:28:30.797759Z",
     "start_time": "2025-01-31T14:28:30.780857Z"
    }
   },
   "source": [
    "import numpy as np\n",
    "import networkx as nx\n",
    "\n",
    "import torch\n",
    "\n",
    "from torch_geometric.data import Data\n",
    "from torch_geometric.loader import DataLoader\n",
    "\n",
    "from tqdm import tqdm\n",
    "\n",
    "from sklearn.model_selection import train_test_split\n",
    "\n",
    "from decimal import Decimal, getcontext\n",
    "\n",
    "import datamanip.plots\n",
    "import importlib\n",
    "import train_eval\n",
    "import models\n",
    "# '''\n",
    "importlib.reload(models.GAT)\n",
    "importlib.reload(datamanip.plots)\n",
    "importlib.reload(train_eval.train)\n",
    "\n",
    "# '''\n"
   ],
   "outputs": [
    {
     "data": {
      "text/plain": [
       "<module 'train_eval.train' from '/Users/einar/Documents/EDISS/Period 1/DIE/ADES-reliability-estimation/src/train_eval/train.py'>"
      ]
     },
     "execution_count": 1581,
     "metadata": {},
     "output_type": "execute_result"
    }
   ],
   "execution_count": 1581
  },
  {
   "cell_type": "code",
   "id": "1b8602fbdefee2bb",
   "metadata": {
    "ExecuteTime": {
     "end_time": "2025-01-31T14:28:30.812853Z",
     "start_time": "2025-01-31T14:28:30.804999Z"
    }
   },
   "source": [
    "\n",
    "from filepath import *\n",
    "from datamanip.plots import plot_rel_distribution, generate_matrix\n",
    "from datamanip.feature_extraction import calculate_failure_rates\n",
    "from datamanip.read_csvs import read_matrices, read_rel_values,merge_matrices_and_rel\n",
    "from models.GAT import GAT#, GCN, SimpleMPNN\n",
    "from train_eval.train import train\n",
    "from train_eval.evaluate import evaluate\n",
    "\n"
   ],
   "outputs": [],
   "execution_count": 1582
  },
  {
   "cell_type": "code",
   "id": "af7d21d4096e7504",
   "metadata": {
    "ExecuteTime": {
     "end_time": "2025-01-31T14:28:30.897409Z",
     "start_time": "2025-01-31T14:28:30.892597Z"
    }
   },
   "source": [
    "# Number of epochs to train the model\n",
    "NUM_EPOCHS = 300\n",
    "\n",
    "# Dropout rate for the model to prevent overfitting\n",
    "DROPOUT_RATE = 0.3\n",
    "\n",
    "# Learning rate for the optimizer\n",
    "LEARNING_RATE = 0.0005\n",
    "\n",
    "# Threshold for classifying reliability\n",
    "THRESHOLD = 0.97\n",
    "\n",
    "# Number of features for each node in the graph\n",
    "NODE_FEATURES = 8\n",
    "\n",
    "# Number of epochs to wait for improvement before early stopping\n",
    "PATIENCE = 30\n",
    "\n",
    "# Flag to indicate whether to use only one timestamp\n",
    "ONE_TIMESTAMP = False\n",
    "\n",
    "NUM_BINS = 2\n",
    "\n"
   ],
   "outputs": [],
   "execution_count": 1583
  },
  {
   "cell_type": "code",
   "id": "b7ecd9d5afa055d4",
   "metadata": {
    "ExecuteTime": {
     "end_time": "2025-01-31T14:28:30.961335Z",
     "start_time": "2025-01-31T14:28:30.952867Z"
    }
   },
   "source": [
    "## Class Imbalance Configuration\n",
    "\n",
    "# Remove all values bellow 0.9\n",
    "DELETE_FIRST_CLASS = True\n",
    "\n",
    "# Use class weights for the loss function\n",
    "CLASS_WEIGHTS = False\n",
    "\n",
    "UNDER_SAMPLING = False\n",
    "\n",
    "CLASS_WEIGHTS_MIN_THRESHOLD = False\n",
    "\n",
    "OVER_SAMPLING = False"
   ],
   "outputs": [],
   "execution_count": 1584
  },
  {
   "cell_type": "code",
   "id": "44126f9d-e23f-4ab4-bfea-413f87122d38",
   "metadata": {
    "ExecuteTime": {
     "end_time": "2025-01-31T14:28:31.778601Z",
     "start_time": "2025-01-31T14:28:31.005691Z"
    }
   },
   "source": [
    "\n",
    "\n",
    "# Read matrices and reliability values into one DataFrame\n",
    "all_matrices_df = read_matrices(matrices_path)\n",
    "all_rels_df = read_rel_values(reliabilities_path, config_all_path)\n",
    "merged_df = merge_matrices_and_rel(all_matrices_df, all_rels_df)\n",
    "\n",
    "# Explode the 'timestamp' and 'reliability' columns\n",
    "merged_df_exploded = merged_df.explode(['timestamp', 'reliability']).reset_index(drop=True)\n"
   ],
   "outputs": [],
   "execution_count": 1585
  },
  {
   "cell_type": "code",
   "id": "cb443894-9df7-49b3-bc7e-fcdc9f08780b",
   "metadata": {
    "ExecuteTime": {
     "end_time": "2025-01-31T14:28:31.828480Z",
     "start_time": "2025-01-31T14:28:31.816799Z"
    }
   },
   "source": [
    "# If the ONE_TIMESTAMP flag is set to True, filter the DataFrame to include only rows with a timestamp of 1000\n",
    "if ONE_TIMESTAMP:\n",
    "  merged_df_exploded = merged_df_exploded.loc[merged_df_exploded['timestamp'] == 1000]\n",
    "  # Reset the index of the DataFrame after filtering\n",
    "  merged_df_exploded = merged_df_exploded.reset_index(drop=True)\n",
    "\n",
    "if DELETE_FIRST_CLASS:\n",
    "    merged_df_exploded = merged_df_exploded.loc[merged_df_exploded['reliability'] >= 0.999999]\n",
    "    merged_df_exploded = merged_df_exploded.reset_index(drop=True)\n",
    "# Display the shape of the DataFrame\n",
    "merged_df_exploded.shape\n"
   ],
   "outputs": [
    {
     "data": {
      "text/plain": [
       "(15051, 4)"
      ]
     },
     "execution_count": 1586,
     "metadata": {},
     "output_type": "execute_result"
    }
   ],
   "execution_count": 1586
  },
  {
   "cell_type": "code",
   "id": "aa8418ca-49b2-41c3-b5dd-d82f83fb24bb",
   "metadata": {
    "ExecuteTime": {
     "end_time": "2025-01-31T14:28:32.588215Z",
     "start_time": "2025-01-31T14:28:31.869830Z"
    }
   },
   "source": [
    "#Convert the matrices to edge indices\n",
    "\n",
    "all_edge_indices : list[torch.Tensor] = []\n",
    "\n",
    "merged_df_exploded['matrix'] = merged_df_exploded['matrix'].apply(np.array)\n",
    "\n",
    "for _, row in merged_df_exploded.iterrows():\n",
    "    matrix_np = row['matrix']\n",
    "\n",
    "    # Get the indices where there are edges (i.e., non-zero entries)\n",
    "    edge_indices = np.nonzero(matrix_np)\n",
    "\n",
    "    # Stack the indices into a 2xN array where each column represents an edge\n",
    "    edge_index = torch.tensor(np.vstack(edge_indices), dtype=torch.long)\n",
    "\n",
    "    # Append the edge_index tensor to the list\n",
    "    all_edge_indices.append(edge_index)"
   ],
   "outputs": [],
   "execution_count": 1587
  },
  {
   "cell_type": "code",
   "id": "3d3a244d6c89a60d",
   "metadata": {
    "ExecuteTime": {
     "end_time": "2025-01-31T14:28:32.628920Z",
     "start_time": "2025-01-31T14:28:32.624535Z"
    }
   },
   "source": [
    "max_reliability =  merged_df_exploded.loc[merged_df_exploded['reliability'] < 1, 'reliability'].max()\n",
    "\n",
    "max_value_decimal = Decimal(str(max_reliability))  # Ensure precise representation\n",
    "decimal_part = str(max_value_decimal).split('.')[1]  # Get the decimal part\n",
    "\n",
    "count_nines = 0\n",
    "for digit in decimal_part:\n",
    "    if digit == '9':\n",
    "        count_nines += 1\n",
    "    else:\n",
    "        break  # Stop counting when encountering the first non-9 digit\n"
   ],
   "outputs": [],
   "execution_count": 1588
  },
  {
   "cell_type": "code",
   "id": "51d2fda373e7d031",
   "metadata": {
    "ExecuteTime": {
     "end_time": "2025-01-31T14:28:32.668994Z",
     "start_time": "2025-01-31T14:28:32.665538Z"
    }
   },
   "source": [
    "getcontext().prec = count_nines + 2  # Set precision\n",
    "\n",
    "bins = []\n",
    "current_bin_start = Decimal('0')\n",
    "\n",
    "for i in range(1, count_nines + 1):\n",
    "    current_bin_end = Decimal('1') - Decimal(f'1e-{i}')\n",
    "    bins.append((current_bin_start, current_bin_end))\n",
    "    current_bin_start = current_bin_end\n",
    "\n",
    "# Add the last bin for values very close to 1\n",
    "# bins.append((current_bin_start, Decimal('1')))\n",
    "\n",
    "if DELETE_FIRST_CLASS:\n",
    "    bins.pop(0)\n",
    "\n",
    "print(bins)\n"
   ],
   "outputs": [
    {
     "name": "stdout",
     "output_type": "stream",
     "text": [
      "[(Decimal('0.9'), Decimal('0.99')), (Decimal('0.99'), Decimal('0.999')), (Decimal('0.999'), Decimal('0.9999')), (Decimal('0.9999'), Decimal('0.99999')), (Decimal('0.99999'), Decimal('0.999999')), (Decimal('0.999999'), Decimal('0.9999999'))]\n"
     ]
    }
   ],
   "execution_count": 1589
  },
  {
   "cell_type": "code",
   "id": "b0c21595db287cfc",
   "metadata": {
    "ExecuteTime": {
     "end_time": "2025-01-31T14:28:32.709475Z",
     "start_time": "2025-01-31T14:28:32.706590Z"
    }
   },
   "source": [
    "def classify_into_bins(value, bins_nines):\n",
    "    for idx, (bin_start, bin_end) in enumerate(bins_nines):\n",
    "        if bin_start <= value < bin_end:\n",
    "            return idx\n",
    "    return len(bins)"
   ],
   "outputs": [],
   "execution_count": 1590
  },
  {
   "cell_type": "code",
   "id": "aee31c3c-17d0-4d7b-8e16-f77a8f31c18f",
   "metadata": {
    "ExecuteTime": {
     "end_time": "2025-01-31T14:28:33.068223Z",
     "start_time": "2025-01-31T14:28:32.745643Z"
    }
   },
   "source": [
    "all_rels : list[int] = []\n",
    "\n",
    "for _, row in merged_df_exploded.iterrows():\n",
    "    reliability = row['reliability']\n",
    "    bin_index = classify_into_bins(reliability, bins)\n",
    "    all_rels.append(bin_index)\n",
    "\n",
    "\n",
    "NUM_BINS = len(bins) + 1\n"
   ],
   "outputs": [],
   "execution_count": 1591
  },
  {
   "cell_type": "code",
   "id": "b68ae4fe04e9d1d5",
   "metadata": {
    "ExecuteTime": {
     "end_time": "2025-01-31T14:28:33.156107Z",
     "start_time": "2025-01-31T14:28:33.105185Z"
    }
   },
   "source": [
    "\n",
    "plot_rel_distribution(all_rels)"
   ],
   "outputs": [
    {
     "data": {
      "text/plain": [
       "<Figure size 1000x600 with 1 Axes>"
      ],
      "image/png": "[encoded data removed]"
     },
     "metadata": {},
     "output_type": "display_data"
    }
   ],
   "execution_count": 1592
  },
  {
   "cell_type": "code",
   "id": "c669f45d7ab3efa",
   "metadata": {
    "ExecuteTime": {
     "end_time": "2025-01-31T14:28:33.196777Z",
     "start_time": "2025-01-31T14:28:33.193555Z"
    }
   },
   "source": [
    "all_rels_tensor : torch.Tensor = torch.tensor(all_rels)"
   ],
   "outputs": [],
   "execution_count": 1593
  },
  {
   "cell_type": "code",
   "id": "03eaea9c-7e82-43e7-9af4-51e6ae8ea15e",
   "metadata": {
    "ExecuteTime": {
     "end_time": "2025-01-31T14:28:33.237564Z",
     "start_time": "2025-01-31T14:28:33.235547Z"
    }
   },
   "source": [
    "from typing import Any, Union\n"
   ],
   "outputs": [],
   "execution_count": 1594
  },
  {
   "cell_type": "code",
   "id": "806c4003-17bf-4fad-9b88-b99baa58d84c",
   "metadata": {
    "ExecuteTime": {
     "end_time": "2025-01-31T14:28:47.213831Z",
     "start_time": "2025-01-31T14:28:33.274376Z"
    }
   },
   "source": [
    "all_node_features: list[list[list[Union[float, int]]]] = []\n",
    "\n",
    "for _, row in tqdm(merged_df_exploded.iterrows()):\n",
    "    adj_matrix = row['matrix']\n",
    "    timestamp = row['timestamp']\n",
    "\n",
    "    G = nx.from_numpy_array(adj_matrix)\n",
    "\n",
    "    # Centrality measures (handle NaN cases)\n",
    "    degree_centrality = nx.degree_centrality(G)\n",
    "    closeness_centrality = {node: val if not np.isnan(val) else 0.0 for node, val in nx.closeness_centrality(G).items()}\n",
    "    betweenness_centrality = nx.betweenness_centrality(G)\n",
    "    '''\n",
    "    try:\n",
    "        eigenvector_centrality = nx.eigenvector_centrality(G, max_iter=1000, tol=1e-6)\n",
    "    except nx.PowerIterationFailedConvergence:\n",
    "        eigenvector_centrality = {node: 0.0 for node in G.nodes}\n",
    "    '''\n",
    "    #pagerank = nx.pagerank(G, alpha=0.85)\n",
    "    k_core = nx.core_number(G)\n",
    "    degree = adj_matrix.sum(axis=1)\n",
    "\n",
    "    failure_rates = calculate_failure_rates()\n",
    "\n",
    "    mean_failure_rate_neighbors = {\n",
    "        node: np.mean([failure_rates.get(n, 0.0) for n in G.neighbors(node)])\n",
    "        if len(list(G.neighbors(node))) > 0 else 0.0\n",
    "        for node in G.nodes\n",
    "    }\n",
    "\n",
    "    node_features_of_one_graph = []\n",
    "    for node in G.nodes():\n",
    "        node_features_of_one_node = [\n",
    "            degree_centrality[node],\n",
    "            closeness_centrality[node],\n",
    "            degree[node],\n",
    "            timestamp,\n",
    "            failure_rates.get(node, 0.0),\n",
    "            betweenness_centrality[node],\n",
    "         #   eigenvector_centrality[node],\n",
    "         #   pagerank[node],\n",
    "            k_core[node],\n",
    "            mean_failure_rate_neighbors[node]\n",
    "        ]\n",
    "        node_features_of_one_graph.append(node_features_of_one_node)\n",
    "\n",
    "    all_node_features.append(node_features_of_one_graph)\n",
    "\n",
    "\n",
    "node_features_tensor = torch.tensor(np.array(all_node_features), dtype=torch.float)"
   ],
   "outputs": [
    {
     "name": "stderr",
     "output_type": "stream",
     "text": [
      "15051it [00:13, 1094.97it/s]\n"
     ]
    }
   ],
   "execution_count": 1595
  },
  {
   "cell_type": "code",
   "id": "4b3391b2-2c84-49b8-87aa-21127442d98e",
   "metadata": {
    "ExecuteTime": {
     "end_time": "2025-01-31T14:28:47.308962Z",
     "start_time": "2025-01-31T14:28:47.305345Z"
    }
   },
   "source": [
    "'''\n",
    "#Create node features for the GNN\n",
    "num_features = NODE_FEATURES\n",
    "\n",
    "all_node_features = []\n",
    "for _, row in tqdm(merged_df_exploded.iterrows()):\n",
    "    \n",
    "  adj_matrix  = row['matrix'] # Matrix of the graph\n",
    "  timestamp = row['timestamp'] # Timestamp when reliability was measured\n",
    "  num_nodes = adj_matrix.shape[0] # Number of nodes in the graph\n",
    "  node_features = np.zeros((num_nodes, num_features)) # Initialize node features\n",
    "    \n",
    "  #Get indegree and centrality using NetworksX graph\n",
    "  G = nx.from_numpy_array(adj_matrix)\n",
    "\n",
    "  # Calculate centrality measures\n",
    "  degree_centrality = nx.degree_centrality(G)\n",
    "  closeness_centrality = nx.closeness_centrality(G)\n",
    "  degree = adj_matrix.sum(axis=1)\n",
    "  # Calculate failure rates based on given topology parameters\n",
    "  failure_rates = calculate_failure_rates()\n",
    "\n",
    "  # Assign features to each node\n",
    "  for node in G.nodes():\n",
    "      node_features[node, 0] = degree_centrality[node]\n",
    "      node_features[node, 1] = closeness_centrality[node]\n",
    "      node_features[node, 2] = degree[node]\n",
    "      node_features[node, 3] = timestamp\n",
    "      node_features[node, 4] = failure_rates[node]\n",
    "\n",
    "  all_node_features.append(node_features)\n",
    "node_features_tensor = torch.tensor(np.array(all_node_features), dtype=torch.float)\n",
    "'''"
   ],
   "outputs": [
    {
     "data": {
      "text/plain": [
       "\"\\n#Create node features for the GNN\\nnum_features = NODE_FEATURES\\n\\nall_node_features = []\\nfor _, row in tqdm(merged_df_exploded.iterrows()):\\n    \\n  adj_matrix  = row['matrix'] # Matrix of the graph\\n  timestamp = row['timestamp'] # Timestamp when reliability was measured\\n  num_nodes = adj_matrix.shape[0] # Number of nodes in the graph\\n  node_features = np.zeros((num_nodes, num_features)) # Initialize node features\\n    \\n  #Get indegree and centrality using NetworksX graph\\n  G = nx.from_numpy_array(adj_matrix)\\n\\n  # Calculate centrality measures\\n  degree_centrality = nx.degree_centrality(G)\\n  closeness_centrality = nx.closeness_centrality(G)\\n  degree = adj_matrix.sum(axis=1)\\n  # Calculate failure rates based on given topology parameters\\n  failure_rates = calculate_failure_rates()\\n\\n  # Assign features to each node\\n  for node in G.nodes():\\n      node_features[node, 0] = degree_centrality[node]\\n      node_features[node, 1] = closeness_centrality[node]\\n      node_features[node, 2] = degree[node]\\n      node_features[node, 3] = timestamp\\n      node_features[node, 4] = failure_rates[node]\\n\\n  all_node_features.append(node_features)\\nnode_features_tensor = torch.tensor(np.array(all_node_features), dtype=torch.float)\\n\""
      ]
     },
     "execution_count": 1596,
     "metadata": {},
     "output_type": "execute_result"
    }
   ],
   "execution_count": 1596
  },
  {
   "cell_type": "code",
   "id": "25d7cd5f-f1d3-4844-a218-365a41c5c127",
   "metadata": {
    "ExecuteTime": {
     "end_time": "2025-01-31T14:28:47.707229Z",
     "start_time": "2025-01-31T14:28:47.334586Z"
    }
   },
   "source": [
    "#Create list of Data objects, each containing the node features, edge indices, and target values\n",
    "data_list = []\n",
    "\n",
    "for i, row in merged_df_exploded.iterrows():\n",
    "  node_features = node_features_tensor[i]\n",
    "  edge_index = all_edge_indices[i]\n",
    "  y = all_rels[i]\n",
    "  data = Data(x=node_features, edge_index=edge_index, y=y)\n",
    "  data_list.append(data)"
   ],
   "outputs": [],
   "execution_count": 1597
  },
  {
   "cell_type": "code",
   "id": "2bb255bf-6c2b-47d3-9031-a946f3b2ea32",
   "metadata": {
    "ExecuteTime": {
     "end_time": "2025-01-31T14:28:48.891111Z",
     "start_time": "2025-01-31T14:28:47.748869Z"
    }
   },
   "source": [
    "!pip install imblearn"
   ],
   "outputs": [
    {
     "name": "stdout",
     "output_type": "stream",
     "text": [
      "Requirement already satisfied: imblearn in /Users/einar/Documents/EDISS/Period 1/DIE/ADES-reliability-estimation/.venv2/lib/python3.9/site-packages (0.0)\r\n",
      "Requirement already satisfied: imbalanced-learn in /Users/einar/Documents/EDISS/Period 1/DIE/ADES-reliability-estimation/.venv2/lib/python3.9/site-packages (from imblearn) (0.12.4)\r\n",
      "Requirement already satisfied: numpy>=1.17.3 in /Users/einar/Documents/EDISS/Period 1/DIE/ADES-reliability-estimation/.venv2/lib/python3.9/site-packages (from imbalanced-learn->imblearn) (2.0.2)\r\n",
      "Requirement already satisfied: scipy>=1.5.0 in /Users/einar/Documents/EDISS/Period 1/DIE/ADES-reliability-estimation/.venv2/lib/python3.9/site-packages (from imbalanced-learn->imblearn) (1.13.1)\r\n",
      "Requirement already satisfied: scikit-learn>=1.0.2 in /Users/einar/Documents/EDISS/Period 1/DIE/ADES-reliability-estimation/.venv2/lib/python3.9/site-packages (from imbalanced-learn->imblearn) (1.6.1)\r\n",
      "Requirement already satisfied: joblib>=1.1.1 in /Users/einar/Documents/EDISS/Period 1/DIE/ADES-reliability-estimation/.venv2/lib/python3.9/site-packages (from imbalanced-learn->imblearn) (1.4.2)\r\n",
      "Requirement already satisfied: threadpoolctl>=2.0.0 in /Users/einar/Documents/EDISS/Period 1/DIE/ADES-reliability-estimation/.venv2/lib/python3.9/site-packages (from imbalanced-learn->imblearn) (3.5.0)\r\n",
      "\r\n",
      "\u001B[1m[\u001B[0m\u001B[34;49mnotice\u001B[0m\u001B[1;39;49m]\u001B[0m\u001B[39;49m A new release of pip is available: \u001B[0m\u001B[31;49m23.2.1\u001B[0m\u001B[39;49m -> \u001B[0m\u001B[32;49m25.0\u001B[0m\r\n",
      "\u001B[1m[\u001B[0m\u001B[34;49mnotice\u001B[0m\u001B[1;39;49m]\u001B[0m\u001B[39;49m To update, run: \u001B[0m\u001B[32;49mpip install --upgrade pip\u001B[0m\r\n"
     ]
    }
   ],
   "execution_count": 1598
  },
  {
   "cell_type": "code",
   "id": "4ddcef66c6f8ea99",
   "metadata": {
    "ExecuteTime": {
     "end_time": "2025-01-31T14:28:48.965772Z",
     "start_time": "2025-01-31T14:28:48.952020Z"
    }
   },
   "source": [
    "from imblearn.under_sampling import RandomUnderSampler\n",
    "from imblearn.over_sampling import RandomOverSampler\n",
    "y = [data.y for data in data_list]  # Convert tensor labels to integers\n",
    "indices = list(range(len(data_list)))\n",
    "\n",
    "\n",
    "if UNDER_SAMPLING:\n",
    "# ros = RandomOverSampler(sampling_strategy='not majority', random_state=42)\n",
    "    ros = RandomUnderSampler(sampling_strategy='not minority', random_state=42)\n",
    "    indices_resampled, y_resampled = ros.fit_resample([[i] for i in indices], y)\n",
    "    data_list = [data_list[i[0]] for i in indices_resampled]\n",
    "\n",
    "    plot_rel_distribution([data.y for data in data_list])\n",
    "\n",
    "elif OVER_SAMPLING:\n",
    "    count = np.bincount(y)\n",
    "    print(count)\n",
    "    ros = RandomOverSampler(sampling_strategy={0: int(count[0]*1),1: int(count[1]*1), 2: int(count[2]*1.1),3: int(count[3]*1.5),4: int(count[4]*1.7),5: int(count[5]*1.9),6: int(count[6]*1.9),7: int(count[7]*2.5)}, random_state=42) \n",
    "    indices_resampled, y_resampled = ros.fit_resample([[i] for i in indices], y)\n",
    "    data_list = [data_list[i[0]] for i in indices_resampled]\n",
    "\n",
    "    plot_rel_distribution([data.y for data in data_list])\n",
    "\n"
   ],
   "outputs": [],
   "execution_count": 1599
  },
  {
   "cell_type": "code",
   "id": "4bbfbb02-b31f-4820-8fb7-1303f55ac270",
   "metadata": {
    "ExecuteTime": {
     "end_time": "2025-01-31T14:28:49.092706Z",
     "start_time": "2025-01-31T14:28:49.038904Z"
    }
   },
   "source": [
    "# Split into training and testing data\n",
    "train_data_list, test_data_list  = train_test_split(data_list, test_size=0.2, random_state=42)\n",
    "\n",
    "# Further split training data into training and validation\n",
    "train_data_list, val_data_list = train_test_split(train_data_list, test_size=0.25, random_state=42)  # 0.25 x 0.8 = 0.2 validation split\n",
    "\n",
    "# Create DataLoaders\n",
    "train_loader = DataLoader(train_data_list, batch_size=16, shuffle=True)\n",
    "val_loader = DataLoader(val_data_list, batch_size=16, shuffle=False)\n",
    "test_loader = DataLoader(test_data_list, batch_size=16, shuffle=False)\n",
    "\n",
    "print(f\"Training samples: {len(train_data_list)}\")\n",
    "print(f\"Validation samples: {len(val_data_list)}\")\n",
    "print(f\"Test samples: {len(test_data_list)}\")\n"
   ],
   "outputs": [
    {
     "name": "stdout",
     "output_type": "stream",
     "text": [
      "Training samples: 9030\n",
      "Validation samples: 3010\n",
      "Test samples: 3011\n"
     ]
    }
   ],
   "execution_count": 1600
  },
  {
   "cell_type": "code",
   "id": "45354d30-7347-451e-9445-79761c7ffe69",
   "metadata": {
    "ExecuteTime": {
     "end_time": "2025-01-31T14:28:49.111154Z",
     "start_time": "2025-01-31T14:28:49.105558Z"
    }
   },
   "source": [
    "device = torch.device('cuda' if torch.cuda.is_available() else 'cpu')\n",
    "\n",
    "model = GAT(input_dim=NODE_FEATURES, hidden_dim=16, output_dim=NUM_BINS, dropout_rate=DROPOUT_RATE).to(device)\n",
    "optimizer = torch.optim.Adam(model.parameters(), lr=LEARNING_RATE  ) # weight_decay=0.0001\n"
   ],
   "outputs": [],
   "execution_count": 1601
  },
  {
   "cell_type": "code",
   "id": "335533eded1dce88",
   "metadata": {
    "ExecuteTime": {
     "end_time": "2025-01-31T14:28:49.151772Z",
     "start_time": "2025-01-31T14:28:49.147961Z"
    }
   },
   "source": [
    "total_samples = all_rels_tensor.size(0)\n",
    "class_counts = torch.bincount(all_rels_tensor)\n",
    "\n",
    "if CLASS_WEIGHTS:\n",
    "    class_weights = total_samples / (NUM_BINS * class_counts)\n",
    "    criterion = torch.nn.CrossEntropyLoss(weight=class_weights)\n",
    "elif CLASS_WEIGHTS_MIN_THRESHOLD:\n",
    "    class_counts = class_counts + 1e-6\n",
    "    class_weights = total_samples / (NUM_BINS * class_counts)\n",
    "    class_weights = class_weights / class_weights.sum()\n",
    "    print(\"Before: \", class_weights)\n",
    "    class_weights = torch.clamp(class_weights, min=0.1, max=0.16)\n",
    "    print(\"After: \", class_weights)\n",
    "    criterion = torch.nn.CrossEntropyLoss(weight=class_weights)\n",
    "else:\n",
    "    criterion = torch.nn.CrossEntropyLoss()"
   ],
   "outputs": [],
   "execution_count": 1602
  },
  {
   "cell_type": "code",
   "id": "db2e7a3e-1e4d-4f99-af36-cea56f7dab65",
   "metadata": {
    "ExecuteTime": {
     "end_time": "2025-01-31T14:28:49.190494Z",
     "start_time": "2025-01-31T14:28:49.187837Z"
    }
   },
   "source": [
    "train_config = {\n",
    "    \"num_epochs\": NUM_EPOCHS,\n",
    "    \"patience\": PATIENCE,\n",
    "    \"device\": device,\n",
    "    \"criterion\": criterion,\n",
    "    \"optimizer\": optimizer,\n",
    "}"
   ],
   "outputs": [],
   "execution_count": 1603
  },
  {
   "cell_type": "code",
   "id": "38b8ebbd-6e46-407b-8c07-df0de71665f6",
   "metadata": {
    "ExecuteTime": {
     "end_time": "2025-01-31T14:32:16.166039Z",
     "start_time": "2025-01-31T14:28:49.227712Z"
    }
   },
   "source": [
    "training_losses, validation_losses = train(model, train_loader, val_loader, train_config, model_checkpoints_path + \"best_model_GAT_MCC.pth\")"
   ],
   "outputs": [
    {
     "name": "stdout",
     "output_type": "stream",
     "text": [
      "Epoch 1/300, Train Loss: 1.6454\n",
      "Epoch 1/300, Validation Loss: 0.9421\n",
      "Best model updated based on validation loss.\n",
      "Epoch 2/300, Train Loss: 0.6035\n",
      "Epoch 2/300, Validation Loss: 0.4267\n",
      "Best model updated based on validation loss.\n",
      "Epoch 3/300, Train Loss: 0.3933\n",
      "Epoch 3/300, Validation Loss: 0.3619\n",
      "Best model updated based on validation loss.\n",
      "Epoch 4/300, Train Loss: 0.3498\n",
      "Epoch 4/300, Validation Loss: 0.3180\n",
      "Best model updated based on validation loss.\n",
      "Epoch 5/300, Train Loss: 0.3355\n",
      "Epoch 5/300, Validation Loss: 0.3033\n",
      "Best model updated based on validation loss.\n",
      "Epoch 6/300, Train Loss: 0.3192\n",
      "Epoch 6/300, Validation Loss: 0.2983\n",
      "Best model updated based on validation loss.\n",
      "Epoch 7/300, Train Loss: 0.3201\n",
      "Epoch 7/300, Validation Loss: 0.2797\n",
      "Best model updated based on validation loss.\n",
      "Epoch 8/300, Train Loss: 0.3147\n",
      "Epoch 8/300, Validation Loss: 0.2741\n",
      "Best model updated based on validation loss.\n",
      "Epoch 9/300, Train Loss: 0.3197\n",
      "Epoch 9/300, Validation Loss: 0.2711\n",
      "Best model updated based on validation loss.\n",
      "Epoch 10/300, Train Loss: 0.3145\n",
      "Epoch 10/300, Validation Loss: 0.2757\n",
      "No improvement in validation loss for 1 epoch(s).\n",
      "Epoch 11/300, Train Loss: 0.3078\n",
      "Epoch 11/300, Validation Loss: 0.2756\n",
      "No improvement in validation loss for 2 epoch(s).\n",
      "Epoch 12/300, Train Loss: 0.3106\n",
      "Epoch 12/300, Validation Loss: 0.2763\n",
      "No improvement in validation loss for 3 epoch(s).\n",
      "Epoch 13/300, Train Loss: 0.3167\n",
      "Epoch 13/300, Validation Loss: 0.2658\n",
      "Best model updated based on validation loss.\n",
      "Epoch 14/300, Train Loss: 0.3029\n",
      "Epoch 14/300, Validation Loss: 0.2722\n",
      "No improvement in validation loss for 1 epoch(s).\n",
      "Epoch 15/300, Train Loss: 0.3159\n",
      "Epoch 15/300, Validation Loss: 0.2662\n",
      "No improvement in validation loss for 2 epoch(s).\n",
      "Epoch 16/300, Train Loss: 0.3088\n",
      "Epoch 16/300, Validation Loss: 0.2724\n",
      "No improvement in validation loss for 3 epoch(s).\n",
      "Epoch 17/300, Train Loss: 0.3039\n",
      "Epoch 17/300, Validation Loss: 0.2507\n",
      "Best model updated based on validation loss.\n",
      "Epoch 18/300, Train Loss: 0.2999\n",
      "Epoch 18/300, Validation Loss: 0.2596\n",
      "No improvement in validation loss for 1 epoch(s).\n",
      "Epoch 19/300, Train Loss: 0.3060\n",
      "Epoch 19/300, Validation Loss: 0.2537\n",
      "No improvement in validation loss for 2 epoch(s).\n",
      "Epoch 20/300, Train Loss: 0.3064\n",
      "Epoch 20/300, Validation Loss: 0.2650\n",
      "No improvement in validation loss for 3 epoch(s).\n",
      "Epoch 21/300, Train Loss: 0.3067\n",
      "Epoch 21/300, Validation Loss: 0.2560\n",
      "No improvement in validation loss for 4 epoch(s).\n",
      "Epoch 22/300, Train Loss: 0.3065\n",
      "Epoch 22/300, Validation Loss: 0.2645\n",
      "No improvement in validation loss for 5 epoch(s).\n",
      "Epoch 23/300, Train Loss: 0.3026\n",
      "Epoch 23/300, Validation Loss: 0.2595\n",
      "No improvement in validation loss for 6 epoch(s).\n",
      "Epoch 24/300, Train Loss: 0.2988\n",
      "Epoch 24/300, Validation Loss: 0.2495\n",
      "Best model updated based on validation loss.\n",
      "Epoch 25/300, Train Loss: 0.2953\n",
      "Epoch 25/300, Validation Loss: 0.2538\n",
      "No improvement in validation loss for 1 epoch(s).\n",
      "Epoch 26/300, Train Loss: 0.3012\n",
      "Epoch 26/300, Validation Loss: 0.2558\n",
      "No improvement in validation loss for 2 epoch(s).\n",
      "Epoch 27/300, Train Loss: 0.3027\n",
      "Epoch 27/300, Validation Loss: 0.2569\n",
      "No improvement in validation loss for 3 epoch(s).\n",
      "Epoch 28/300, Train Loss: 0.3015\n",
      "Epoch 28/300, Validation Loss: 0.2617\n",
      "No improvement in validation loss for 4 epoch(s).\n",
      "Epoch 29/300, Train Loss: 0.2979\n",
      "Epoch 29/300, Validation Loss: 0.2803\n",
      "No improvement in validation loss for 5 epoch(s).\n",
      "Epoch 30/300, Train Loss: 0.2970\n",
      "Epoch 30/300, Validation Loss: 0.2766\n",
      "No improvement in validation loss for 6 epoch(s).\n",
      "Epoch 31/300, Train Loss: 0.2978\n",
      "Epoch 31/300, Validation Loss: 0.2474\n",
      "Best model updated based on validation loss.\n",
      "Epoch 32/300, Train Loss: 0.3008\n",
      "Epoch 32/300, Validation Loss: 0.2841\n",
      "No improvement in validation loss for 1 epoch(s).\n",
      "Epoch 33/300, Train Loss: 0.2950\n",
      "Epoch 33/300, Validation Loss: 0.2522\n",
      "No improvement in validation loss for 2 epoch(s).\n",
      "Epoch 34/300, Train Loss: 0.2940\n",
      "Epoch 34/300, Validation Loss: 0.2504\n",
      "No improvement in validation loss for 3 epoch(s).\n",
      "Epoch 35/300, Train Loss: 0.2915\n",
      "Epoch 35/300, Validation Loss: 0.2549\n",
      "No improvement in validation loss for 4 epoch(s).\n",
      "Epoch 36/300, Train Loss: 0.2932\n",
      "Epoch 36/300, Validation Loss: 0.2491\n",
      "No improvement in validation loss for 5 epoch(s).\n",
      "Epoch 37/300, Train Loss: 0.2979\n",
      "Epoch 37/300, Validation Loss: 0.2539\n",
      "No improvement in validation loss for 6 epoch(s).\n",
      "Epoch 38/300, Train Loss: 0.2932\n",
      "Epoch 38/300, Validation Loss: 0.2664\n",
      "No improvement in validation loss for 7 epoch(s).\n",
      "Epoch 39/300, Train Loss: 0.2959\n",
      "Epoch 39/300, Validation Loss: 0.2443\n",
      "Best model updated based on validation loss.\n",
      "Epoch 40/300, Train Loss: 0.2904\n",
      "Epoch 40/300, Validation Loss: 0.2721\n",
      "No improvement in validation loss for 1 epoch(s).\n",
      "Epoch 41/300, Train Loss: 0.2940\n",
      "Epoch 41/300, Validation Loss: 0.2527\n",
      "No improvement in validation loss for 2 epoch(s).\n",
      "Epoch 42/300, Train Loss: 0.2936\n",
      "Epoch 42/300, Validation Loss: 0.2564\n",
      "No improvement in validation loss for 3 epoch(s).\n",
      "Epoch 43/300, Train Loss: 0.2872\n",
      "Epoch 43/300, Validation Loss: 0.2641\n",
      "No improvement in validation loss for 4 epoch(s).\n",
      "Epoch 44/300, Train Loss: 0.2934\n",
      "Epoch 44/300, Validation Loss: 0.2822\n",
      "No improvement in validation loss for 5 epoch(s).\n",
      "Epoch 45/300, Train Loss: 0.2884\n",
      "Epoch 45/300, Validation Loss: 0.2545\n",
      "No improvement in validation loss for 6 epoch(s).\n",
      "Epoch 46/300, Train Loss: 0.2955\n",
      "Epoch 46/300, Validation Loss: 0.2562\n",
      "No improvement in validation loss for 7 epoch(s).\n",
      "Epoch 47/300, Train Loss: 0.2933\n",
      "Epoch 47/300, Validation Loss: 0.2509\n",
      "No improvement in validation loss for 8 epoch(s).\n",
      "Epoch 48/300, Train Loss: 0.2929\n",
      "Epoch 48/300, Validation Loss: 0.2711\n",
      "No improvement in validation loss for 9 epoch(s).\n",
      "Epoch 49/300, Train Loss: 0.2900\n",
      "Epoch 49/300, Validation Loss: 0.2473\n",
      "No improvement in validation loss for 10 epoch(s).\n",
      "Epoch 50/300, Train Loss: 0.2938\n",
      "Epoch 50/300, Validation Loss: 0.2789\n",
      "No improvement in validation loss for 11 epoch(s).\n",
      "Epoch 51/300, Train Loss: 0.2883\n",
      "Epoch 51/300, Validation Loss: 0.2466\n",
      "No improvement in validation loss for 12 epoch(s).\n",
      "Epoch 52/300, Train Loss: 0.2940\n",
      "Epoch 52/300, Validation Loss: 0.2593\n",
      "No improvement in validation loss for 13 epoch(s).\n",
      "Epoch 53/300, Train Loss: 0.2896\n",
      "Epoch 53/300, Validation Loss: 0.2480\n",
      "No improvement in validation loss for 14 epoch(s).\n",
      "Epoch 54/300, Train Loss: 0.2911\n",
      "Epoch 54/300, Validation Loss: 0.3171\n",
      "No improvement in validation loss for 15 epoch(s).\n",
      "Epoch 55/300, Train Loss: 0.2864\n",
      "Epoch 55/300, Validation Loss: 0.2985\n",
      "No improvement in validation loss for 16 epoch(s).\n",
      "Epoch 56/300, Train Loss: 0.2931\n",
      "Epoch 56/300, Validation Loss: 0.2668\n",
      "No improvement in validation loss for 17 epoch(s).\n",
      "Epoch 57/300, Train Loss: 0.2859\n",
      "Epoch 57/300, Validation Loss: 0.2580\n",
      "No improvement in validation loss for 18 epoch(s).\n",
      "Epoch 58/300, Train Loss: 0.2902\n",
      "Epoch 58/300, Validation Loss: 0.2509\n",
      "No improvement in validation loss for 19 epoch(s).\n",
      "Epoch 59/300, Train Loss: 0.2867\n",
      "Epoch 59/300, Validation Loss: 0.2647\n",
      "No improvement in validation loss for 20 epoch(s).\n",
      "Epoch 60/300, Train Loss: 0.2863\n",
      "Epoch 60/300, Validation Loss: 0.2421\n",
      "Best model updated based on validation loss.\n",
      "Epoch 61/300, Train Loss: 0.2876\n",
      "Epoch 61/300, Validation Loss: 0.2682\n",
      "No improvement in validation loss for 1 epoch(s).\n",
      "Epoch 62/300, Train Loss: 0.2825\n",
      "Epoch 62/300, Validation Loss: 0.3012\n",
      "No improvement in validation loss for 2 epoch(s).\n",
      "Epoch 63/300, Train Loss: 0.2886\n",
      "Epoch 63/300, Validation Loss: 0.2420\n",
      "Best model updated based on validation loss.\n",
      "Epoch 64/300, Train Loss: 0.2837\n",
      "Epoch 64/300, Validation Loss: 0.2493\n",
      "No improvement in validation loss for 1 epoch(s).\n",
      "Epoch 65/300, Train Loss: 0.2810\n",
      "Epoch 65/300, Validation Loss: 0.2484\n",
      "No improvement in validation loss for 2 epoch(s).\n",
      "Epoch 66/300, Train Loss: 0.2839\n",
      "Epoch 66/300, Validation Loss: 0.2601\n",
      "No improvement in validation loss for 3 epoch(s).\n",
      "Epoch 67/300, Train Loss: 0.2839\n",
      "Epoch 67/300, Validation Loss: 0.2565\n",
      "No improvement in validation loss for 4 epoch(s).\n",
      "Epoch 68/300, Train Loss: 0.2814\n",
      "Epoch 68/300, Validation Loss: 0.2672\n",
      "No improvement in validation loss for 5 epoch(s).\n",
      "Epoch 69/300, Train Loss: 0.2824\n",
      "Epoch 69/300, Validation Loss: 0.2461\n",
      "No improvement in validation loss for 6 epoch(s).\n",
      "Epoch 70/300, Train Loss: 0.2868\n",
      "Epoch 70/300, Validation Loss: 0.2710\n",
      "No improvement in validation loss for 7 epoch(s).\n",
      "Epoch 71/300, Train Loss: 0.2846\n",
      "Epoch 71/300, Validation Loss: 0.2422\n",
      "No improvement in validation loss for 8 epoch(s).\n",
      "Epoch 72/300, Train Loss: 0.2808\n",
      "Epoch 72/300, Validation Loss: 0.2529\n",
      "No improvement in validation loss for 9 epoch(s).\n",
      "Epoch 73/300, Train Loss: 0.2828\n",
      "Epoch 73/300, Validation Loss: 0.2509\n",
      "No improvement in validation loss for 10 epoch(s).\n",
      "Epoch 74/300, Train Loss: 0.2748\n",
      "Epoch 74/300, Validation Loss: 0.2514\n",
      "No improvement in validation loss for 11 epoch(s).\n",
      "Epoch 75/300, Train Loss: 0.2826\n",
      "Epoch 75/300, Validation Loss: 0.2630\n",
      "No improvement in validation loss for 12 epoch(s).\n",
      "Epoch 76/300, Train Loss: 0.2812\n",
      "Epoch 76/300, Validation Loss: 0.2356\n",
      "Best model updated based on validation loss.\n",
      "Epoch 77/300, Train Loss: 0.2848\n",
      "Epoch 77/300, Validation Loss: 0.2467\n",
      "No improvement in validation loss for 1 epoch(s).\n",
      "Epoch 78/300, Train Loss: 0.2779\n",
      "Epoch 78/300, Validation Loss: 0.2591\n",
      "No improvement in validation loss for 2 epoch(s).\n",
      "Epoch 79/300, Train Loss: 0.2825\n",
      "Epoch 79/300, Validation Loss: 0.2420\n",
      "No improvement in validation loss for 3 epoch(s).\n",
      "Epoch 80/300, Train Loss: 0.2819\n",
      "Epoch 80/300, Validation Loss: 0.2402\n",
      "No improvement in validation loss for 4 epoch(s).\n",
      "Epoch 81/300, Train Loss: 0.2778\n",
      "Epoch 81/300, Validation Loss: 0.2513\n",
      "No improvement in validation loss for 5 epoch(s).\n",
      "Epoch 82/300, Train Loss: 0.2745\n",
      "Epoch 82/300, Validation Loss: 0.2370\n",
      "No improvement in validation loss for 6 epoch(s).\n",
      "Epoch 83/300, Train Loss: 0.2783\n",
      "Epoch 83/300, Validation Loss: 0.2407\n",
      "No improvement in validation loss for 7 epoch(s).\n",
      "Epoch 84/300, Train Loss: 0.2736\n",
      "Epoch 84/300, Validation Loss: 0.3043\n",
      "No improvement in validation loss for 8 epoch(s).\n",
      "Epoch 85/300, Train Loss: 0.2770\n",
      "Epoch 85/300, Validation Loss: 0.2358\n",
      "No improvement in validation loss for 9 epoch(s).\n",
      "Epoch 86/300, Train Loss: 0.2823\n",
      "Epoch 86/300, Validation Loss: 0.2358\n",
      "No improvement in validation loss for 10 epoch(s).\n",
      "Epoch 87/300, Train Loss: 0.2770\n",
      "Epoch 87/300, Validation Loss: 0.2263\n",
      "Best model updated based on validation loss.\n",
      "Epoch 88/300, Train Loss: 0.2804\n",
      "Epoch 88/300, Validation Loss: 0.2387\n",
      "No improvement in validation loss for 1 epoch(s).\n",
      "Epoch 89/300, Train Loss: 0.2741\n",
      "Epoch 89/300, Validation Loss: 0.2402\n",
      "No improvement in validation loss for 2 epoch(s).\n",
      "Epoch 90/300, Train Loss: 0.2747\n",
      "Epoch 90/300, Validation Loss: 0.2271\n",
      "No improvement in validation loss for 3 epoch(s).\n",
      "Epoch 91/300, Train Loss: 0.2744\n",
      "Epoch 91/300, Validation Loss: 0.2294\n",
      "No improvement in validation loss for 4 epoch(s).\n",
      "Epoch 92/300, Train Loss: 0.2713\n",
      "Epoch 92/300, Validation Loss: 0.2449\n",
      "No improvement in validation loss for 5 epoch(s).\n",
      "Epoch 93/300, Train Loss: 0.2755\n",
      "Epoch 93/300, Validation Loss: 0.2309\n",
      "No improvement in validation loss for 6 epoch(s).\n",
      "Epoch 94/300, Train Loss: 0.2682\n",
      "Epoch 94/300, Validation Loss: 0.2260\n",
      "Best model updated based on validation loss.\n",
      "Epoch 95/300, Train Loss: 0.2714\n",
      "Epoch 95/300, Validation Loss: 0.2285\n",
      "No improvement in validation loss for 1 epoch(s).\n",
      "Epoch 96/300, Train Loss: 0.2690\n",
      "Epoch 96/300, Validation Loss: 0.2852\n",
      "No improvement in validation loss for 2 epoch(s).\n",
      "Epoch 97/300, Train Loss: 0.2719\n",
      "Epoch 97/300, Validation Loss: 0.2174\n",
      "Best model updated based on validation loss.\n",
      "Epoch 98/300, Train Loss: 0.2691\n",
      "Epoch 98/300, Validation Loss: 0.2402\n",
      "No improvement in validation loss for 1 epoch(s).\n",
      "Epoch 99/300, Train Loss: 0.2680\n",
      "Epoch 99/300, Validation Loss: 0.2143\n",
      "Best model updated based on validation loss.\n",
      "Epoch 100/300, Train Loss: 0.2651\n",
      "Epoch 100/300, Validation Loss: 0.2358\n",
      "No improvement in validation loss for 1 epoch(s).\n",
      "Epoch 101/300, Train Loss: 0.2692\n",
      "Epoch 101/300, Validation Loss: 0.2300\n",
      "No improvement in validation loss for 2 epoch(s).\n",
      "Epoch 102/300, Train Loss: 0.2663\n",
      "Epoch 102/300, Validation Loss: 0.2803\n",
      "No improvement in validation loss for 3 epoch(s).\n",
      "Epoch 103/300, Train Loss: 0.2653\n",
      "Epoch 103/300, Validation Loss: 0.2081\n",
      "Best model updated based on validation loss.\n",
      "Epoch 104/300, Train Loss: 0.2637\n",
      "Epoch 104/300, Validation Loss: 0.2235\n",
      "No improvement in validation loss for 1 epoch(s).\n",
      "Epoch 105/300, Train Loss: 0.2637\n",
      "Epoch 105/300, Validation Loss: 0.2148\n",
      "No improvement in validation loss for 2 epoch(s).\n",
      "Epoch 106/300, Train Loss: 0.2596\n",
      "Epoch 106/300, Validation Loss: 0.1978\n",
      "Best model updated based on validation loss.\n",
      "Epoch 107/300, Train Loss: 0.2598\n",
      "Epoch 107/300, Validation Loss: 0.2227\n",
      "No improvement in validation loss for 1 epoch(s).\n",
      "Epoch 108/300, Train Loss: 0.2625\n",
      "Epoch 108/300, Validation Loss: 0.2266\n",
      "No improvement in validation loss for 2 epoch(s).\n",
      "Epoch 109/300, Train Loss: 0.2616\n",
      "Epoch 109/300, Validation Loss: 0.4397\n",
      "No improvement in validation loss for 3 epoch(s).\n",
      "Epoch 110/300, Train Loss: 0.2563\n",
      "Epoch 110/300, Validation Loss: 0.2183\n",
      "No improvement in validation loss for 4 epoch(s).\n",
      "Epoch 111/300, Train Loss: 0.2555\n",
      "Epoch 111/300, Validation Loss: 0.2446\n",
      "No improvement in validation loss for 5 epoch(s).\n",
      "Epoch 112/300, Train Loss: 0.2589\n",
      "Epoch 112/300, Validation Loss: 0.2022\n",
      "No improvement in validation loss for 6 epoch(s).\n",
      "Epoch 113/300, Train Loss: 0.2574\n",
      "Epoch 113/300, Validation Loss: 0.2157\n",
      "No improvement in validation loss for 7 epoch(s).\n",
      "Epoch 114/300, Train Loss: 0.2566\n",
      "Epoch 114/300, Validation Loss: 0.2106\n",
      "No improvement in validation loss for 8 epoch(s).\n",
      "Epoch 115/300, Train Loss: 0.2532\n",
      "Epoch 115/300, Validation Loss: 0.2103\n",
      "No improvement in validation loss for 9 epoch(s).\n",
      "Epoch 116/300, Train Loss: 0.2523\n",
      "Epoch 116/300, Validation Loss: 0.2056\n",
      "No improvement in validation loss for 10 epoch(s).\n",
      "Epoch 117/300, Train Loss: 0.2512\n",
      "Epoch 117/300, Validation Loss: 0.3086\n",
      "No improvement in validation loss for 11 epoch(s).\n",
      "Epoch 118/300, Train Loss: 0.2467\n",
      "Epoch 118/300, Validation Loss: 0.2356\n",
      "No improvement in validation loss for 12 epoch(s).\n",
      "Epoch 119/300, Train Loss: 0.2509\n",
      "Epoch 119/300, Validation Loss: 0.2185\n",
      "No improvement in validation loss for 13 epoch(s).\n",
      "Epoch 120/300, Train Loss: 0.2593\n",
      "Epoch 120/300, Validation Loss: 0.2123\n",
      "No improvement in validation loss for 14 epoch(s).\n",
      "Epoch 121/300, Train Loss: 0.2545\n",
      "Epoch 121/300, Validation Loss: 0.2303\n",
      "No improvement in validation loss for 15 epoch(s).\n",
      "Epoch 122/300, Train Loss: 0.2526\n",
      "Epoch 122/300, Validation Loss: 0.2570\n",
      "No improvement in validation loss for 16 epoch(s).\n",
      "Epoch 123/300, Train Loss: 0.2442\n",
      "Epoch 123/300, Validation Loss: 0.2173\n",
      "No improvement in validation loss for 17 epoch(s).\n",
      "Epoch 124/300, Train Loss: 0.2504\n",
      "Epoch 124/300, Validation Loss: 0.2114\n",
      "No improvement in validation loss for 18 epoch(s).\n",
      "Epoch 125/300, Train Loss: 0.2582\n",
      "Epoch 125/300, Validation Loss: 0.2023\n",
      "No improvement in validation loss for 19 epoch(s).\n",
      "Epoch 126/300, Train Loss: 0.2451\n",
      "Epoch 126/300, Validation Loss: 0.2809\n",
      "No improvement in validation loss for 20 epoch(s).\n",
      "Epoch 127/300, Train Loss: 0.2476\n",
      "Epoch 127/300, Validation Loss: 0.1957\n",
      "Best model updated based on validation loss.\n",
      "Epoch 128/300, Train Loss: 0.2414\n",
      "Epoch 128/300, Validation Loss: 0.2315\n",
      "No improvement in validation loss for 1 epoch(s).\n",
      "Epoch 129/300, Train Loss: 0.2430\n",
      "Epoch 129/300, Validation Loss: 0.2238\n",
      "No improvement in validation loss for 2 epoch(s).\n",
      "Epoch 130/300, Train Loss: 0.2472\n",
      "Epoch 130/300, Validation Loss: 0.2170\n",
      "No improvement in validation loss for 3 epoch(s).\n",
      "Epoch 131/300, Train Loss: 0.2437\n",
      "Epoch 131/300, Validation Loss: 0.1994\n",
      "No improvement in validation loss for 4 epoch(s).\n",
      "Epoch 132/300, Train Loss: 0.2454\n",
      "Epoch 132/300, Validation Loss: 0.2358\n",
      "No improvement in validation loss for 5 epoch(s).\n",
      "Epoch 133/300, Train Loss: 0.2388\n",
      "Epoch 133/300, Validation Loss: 0.1783\n",
      "Best model updated based on validation loss.\n",
      "Epoch 134/300, Train Loss: 0.2443\n",
      "Epoch 134/300, Validation Loss: 0.1810\n",
      "No improvement in validation loss for 1 epoch(s).\n",
      "Epoch 135/300, Train Loss: 0.2472\n",
      "Epoch 135/300, Validation Loss: 0.1970\n",
      "No improvement in validation loss for 2 epoch(s).\n",
      "Epoch 136/300, Train Loss: 0.2440\n",
      "Epoch 136/300, Validation Loss: 0.1978\n",
      "No improvement in validation loss for 3 epoch(s).\n",
      "Epoch 137/300, Train Loss: 0.2332\n",
      "Epoch 137/300, Validation Loss: 0.1796\n",
      "No improvement in validation loss for 4 epoch(s).\n",
      "Epoch 138/300, Train Loss: 0.2361\n",
      "Epoch 138/300, Validation Loss: 0.2178\n",
      "No improvement in validation loss for 5 epoch(s).\n",
      "Epoch 139/300, Train Loss: 0.2456\n",
      "Epoch 139/300, Validation Loss: 0.3028\n",
      "No improvement in validation loss for 6 epoch(s).\n",
      "Epoch 140/300, Train Loss: 0.2420\n",
      "Epoch 140/300, Validation Loss: 0.2592\n",
      "No improvement in validation loss for 7 epoch(s).\n",
      "Epoch 141/300, Train Loss: 0.2405\n",
      "Epoch 141/300, Validation Loss: 0.2225\n",
      "No improvement in validation loss for 8 epoch(s).\n",
      "Epoch 142/300, Train Loss: 0.2473\n",
      "Epoch 142/300, Validation Loss: 0.1894\n",
      "No improvement in validation loss for 9 epoch(s).\n",
      "Epoch 143/300, Train Loss: 0.2398\n",
      "Epoch 143/300, Validation Loss: 0.2222\n",
      "No improvement in validation loss for 10 epoch(s).\n",
      "Epoch 144/300, Train Loss: 0.2427\n",
      "Epoch 144/300, Validation Loss: 0.1881\n",
      "No improvement in validation loss for 11 epoch(s).\n",
      "Epoch 145/300, Train Loss: 0.2383\n",
      "Epoch 145/300, Validation Loss: 0.1922\n",
      "No improvement in validation loss for 12 epoch(s).\n",
      "Epoch 146/300, Train Loss: 0.2427\n",
      "Epoch 146/300, Validation Loss: 0.1901\n",
      "No improvement in validation loss for 13 epoch(s).\n",
      "Epoch 147/300, Train Loss: 0.2336\n",
      "Epoch 147/300, Validation Loss: 0.1824\n",
      "No improvement in validation loss for 14 epoch(s).\n",
      "Epoch 148/300, Train Loss: 0.2324\n",
      "Epoch 148/300, Validation Loss: 0.1867\n",
      "No improvement in validation loss for 15 epoch(s).\n",
      "Epoch 149/300, Train Loss: 0.2328\n",
      "Epoch 149/300, Validation Loss: 0.2250\n",
      "No improvement in validation loss for 16 epoch(s).\n",
      "Epoch 150/300, Train Loss: 0.2431\n",
      "Epoch 150/300, Validation Loss: 0.2249\n",
      "No improvement in validation loss for 17 epoch(s).\n",
      "Epoch 151/300, Train Loss: 0.2317\n",
      "Epoch 151/300, Validation Loss: 0.1841\n",
      "No improvement in validation loss for 18 epoch(s).\n",
      "Epoch 152/300, Train Loss: 0.2408\n",
      "Epoch 152/300, Validation Loss: 0.2340\n",
      "No improvement in validation loss for 19 epoch(s).\n",
      "Epoch 153/300, Train Loss: 0.2372\n",
      "Epoch 153/300, Validation Loss: 0.2231\n",
      "No improvement in validation loss for 20 epoch(s).\n",
      "Epoch 154/300, Train Loss: 0.2332\n",
      "Epoch 154/300, Validation Loss: 0.1934\n",
      "No improvement in validation loss for 21 epoch(s).\n",
      "Epoch 155/300, Train Loss: 0.2352\n",
      "Epoch 155/300, Validation Loss: 0.1844\n",
      "No improvement in validation loss for 22 epoch(s).\n",
      "Epoch 156/300, Train Loss: 0.2337\n",
      "Epoch 156/300, Validation Loss: 0.1943\n",
      "No improvement in validation loss for 23 epoch(s).\n",
      "Epoch 157/300, Train Loss: 0.2304\n",
      "Epoch 157/300, Validation Loss: 0.2066\n",
      "No improvement in validation loss for 24 epoch(s).\n",
      "Epoch 158/300, Train Loss: 0.2349\n",
      "Epoch 158/300, Validation Loss: 0.1948\n",
      "No improvement in validation loss for 25 epoch(s).\n",
      "Epoch 159/300, Train Loss: 0.2279\n",
      "Epoch 159/300, Validation Loss: 0.2149\n",
      "No improvement in validation loss for 26 epoch(s).\n",
      "Epoch 160/300, Train Loss: 0.2367\n",
      "Epoch 160/300, Validation Loss: 0.1809\n",
      "No improvement in validation loss for 27 epoch(s).\n",
      "Epoch 161/300, Train Loss: 0.2334\n",
      "Epoch 161/300, Validation Loss: 0.1806\n",
      "No improvement in validation loss for 28 epoch(s).\n",
      "Epoch 162/300, Train Loss: 0.2267\n",
      "Epoch 162/300, Validation Loss: 0.2117\n",
      "No improvement in validation loss for 29 epoch(s).\n",
      "Epoch 163/300, Train Loss: 0.2340\n",
      "Epoch 163/300, Validation Loss: 0.1810\n",
      "No improvement in validation loss for 30 epoch(s).\n",
      "Early stopping triggered.\n"
     ]
    }
   ],
   "execution_count": 1604
  },
  {
   "cell_type": "code",
   "id": "9d80d8dfe7d4ba55",
   "metadata": {
    "ExecuteTime": {
     "end_time": "2025-01-31T14:32:16.429809Z",
     "start_time": "2025-01-31T14:32:16.318253Z"
    }
   },
   "source": [
    "# Plot the training and validation losses\n",
    "import matplotlib.pyplot as plt\n",
    "\n",
    "# Plot the training and validation losses\n",
    "plt.figure(figsize=(10, 6))\n",
    "plt.plot(training_losses, label='Training Loss')\n",
    "plt.plot(validation_losses, label='Validation Loss')\n",
    "plt.xlabel('Epoch')\n",
    "plt.ylabel('Loss')\n",
    "plt.title('Training and Validation Loss Over Epochs')\n",
    "plt.legend()\n",
    "plt.grid(True)\n",
    "plt.show()\n",
    "\n"
   ],
   "outputs": [
    {
     "data": {
      "text/plain": [
       "<Figure size 1000x600 with 1 Axes>"
      ],
      "image/png": "[encoded data removed]"
     },
     "metadata": {},
     "output_type": "display_data"
    }
   ],
   "execution_count": 1605
  },
  {
   "cell_type": "code",
   "id": "2c0dd508-da62-471d-9f51-9591f81f480f",
   "metadata": {
    "ExecuteTime": {
     "end_time": "2025-01-31T14:32:16.442871Z",
     "start_time": "2025-01-31T14:32:16.436334Z"
    }
   },
   "source": [
    "# Load the best model after training\n",
    "model.load_state_dict(torch.load(model_checkpoints_path + \"best_model_GAT_MCC.pth\", weights_only=True))"
   ],
   "outputs": [
    {
     "data": {
      "text/plain": [
       "<All keys matched successfully>"
      ]
     },
     "execution_count": 1606,
     "metadata": {},
     "output_type": "execute_result"
    }
   ],
   "execution_count": 1606
  },
  {
   "cell_type": "code",
   "id": "f7b3252d-6cef-4e4d-9241-f27955ee9df1",
   "metadata": {
    "ExecuteTime": {
     "end_time": "2025-01-31T14:32:16.692852Z",
     "start_time": "2025-01-31T14:32:16.486164Z"
    }
   },
   "source": [
    "true_values, predicted_values, accuracy = evaluate(device, model, test_loader, model_checkpoints_path + \"best_model_GAT_MCC.pth\")"
   ],
   "outputs": [
    {
     "name": "stdout",
     "output_type": "stream",
     "text": [
      "GAT(\n",
      "  (conv1): GATConv(8, 16, heads=1)\n",
      "  (bn1): BatchNorm1d(16, eps=1e-05, momentum=0.1, affine=True, track_running_stats=True)\n",
      "  (conv2): GATConv(16, 8, heads=1)\n",
      "  (bn2): BatchNorm1d(8, eps=1e-05, momentum=0.1, affine=True, track_running_stats=True)\n",
      "  (dropout): Dropout(p=0.3, inplace=False)\n",
      "  (fc): Linear(in_features=8, out_features=7, bias=True)\n",
      ")\n",
      "[np.int64(5), np.int64(5), np.int64(6), np.int64(5), np.int64(5), np.int64(5), np.int64(6), np.int64(6), np.int64(5), np.int64(6)]\n",
      "[np.int64(6), np.int64(5), np.int64(6), np.int64(6), np.int64(5), np.int64(5), np.int64(5), np.int64(6), np.int64(5), np.int64(6)]\n",
      "Accuracy: 0.9276\n"
     ]
    }
   ],
   "execution_count": 1607
  },
  {
   "cell_type": "code",
   "id": "a169f2fa-cb48-404e-b976-d685b6405638",
   "metadata": {
    "ExecuteTime": {
     "end_time": "2025-01-31T14:32:16.828359Z",
     "start_time": "2025-01-31T14:32:16.740120Z"
    }
   },
   "source": [
    "generate_matrix(true_values, predicted_values, accuracy, \"GAT\")"
   ],
   "outputs": [
    {
     "data": {
      "text/plain": [
       "<Figure size 640x480 with 2 Axes>"
      ],
      "image/png": "[encoded data removed]"
     },
     "metadata": {},
     "output_type": "display_data"
    }
   ],
   "execution_count": 1608
  },
  {
   "cell_type": "markdown",
   "id": "2d8477341c6e5bc1",
   "metadata": {},
   "source": [
    "# Experiments\n",
    "1. Original 0.6758%\n",
    "2. Class Weights 0.6460% but class 7 was predicted\n",
    "3. Class Weights + REMOVE_FIRST_CLASS 0.5589%\n",
    "4. Oversampling Majority  0.5911%"
   ]
  },
  {
   "cell_type": "code",
   "id": "c0f7099799dd566b",
   "metadata": {
    "ExecuteTime": {
     "end_time": "2025-01-31T14:32:16.876991Z",
     "start_time": "2025-01-31T14:32:16.874939Z"
    }
   },
   "source": [],
   "outputs": [],
   "execution_count": null
  }
 ],
 "metadata": {
  "kernelspec": {
   "display_name": "Python 3 (ipykernel)",
   "language": "python",
   "name": "python3"
  },
  "language_info": {
   "codemirror_mode": {
    "name": "ipython",
    "version": 3
   },
   "file_extension": ".py",
   "mimetype": "text/x-python",
   "name": "python",
   "nbconvert_exporter": "python",
   "pygments_lexer": "ipython3",
   "version": "3.11.10"
  }
 },
 "nbformat": 4,
 "nbformat_minor": 5
}
