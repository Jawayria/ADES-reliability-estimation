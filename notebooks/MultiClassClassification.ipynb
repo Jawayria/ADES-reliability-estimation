{
 "cells": [
  {
   "cell_type": "code",
   "execution_count": 1,
   "id": "d3f434e5-ad5d-420a-8df3-cdd4a57b79fd",
   "metadata": {
    "ExecuteTime": {
     "end_time": "2025-01-29T21:39:12.963329Z",
     "start_time": "2025-01-29T21:39:12.925378Z"
    }
   },
   "outputs": [
    {
     "data": {
      "text/plain": [
       "'\\nimportlib.reload(models.GAT)\\nimportlib.reload(datamanip.plots)\\nimportlib.reload(train_eval.train)\\n\\n'"
      ]
     },
     "execution_count": 1,
     "metadata": {},
     "output_type": "execute_result"
    }
   ],
   "source": [
    "import numpy as np\n",
    "import networkx as nx\n",
    "\n",
    "import torch\n",
    "\n",
    "from torch_geometric.data import Data\n",
    "from torch_geometric.loader import DataLoader\n",
    "\n",
    "from tqdm import tqdm\n",
    "\n",
    "from sklearn.model_selection import train_test_split\n",
    "\n",
    "from decimal import Decimal, getcontext\n",
    "\n",
    "import datamanip.plots\n",
    "import importlib\n",
    "import train_eval\n",
    "import models\n",
    "'''\n",
    "importlib.reload(models.GAT)\n",
    "importlib.reload(datamanip.plots)\n",
    "importlib.reload(train_eval.train)\n",
    "\n",
    "'''\n"
   ]
  },
  {
   "cell_type": "code",
   "execution_count": 2,
   "id": "1b8602fbdefee2bb",
   "metadata": {
    "ExecuteTime": {
     "end_time": "2025-01-29T21:39:13.137309Z",
     "start_time": "2025-01-29T21:39:13.132623Z"
    }
   },
   "outputs": [],
   "source": [
    "\n",
    "from filepath import *\n",
    "from datamanip.plots import plot_rel_distribution, generate_matrix\n",
    "from datamanip.feature_extraction import calculate_failure_rates\n",
    "from datamanip.read_csvs import read_matrices, read_rel_values,merge_matrices_and_rel\n",
    "from models.GAT import GAT#, GCN, SimpleMPNN\n",
    "from train_eval.train import train\n",
    "from train_eval.evaluate import evaluate\n",
    "\n"
   ]
  },
  {
   "cell_type": "code",
   "execution_count": 3,
   "id": "af7d21d4096e7504",
   "metadata": {
    "ExecuteTime": {
     "end_time": "2025-01-29T21:39:13.145225Z",
     "start_time": "2025-01-29T21:39:13.141965Z"
    }
   },
   "outputs": [],
   "source": [
    "# Number of epochs to train the model\n",
    "NUM_EPOCHS = 200\n",
    "\n",
    "# Dropout rate for the model to prevent overfitting\n",
    "DROPOUT_RATE = 0.3\n",
    "\n",
    "# Learning rate for the optimizer\n",
    "LEARNING_RATE = 0.0005\n",
    "\n",
    "# Threshold for classifying reliability\n",
    "THRESHOLD = 0.97\n",
    "\n",
    "# Number of features for each node in the graph\n",
    "NODE_FEATURES = 8\n",
    "\n",
    "# Number of epochs to wait for improvement before early stopping\n",
    "PATIENCE = 30\n",
    "\n",
    "# Flag to indicate whether to use only one timestamp\n",
    "ONE_TIMESTAMP = False\n",
    "\n",
    "NUM_BINS = 8\n",
    "\n"
   ]
  },
  {
   "cell_type": "code",
   "execution_count": 4,
   "id": "b7ecd9d5afa055d4",
   "metadata": {
    "ExecuteTime": {
     "end_time": "2025-01-29T21:39:13.203709Z",
     "start_time": "2025-01-29T21:39:13.200203Z"
    }
   },
   "outputs": [],
   "source": [
    "## Class Imbalance Configuration\n",
    "\n",
    "# Remove all values bellow 0.9\n",
    "DELETE_FIRST_CLASS = False\n",
    "\n",
    "# Use class weights for the loss function\n",
    "CLASS_WEIGHTS = False\n",
    "\n",
    "UNDER_SAMPLING = True\n",
    "\n",
    "CLASS_WEIGHTS_MIN_THRESHOLD = False\n",
    "\n",
    "OVER_SAMPLING = False"
   ]
  },
  {
   "cell_type": "code",
   "execution_count": 5,
   "id": "44126f9d-e23f-4ab4-bfea-413f87122d38",
   "metadata": {
    "ExecuteTime": {
     "end_time": "2025-01-29T21:39:14.162112Z",
     "start_time": "2025-01-29T21:39:13.245945Z"
    }
   },
   "outputs": [],
   "source": [
    "\n",
    "\n",
    "# Read matrices and reliability values into one DataFrame\n",
    "all_matrices_df = read_matrices(matrices_path)\n",
    "all_rels_df = read_rel_values(reliabilities_path, config_all_path)\n",
    "merged_df = merge_matrices_and_rel(all_matrices_df, all_rels_df)\n",
    "\n",
    "# Explode the 'timestamp' and 'reliability' columns\n",
    "merged_df_exploded = merged_df.explode(['timestamp', 'reliability']).reset_index(drop=True)\n"
   ]
  },
  {
   "cell_type": "code",
   "execution_count": 6,
   "id": "cb443894-9df7-49b3-bc7e-fcdc9f08780b",
   "metadata": {
    "ExecuteTime": {
     "end_time": "2025-01-29T21:39:14.209649Z",
     "start_time": "2025-01-29T21:39:14.204864Z"
    }
   },
   "outputs": [
    {
     "data": {
      "text/plain": [
       "(167736, 4)"
      ]
     },
     "execution_count": 6,
     "metadata": {},
     "output_type": "execute_result"
    }
   ],
   "source": [
    "# If the ONE_TIMESTAMP flag is set to True, filter the DataFrame to include only rows with a timestamp of 1000\n",
    "if ONE_TIMESTAMP:\n",
    "  merged_df_exploded = merged_df_exploded.loc[merged_df_exploded['timestamp'] == 1000]\n",
    "  # Reset the index of the DataFrame after filtering\n",
    "  merged_df_exploded = merged_df_exploded.reset_index(drop=True)\n",
    "\n",
    "if DELETE_FIRST_CLASS:\n",
    "    merged_df_exploded = merged_df_exploded.loc[merged_df_exploded['reliability'] >= 0.9]\n",
    "    merged_df_exploded = merged_df_exploded.reset_index(drop=True)\n",
    "# Display the shape of the DataFrame\n",
    "merged_df_exploded.shape\n"
   ]
  },
  {
   "cell_type": "code",
   "execution_count": 7,
   "id": "aa8418ca-49b2-41c3-b5dd-d82f83fb24bb",
   "metadata": {
    "ExecuteTime": {
     "end_time": "2025-01-29T21:39:23.116324Z",
     "start_time": "2025-01-29T21:39:14.259831Z"
    }
   },
   "outputs": [],
   "source": [
    "#Convert the matrices to edge indices\n",
    "\n",
    "all_edge_indices : list[torch.Tensor] = []\n",
    "\n",
    "merged_df_exploded['matrix'] = merged_df_exploded['matrix'].apply(np.array)\n",
    "\n",
    "for _, row in merged_df_exploded.iterrows():\n",
    "    matrix_np = row['matrix']\n",
    "\n",
    "    # Get the indices where there are edges (i.e., non-zero entries)\n",
    "    edge_indices = np.nonzero(matrix_np)\n",
    "\n",
    "    # Stack the indices into a 2xN array where each column represents an edge\n",
    "    edge_index = torch.tensor(np.vstack(edge_indices), dtype=torch.long)\n",
    "\n",
    "    # Append the edge_index tensor to the list\n",
    "    all_edge_indices.append(edge_index)"
   ]
  },
  {
   "cell_type": "code",
   "execution_count": 8,
   "id": "3d3a244d6c89a60d",
   "metadata": {
    "ExecuteTime": {
     "end_time": "2025-01-29T21:39:23.256843Z",
     "start_time": "2025-01-29T21:39:23.208778Z"
    }
   },
   "outputs": [],
   "source": [
    "max_reliability =  merged_df_exploded.loc[merged_df_exploded['reliability'] < 1, 'reliability'].max()\n",
    "\n",
    "max_value_decimal = Decimal(str(max_reliability))  # Ensure precise representation\n",
    "decimal_part = str(max_value_decimal).split('.')[1]  # Get the decimal part\n",
    "\n",
    "count_nines = 0\n",
    "for digit in decimal_part:\n",
    "    if digit == '9':\n",
    "        count_nines += 1\n",
    "    else:\n",
    "        break  # Stop counting when encountering the first non-9 digit\n"
   ]
  },
  {
   "cell_type": "code",
   "execution_count": 9,
   "id": "51d2fda373e7d031",
   "metadata": {
    "ExecuteTime": {
     "end_time": "2025-01-29T21:39:23.357367Z",
     "start_time": "2025-01-29T21:39:23.353179Z"
    }
   },
   "outputs": [],
   "source": [
    "getcontext().prec = count_nines + 2  # Set precision\n",
    "\n",
    "bins = []\n",
    "current_bin_start = Decimal('0')\n",
    "\n",
    "for i in range(1, count_nines + 1):\n",
    "    current_bin_end = Decimal('1') - Decimal(f'1e-{i}')\n",
    "    bins.append((current_bin_start, current_bin_end))\n",
    "    current_bin_start = current_bin_end\n",
    "\n",
    "# Add the last bin for values very close to 1\n",
    "# bins.append((current_bin_start, Decimal('1')))\n",
    "\n",
    "if DELETE_FIRST_CLASS:\n",
    "    bins.pop(0)\n",
    "\n",
    "\n"
   ]
  },
  {
   "cell_type": "code",
   "execution_count": 10,
   "id": "b0c21595db287cfc",
   "metadata": {
    "ExecuteTime": {
     "end_time": "2025-01-29T21:39:23.413181Z",
     "start_time": "2025-01-29T21:39:23.410075Z"
    }
   },
   "outputs": [],
   "source": [
    "def classify_into_bins(value, bins_nines):\n",
    "    for idx, (bin_start, bin_end) in enumerate(bins_nines):\n",
    "        if bin_start <= value < bin_end:\n",
    "            return idx\n",
    "    return len(bins)"
   ]
  },
  {
   "cell_type": "code",
   "execution_count": 11,
   "id": "aee31c3c-17d0-4d7b-8e16-f77a8f31c18f",
   "metadata": {
    "ExecuteTime": {
     "end_time": "2025-01-29T21:39:26.959382Z",
     "start_time": "2025-01-29T21:39:23.423936Z"
    }
   },
   "outputs": [],
   "source": [
    "all_rels : list[int] = []\n",
    "\n",
    "for _, row in merged_df_exploded.iterrows():\n",
    "    reliability = row['reliability']\n",
    "    bin_index = classify_into_bins(reliability, bins)\n",
    "    all_rels.append(bin_index)\n",
    "\n",
    "\n",
    "NUM_BINS = len(bins) + 1\n"
   ]
  },
  {
   "cell_type": "code",
   "execution_count": 12,
   "id": "b68ae4fe04e9d1d5",
   "metadata": {
    "ExecuteTime": {
     "end_time": "2025-01-29T21:39:27.138Z",
     "start_time": "2025-01-29T21:39:27.009792Z"
    }
   },
   "outputs": [
    {
     "data": {
      "image/png": "[encoded data removed]",
      "text/plain": [
       "<Figure size 1000x600 with 1 Axes>"
      ]
     },
     "metadata": {},
     "output_type": "display_data"
    }
   ],
   "source": [
    "\n",
    "plot_rel_distribution(all_rels)"
   ]
  },
  {
   "cell_type": "code",
   "execution_count": 13,
   "id": "c669f45d7ab3efa",
   "metadata": {
    "ExecuteTime": {
     "end_time": "2025-01-29T21:39:27.270215Z",
     "start_time": "2025-01-29T21:39:27.248030Z"
    }
   },
   "outputs": [],
   "source": [
    "all_rels_tensor : torch.Tensor = torch.tensor(all_rels)"
   ]
  },
  {
   "cell_type": "code",
   "execution_count": 14,
   "id": "03eaea9c-7e82-43e7-9af4-51e6ae8ea15e",
   "metadata": {},
   "outputs": [],
   "source": [
    "from typing import Any, Union\n"
   ]
  },
  {
   "cell_type": "code",
   "execution_count": 15,
   "id": "806c4003-17bf-4fad-9b88-b99baa58d84c",
   "metadata": {},
   "outputs": [
    {
     "name": "stderr",
     "output_type": "stream",
     "text": [
      "167736it [01:40, 1673.22it/s]\n"
     ]
    }
   ],
   "source": [
    "    all_node_features: list[list[list[Union[float, int]]]] = []\n",
    "    \n",
    "    for _, row in tqdm(merged_df_exploded.iterrows()):\n",
    "        adj_matrix = row['matrix']  \n",
    "        timestamp = row['timestamp']\n",
    "\n",
    "        G = nx.from_numpy_array(adj_matrix)\n",
    "\n",
    "        # Centrality measures (handle NaN cases)\n",
    "        degree_centrality = nx.degree_centrality(G)\n",
    "        closeness_centrality = {node: val if not np.isnan(val) else 0.0 for node, val in nx.closeness_centrality(G).items()}\n",
    "        betweenness_centrality = nx.betweenness_centrality(G)\n",
    "        '''\n",
    "        try:\n",
    "            eigenvector_centrality = nx.eigenvector_centrality(G, max_iter=1000, tol=1e-6)\n",
    "        except nx.PowerIterationFailedConvergence:\n",
    "            eigenvector_centrality = {node: 0.0 for node in G.nodes}\n",
    "        '''\n",
    "        #pagerank = nx.pagerank(G, alpha=0.85)\n",
    "        k_core = nx.core_number(G)\n",
    "        degree = adj_matrix.sum(axis=1)\n",
    "\n",
    "        failure_rates = calculate_failure_rates()\n",
    "        \n",
    "        mean_failure_rate_neighbors = {\n",
    "            node: np.mean([failure_rates.get(n, 0.0) for n in G.neighbors(node)]) \n",
    "            if len(list(G.neighbors(node))) > 0 else 0.0\n",
    "            for node in G.nodes\n",
    "        }\n",
    "        \n",
    "        node_features_of_one_graph = []\n",
    "        for node in G.nodes():\n",
    "            node_features_of_one_node = [\n",
    "                degree_centrality[node], \n",
    "                closeness_centrality[node], \n",
    "                degree[node], \n",
    "                timestamp,\n",
    "                failure_rates.get(node, 0.0),\n",
    "                betweenness_centrality[node], \n",
    "             #   eigenvector_centrality[node],\n",
    "             #   pagerank[node], \n",
    "                k_core[node], \n",
    "                mean_failure_rate_neighbors[node]\n",
    "            ]\n",
    "            node_features_of_one_graph.append(node_features_of_one_node)\n",
    "        \n",
    "        all_node_features.append(node_features_of_one_graph)\n",
    "\n",
    "\n",
    "    node_features_tensor = torch.tensor(np.array(all_node_features), dtype=torch.float)"
   ]
  },
  {
   "cell_type": "code",
   "execution_count": 16,
   "id": "4b3391b2-2c84-49b8-87aa-21127442d98e",
   "metadata": {
    "ExecuteTime": {
     "end_time": "2025-01-29T21:40:15.410131Z",
     "start_time": "2025-01-29T21:39:27.275973Z"
    }
   },
   "outputs": [
    {
     "data": {
      "text/plain": [
       "\"\\n#Create node features for the GNN\\nnum_features = NODE_FEATURES\\n\\nall_node_features = []\\nfor _, row in tqdm(merged_df_exploded.iterrows()):\\n    \\n  adj_matrix  = row['matrix'] # Matrix of the graph\\n  timestamp = row['timestamp'] # Timestamp when reliability was measured\\n  num_nodes = adj_matrix.shape[0] # Number of nodes in the graph\\n  node_features = np.zeros((num_nodes, num_features)) # Initialize node features\\n    \\n  #Get indegree and centrality using NetworksX graph\\n  G = nx.from_numpy_array(adj_matrix)\\n\\n  # Calculate centrality measures\\n  degree_centrality = nx.degree_centrality(G)\\n  closeness_centrality = nx.closeness_centrality(G)\\n  degree = adj_matrix.sum(axis=1)\\n  # Calculate failure rates based on given topology parameters\\n  failure_rates = calculate_failure_rates()\\n\\n  # Assign features to each node\\n  for node in G.nodes():\\n      node_features[node, 0] = degree_centrality[node]\\n      node_features[node, 1] = closeness_centrality[node]\\n      node_features[node, 2] = degree[node]\\n      node_features[node, 3] = timestamp\\n      node_features[node, 4] = failure_rates[node]\\n\\n  all_node_features.append(node_features)\\nnode_features_tensor = torch.tensor(np.array(all_node_features), dtype=torch.float)\\n\""
      ]
     },
     "execution_count": 16,
     "metadata": {},
     "output_type": "execute_result"
    }
   ],
   "source": [
    "'''\n",
    "#Create node features for the GNN\n",
    "num_features = NODE_FEATURES\n",
    "\n",
    "all_node_features = []\n",
    "for _, row in tqdm(merged_df_exploded.iterrows()):\n",
    "    \n",
    "  adj_matrix  = row['matrix'] # Matrix of the graph\n",
    "  timestamp = row['timestamp'] # Timestamp when reliability was measured\n",
    "  num_nodes = adj_matrix.shape[0] # Number of nodes in the graph\n",
    "  node_features = np.zeros((num_nodes, num_features)) # Initialize node features\n",
    "    \n",
    "  #Get indegree and centrality using NetworksX graph\n",
    "  G = nx.from_numpy_array(adj_matrix)\n",
    "\n",
    "  # Calculate centrality measures\n",
    "  degree_centrality = nx.degree_centrality(G)\n",
    "  closeness_centrality = nx.closeness_centrality(G)\n",
    "  degree = adj_matrix.sum(axis=1)\n",
    "  # Calculate failure rates based on given topology parameters\n",
    "  failure_rates = calculate_failure_rates()\n",
    "\n",
    "  # Assign features to each node\n",
    "  for node in G.nodes():\n",
    "      node_features[node, 0] = degree_centrality[node]\n",
    "      node_features[node, 1] = closeness_centrality[node]\n",
    "      node_features[node, 2] = degree[node]\n",
    "      node_features[node, 3] = timestamp\n",
    "      node_features[node, 4] = failure_rates[node]\n",
    "\n",
    "  all_node_features.append(node_features)\n",
    "node_features_tensor = torch.tensor(np.array(all_node_features), dtype=torch.float)\n",
    "'''"
   ]
  },
  {
   "cell_type": "code",
   "execution_count": 17,
   "id": "25d7cd5f-f1d3-4844-a218-365a41c5c127",
   "metadata": {
    "ExecuteTime": {
     "end_time": "2025-01-29T21:40:21.694640Z",
     "start_time": "2025-01-29T21:40:15.557673Z"
    }
   },
   "outputs": [],
   "source": [
    "#Create list of Data objects, each containing the node features, edge indices, and target values\n",
    "data_list = []\n",
    "\n",
    "for i, row in merged_df_exploded.iterrows():\n",
    "  node_features = node_features_tensor[i]\n",
    "  edge_index = all_edge_indices[i]\n",
    "  y = all_rels[i]\n",
    "  data = Data(x=node_features, edge_index=edge_index, y=y)\n",
    "  data_list.append(data)"
   ]
  },
  {
   "cell_type": "code",
   "execution_count": 18,
   "id": "2bb255bf-6c2b-47d3-9031-a946f3b2ea32",
   "metadata": {},
   "outputs": [
    {
     "name": "stdout",
     "output_type": "stream",
     "text": [
      "Requirement already satisfied: imblearn in /Users/jawayria/Desktop/EDISS/DIE/ADES-Reliability-Estimation/venv/lib/python3.11/site-packages (0.0)\n",
      "Requirement already satisfied: imbalanced-learn in /Users/jawayria/Desktop/EDISS/DIE/ADES-Reliability-Estimation/venv/lib/python3.11/site-packages (from imblearn) (0.13.0)\n",
      "Requirement already satisfied: numpy<3,>=1.24.3 in /Users/jawayria/Desktop/EDISS/DIE/ADES-Reliability-Estimation/venv/lib/python3.11/site-packages (from imbalanced-learn->imblearn) (2.2.1)\n",
      "Requirement already satisfied: scipy<2,>=1.10.1 in /Users/jawayria/Desktop/EDISS/DIE/ADES-Reliability-Estimation/venv/lib/python3.11/site-packages (from imbalanced-learn->imblearn) (1.15.1)\n",
      "Requirement already satisfied: scikit-learn<2,>=1.3.2 in /Users/jawayria/Desktop/EDISS/DIE/ADES-Reliability-Estimation/venv/lib/python3.11/site-packages (from imbalanced-learn->imblearn) (1.6.1)\n",
      "Requirement already satisfied: sklearn-compat<1,>=0.1 in /Users/jawayria/Desktop/EDISS/DIE/ADES-Reliability-Estimation/venv/lib/python3.11/site-packages (from imbalanced-learn->imblearn) (0.1.3)\n",
      "Requirement already satisfied: joblib<2,>=1.1.1 in /Users/jawayria/Desktop/EDISS/DIE/ADES-Reliability-Estimation/venv/lib/python3.11/site-packages (from imbalanced-learn->imblearn) (1.4.2)\n",
      "Requirement already satisfied: threadpoolctl<4,>=2.0.0 in /Users/jawayria/Desktop/EDISS/DIE/ADES-Reliability-Estimation/venv/lib/python3.11/site-packages (from imbalanced-learn->imblearn) (3.5.0)\n",
      "\n",
      "\u001b[1m[\u001b[0m\u001b[34;49mnotice\u001b[0m\u001b[1;39;49m]\u001b[0m\u001b[39;49m A new release of pip is available: \u001b[0m\u001b[31;49m24.0\u001b[0m\u001b[39;49m -> \u001b[0m\u001b[32;49m25.0\u001b[0m\n",
      "\u001b[1m[\u001b[0m\u001b[34;49mnotice\u001b[0m\u001b[1;39;49m]\u001b[0m\u001b[39;49m To update, run: \u001b[0m\u001b[32;49mpip install --upgrade pip\u001b[0m\n"
     ]
    }
   ],
   "source": [
    "!pip install imblearn"
   ]
  },
  {
   "cell_type": "code",
   "execution_count": 19,
   "id": "4ddcef66c6f8ea99",
   "metadata": {
    "ExecuteTime": {
     "end_time": "2025-01-29T21:40:23.769279Z",
     "start_time": "2025-01-29T21:40:21.742531Z"
    }
   },
   "outputs": [
    {
     "data": {
      "image/png": "[encoded data removed]",
      "text/plain": [
       "<Figure size 1000x600 with 1 Axes>"
      ]
     },
     "metadata": {},
     "output_type": "display_data"
    }
   ],
   "source": [
    "from imblearn.under_sampling import RandomUnderSampler\n",
    "from imblearn.over_sampling import RandomOverSampler\n",
    "y = [data.y for data in data_list]  # Convert tensor labels to integers\n",
    "indices = list(range(len(data_list)))\n",
    "\n",
    "\n",
    "if UNDER_SAMPLING:\n",
    "# ros = RandomOverSampler(sampling_strategy='not majority', random_state=42)\n",
    "    ros = RandomUnderSampler(sampling_strategy='not minority', random_state=42)\n",
    "    indices_resampled, y_resampled = ros.fit_resample([[i] for i in indices], y)\n",
    "    data_list = [data_list[i[0]] for i in indices_resampled]\n",
    "\n",
    "    plot_rel_distribution([data.y for data in data_list])\n",
    "\n",
    "elif OVER_SAMPLING:\n",
    "    count = np.bincount(y)\n",
    "    print(count)\n",
    "    ros = RandomOverSampler(sampling_strategy={0: int(count[0]*1),1: int(count[1]*1), 2: int(count[2]*1.1),3: int(count[3]*1.5),4: int(count[4]*1.7),5: int(count[5]*1.9),6: int(count[6]*1.9),7: int(count[7]*2.5)}, random_state=42) \n",
    "    indices_resampled, y_resampled = ros.fit_resample([[i] for i in indices], y)\n",
    "    data_list = [data_list[i[0]] for i in indices_resampled]\n",
    "\n",
    "    plot_rel_distribution([data.y for data in data_list])\n",
    "\n"
   ]
  },
  {
   "cell_type": "code",
   "execution_count": 20,
   "id": "4bbfbb02-b31f-4820-8fb7-1303f55ac270",
   "metadata": {
    "ExecuteTime": {
     "end_time": "2025-01-29T21:40:24.798630Z",
     "start_time": "2025-01-29T21:40:23.827813Z"
    }
   },
   "outputs": [
    {
     "name": "stdout",
     "output_type": "stream",
     "text": [
      "Training samples: 25137\n",
      "Validation samples: 8379\n",
      "Test samples: 8380\n"
     ]
    }
   ],
   "source": [
    "# Split into training and testing data\n",
    "train_data_list, test_data_list  = train_test_split(data_list, test_size=0.2, random_state=42)\n",
    "\n",
    "# Further split training data into training and validation\n",
    "train_data_list, val_data_list = train_test_split(train_data_list, test_size=0.25, random_state=42)  # 0.25 x 0.8 = 0.2 validation split\n",
    "\n",
    "# Create DataLoaders\n",
    "train_loader = DataLoader(train_data_list, batch_size=16, shuffle=True)\n",
    "val_loader = DataLoader(val_data_list, batch_size=16, shuffle=False)\n",
    "test_loader = DataLoader(test_data_list, batch_size=16, shuffle=False)\n",
    "\n",
    "print(f\"Training samples: {len(train_data_list)}\")\n",
    "print(f\"Validation samples: {len(val_data_list)}\")\n",
    "print(f\"Test samples: {len(test_data_list)}\")\n"
   ]
  },
  {
   "cell_type": "code",
   "execution_count": 21,
   "id": "45354d30-7347-451e-9445-79761c7ffe69",
   "metadata": {
    "ExecuteTime": {
     "end_time": "2025-01-29T21:40:24.865656Z",
     "start_time": "2025-01-29T21:40:24.853130Z"
    }
   },
   "outputs": [],
   "source": [
    "device = torch.device('cuda' if torch.cuda.is_available() else 'cpu')\n",
    "\n",
    "model = GAT(input_dim=NODE_FEATURES, hidden_dim=64, output_dim=NUM_BINS, dropout_rate=DROPOUT_RATE).to(device)\n",
    "optimizer = torch.optim.Adam(model.parameters(), lr=LEARNING_RATE,  weight_decay=0.0001)\n"
   ]
  },
  {
   "cell_type": "code",
   "execution_count": 23,
   "id": "335533eded1dce88",
   "metadata": {
    "ExecuteTime": {
     "end_time": "2025-01-29T21:40:24.944279Z",
     "start_time": "2025-01-29T21:40:24.939189Z"
    }
   },
   "outputs": [],
   "source": [
    "total_samples = all_rels_tensor.size(0)\n",
    "class_counts = torch.bincount(all_rels_tensor)\n",
    "\n",
    "if CLASS_WEIGHTS:\n",
    "    class_weights = total_samples / (NUM_BINS * class_counts)\n",
    "    criterion = torch.nn.CrossEntropyLoss(weight=class_weights)\n",
    "elif CLASS_WEIGHTS_MIN_THRESHOLD:\n",
    "    class_counts = class_counts + 1e-6\n",
    "    class_weights = total_samples / (NUM_BINS * class_counts)\n",
    "    class_weights = class_weights / class_weights.sum()\n",
    "    print(\"Before: \", class_weights)\n",
    "    class_weights = torch.clamp(class_weights, min=0.1, max=0.16)\n",
    "    print(\"After: \", class_weights)\n",
    "    criterion = torch.nn.CrossEntropyLoss(weight=class_weights)\n",
    "else:\n",
    "    criterion = torch.nn.CrossEntropyLoss()"
   ]
  },
  {
   "cell_type": "code",
   "execution_count": 24,
   "id": "db2e7a3e-1e4d-4f99-af36-cea56f7dab65",
   "metadata": {
    "ExecuteTime": {
     "end_time": "2025-01-29T21:40:25.047203Z",
     "start_time": "2025-01-29T21:40:25.044812Z"
    }
   },
   "outputs": [],
   "source": [
    "train_config = {\n",
    "    \"num_epochs\": NUM_EPOCHS,\n",
    "    \"patience\": PATIENCE,\n",
    "    \"device\": device,\n",
    "    \"criterion\": criterion,\n",
    "    \"optimizer\": optimizer,\n",
    "}"
   ]
  },
  {
   "cell_type": "code",
   "execution_count": 25,
   "id": "38b8ebbd-6e46-407b-8c07-df0de71665f6",
   "metadata": {
    "ExecuteTime": {
     "end_time": "2025-01-29T22:20:46.037182Z",
     "start_time": "2025-01-29T21:40:25.077140Z"
    }
   },
   "outputs": [
    {
     "name": "stdout",
     "output_type": "stream",
     "text": [
      "Epoch 1/200, Train Loss: 1.5966\n",
      "Epoch 1/200, Validation Loss: 1.6918\n",
      "Best model updated based on validation loss.\n",
      "Epoch 2/200, Train Loss: 1.5006\n",
      "Epoch 2/200, Validation Loss: 1.5307\n",
      "Best model updated based on validation loss.\n",
      "Epoch 3/200, Train Loss: 1.4423\n",
      "Epoch 3/200, Validation Loss: 2.9240\n",
      "No improvement in validation loss for 1 epoch(s).\n",
      "Epoch 4/200, Train Loss: 1.3706\n",
      "Epoch 4/200, Validation Loss: 1.4800\n",
      "Best model updated based on validation loss.\n",
      "Epoch 5/200, Train Loss: 1.3697\n",
      "Epoch 5/200, Validation Loss: 1.3396\n",
      "Best model updated based on validation loss.\n",
      "Epoch 6/200, Train Loss: 1.3301\n",
      "Epoch 6/200, Validation Loss: 1.4862\n",
      "No improvement in validation loss for 1 epoch(s).\n",
      "Epoch 7/200, Train Loss: 1.3127\n",
      "Epoch 7/200, Validation Loss: 1.3936\n",
      "No improvement in validation loss for 2 epoch(s).\n",
      "Epoch 8/200, Train Loss: 1.3083\n",
      "Epoch 8/200, Validation Loss: 1.3904\n",
      "No improvement in validation loss for 3 epoch(s).\n",
      "Epoch 9/200, Train Loss: 1.3001\n",
      "Epoch 9/200, Validation Loss: 1.4191\n",
      "No improvement in validation loss for 4 epoch(s).\n",
      "Epoch 10/200, Train Loss: 1.2696\n",
      "Epoch 10/200, Validation Loss: 1.3910\n",
      "No improvement in validation loss for 5 epoch(s).\n",
      "Epoch 11/200, Train Loss: 1.2538\n",
      "Epoch 11/200, Validation Loss: 1.3014\n",
      "Best model updated based on validation loss.\n",
      "Epoch 12/200, Train Loss: 1.2382\n",
      "Epoch 12/200, Validation Loss: 1.4779\n",
      "No improvement in validation loss for 1 epoch(s).\n",
      "Epoch 13/200, Train Loss: 1.2573\n",
      "Epoch 13/200, Validation Loss: 1.4281\n",
      "No improvement in validation loss for 2 epoch(s).\n",
      "Epoch 14/200, Train Loss: 1.2117\n",
      "Epoch 14/200, Validation Loss: 1.4205\n",
      "No improvement in validation loss for 3 epoch(s).\n",
      "Epoch 15/200, Train Loss: 1.2290\n",
      "Epoch 15/200, Validation Loss: 1.4222\n",
      "No improvement in validation loss for 4 epoch(s).\n",
      "Epoch 16/200, Train Loss: 1.1889\n",
      "Epoch 16/200, Validation Loss: 1.5175\n",
      "No improvement in validation loss for 5 epoch(s).\n",
      "Epoch 17/200, Train Loss: 1.2008\n",
      "Epoch 17/200, Validation Loss: 1.5990\n",
      "No improvement in validation loss for 6 epoch(s).\n",
      "Epoch 18/200, Train Loss: 1.1923\n",
      "Epoch 18/200, Validation Loss: 1.9015\n",
      "No improvement in validation loss for 7 epoch(s).\n",
      "Epoch 19/200, Train Loss: 1.1860\n",
      "Epoch 19/200, Validation Loss: 1.7664\n",
      "No improvement in validation loss for 8 epoch(s).\n",
      "Epoch 20/200, Train Loss: 1.1693\n",
      "Epoch 20/200, Validation Loss: 2.2795\n",
      "No improvement in validation loss for 9 epoch(s).\n",
      "Epoch 21/200, Train Loss: 1.1598\n",
      "Epoch 21/200, Validation Loss: 1.4489\n",
      "No improvement in validation loss for 10 epoch(s).\n",
      "Epoch 22/200, Train Loss: 1.1394\n",
      "Epoch 22/200, Validation Loss: 1.5564\n",
      "No improvement in validation loss for 11 epoch(s).\n",
      "Epoch 23/200, Train Loss: 1.1474\n",
      "Epoch 23/200, Validation Loss: 3.8490\n",
      "No improvement in validation loss for 12 epoch(s).\n",
      "Epoch 24/200, Train Loss: 1.1415\n",
      "Epoch 24/200, Validation Loss: 2.2956\n",
      "No improvement in validation loss for 13 epoch(s).\n",
      "Epoch 25/200, Train Loss: 1.1388\n",
      "Epoch 25/200, Validation Loss: 2.6397\n",
      "No improvement in validation loss for 14 epoch(s).\n",
      "Epoch 26/200, Train Loss: 1.1600\n",
      "Epoch 26/200, Validation Loss: 1.9583\n",
      "No improvement in validation loss for 15 epoch(s).\n",
      "Epoch 27/200, Train Loss: 1.1333\n",
      "Epoch 27/200, Validation Loss: 3.6068\n",
      "No improvement in validation loss for 16 epoch(s).\n",
      "Epoch 28/200, Train Loss: 1.1257\n",
      "Epoch 28/200, Validation Loss: 1.9224\n",
      "No improvement in validation loss for 17 epoch(s).\n",
      "Epoch 29/200, Train Loss: 1.1198\n",
      "Epoch 29/200, Validation Loss: 1.9691\n",
      "No improvement in validation loss for 18 epoch(s).\n",
      "Epoch 30/200, Train Loss: 1.0947\n",
      "Epoch 30/200, Validation Loss: 2.1726\n",
      "No improvement in validation loss for 19 epoch(s).\n",
      "Epoch 31/200, Train Loss: 1.1127\n",
      "Epoch 31/200, Validation Loss: 2.2486\n",
      "No improvement in validation loss for 20 epoch(s).\n",
      "Epoch 32/200, Train Loss: 1.0852\n",
      "Epoch 32/200, Validation Loss: 2.6264\n",
      "No improvement in validation loss for 21 epoch(s).\n",
      "Epoch 33/200, Train Loss: 1.1161\n",
      "Epoch 33/200, Validation Loss: 2.3602\n",
      "No improvement in validation loss for 22 epoch(s).\n",
      "Epoch 34/200, Train Loss: 1.1286\n",
      "Epoch 34/200, Validation Loss: 1.6001\n",
      "No improvement in validation loss for 23 epoch(s).\n",
      "Epoch 35/200, Train Loss: 1.1246\n",
      "Epoch 35/200, Validation Loss: 2.1918\n",
      "No improvement in validation loss for 24 epoch(s).\n",
      "Epoch 36/200, Train Loss: 1.0943\n",
      "Epoch 36/200, Validation Loss: 2.7883\n",
      "No improvement in validation loss for 25 epoch(s).\n",
      "Epoch 37/200, Train Loss: 1.1133\n",
      "Epoch 37/200, Validation Loss: 12.0532\n",
      "No improvement in validation loss for 26 epoch(s).\n",
      "Epoch 38/200, Train Loss: 1.0892\n",
      "Epoch 38/200, Validation Loss: 2.2451\n",
      "No improvement in validation loss for 27 epoch(s).\n",
      "Epoch 39/200, Train Loss: 1.0726\n",
      "Epoch 39/200, Validation Loss: 1.6487\n",
      "No improvement in validation loss for 28 epoch(s).\n",
      "Epoch 40/200, Train Loss: 1.0613\n",
      "Epoch 40/200, Validation Loss: 4.8877\n",
      "No improvement in validation loss for 29 epoch(s).\n",
      "Epoch 41/200, Train Loss: 1.0716\n",
      "Epoch 41/200, Validation Loss: 3.9673\n",
      "No improvement in validation loss for 30 epoch(s).\n",
      "Early stopping triggered.\n"
     ]
    }
   ],
   "source": [
    "training_losses, validation_losses = train(model, train_loader, val_loader, train_config, model_checkpoints_path + \"best_model_GAT_MCC.pth\")"
   ]
  },
  {
   "cell_type": "code",
   "execution_count": 26,
   "id": "9d80d8dfe7d4ba55",
   "metadata": {
    "ExecuteTime": {
     "end_time": "2025-01-29T22:20:46.521899Z",
     "start_time": "2025-01-29T22:20:46.351683Z"
    }
   },
   "outputs": [
    {
     "data": {
      "image/png": "[encoded data removed]",
      "text/plain": [
       "<Figure size 1000x600 with 1 Axes>"
      ]
     },
     "metadata": {},
     "output_type": "display_data"
    }
   ],
   "source": [
    "# Plot the training and validation losses\n",
    "import matplotlib.pyplot as plt\n",
    "\n",
    "# Plot the training and validation losses\n",
    "plt.figure(figsize=(10, 6))\n",
    "plt.plot(training_losses, label='Training Loss')\n",
    "plt.plot(validation_losses, label='Validation Loss')\n",
    "plt.xlabel('Epoch')\n",
    "plt.ylabel('Loss')\n",
    "plt.title('Training and Validation Loss Over Epochs')\n",
    "plt.legend()\n",
    "plt.grid(True)\n",
    "plt.show()\n",
    "\n"
   ]
  },
  {
   "cell_type": "code",
   "execution_count": 27,
   "id": "2c0dd508-da62-471d-9f51-9591f81f480f",
   "metadata": {
    "ExecuteTime": {
     "end_time": "2025-01-29T22:20:46.701650Z",
     "start_time": "2025-01-29T22:20:46.683423Z"
    }
   },
   "outputs": [
    {
     "data": {
      "text/plain": [
       "<All keys matched successfully>"
      ]
     },
     "execution_count": 27,
     "metadata": {},
     "output_type": "execute_result"
    }
   ],
   "source": [
    "# Load the best model after training\n",
    "model.load_state_dict(torch.load(model_checkpoints_path + \"best_model_GAT_MCC.pth\", weights_only=True))"
   ]
  },
  {
   "cell_type": "code",
   "execution_count": 28,
   "id": "f7b3252d-6cef-4e4d-9241-f27955ee9df1",
   "metadata": {
    "ExecuteTime": {
     "end_time": "2025-01-29T22:20:50.629664Z",
     "start_time": "2025-01-29T22:20:46.846055Z"
    }
   },
   "outputs": [
    {
     "name": "stdout",
     "output_type": "stream",
     "text": [
      "GAT(\n",
      "  (conv1): GATConv(8, 64, heads=1)\n",
      "  (bn1): BatchNorm1d(64, eps=1e-05, momentum=0.1, affine=True, track_running_stats=True)\n",
      "  (conv2): GATConv(64, 32, heads=1)\n",
      "  (bn2): BatchNorm1d(32, eps=1e-05, momentum=0.1, affine=True, track_running_stats=True)\n",
      "  (dropout): Dropout(p=0.3, inplace=False)\n",
      "  (fc): Linear(in_features=32, out_features=8, bias=True)\n",
      ")\n",
      "[np.int64(0), np.int64(5), np.int64(2), np.int64(5), np.int64(3), np.int64(5), np.int64(3), np.int64(7), np.int64(2), np.int64(2)]\n",
      "[np.int64(0), np.int64(5), np.int64(4), np.int64(4), np.int64(4), np.int64(6), np.int64(3), np.int64(6), np.int64(2), np.int64(3)]\n",
      "Accuracy: 0.4408\n"
     ]
    }
   ],
   "source": [
    "true_values, predicted_values, accuracy = evaluate(device, model, test_loader, model_checkpoints_path + \"best_model_GAT_MCC.pth\")"
   ]
  },
  {
   "cell_type": "code",
   "execution_count": 29,
   "id": "a169f2fa-cb48-404e-b976-d685b6405638",
   "metadata": {
    "ExecuteTime": {
     "end_time": "2025-01-29T22:20:50.882327Z",
     "start_time": "2025-01-29T22:20:50.704148Z"
    }
   },
   "outputs": [
    {
     "data": {
      "image/png": "[encoded data removed]",
      "text/plain": [
       "<Figure size 640x480 with 2 Axes>"
      ]
     },
     "metadata": {},
     "output_type": "display_data"
    }
   ],
   "source": [
    "generate_matrix(true_values, predicted_values, accuracy, \"GAT\")"
   ]
  },
  {
   "cell_type": "markdown",
   "id": "2d8477341c6e5bc1",
   "metadata": {},
   "source": [
    "# Experiments\n",
    "1. Original 0.6758%\n",
    "2. Class Weights 0.6460% but class 7 was predicted\n",
    "3. Class Weights + REMOVE_FIRST_CLASS 0.5589%\n",
    "4. Oversampling Majority  0.5911%"
   ]
  },
  {
   "cell_type": "code",
   "execution_count": null,
   "id": "c0f7099799dd566b",
   "metadata": {
    "ExecuteTime": {
     "end_time": "2025-01-29T22:20:50.926359Z",
     "start_time": "2025-01-29T22:20:50.924711Z"
    }
   },
   "outputs": [],
   "source": []
  }
 ],
 "metadata": {
  "kernelspec": {
   "display_name": "Python 3 (ipykernel)",
   "language": "python",
   "name": "python3"
  },
  "language_info": {
   "codemirror_mode": {
    "name": "ipython",
    "version": 3
   },
   "file_extension": ".py",
   "mimetype": "text/x-python",
   "name": "python",
   "nbconvert_exporter": "python",
   "pygments_lexer": "ipython3",
   "version": "3.11.10"
  }
 },
 "nbformat": 4,
 "nbformat_minor": 5
}
