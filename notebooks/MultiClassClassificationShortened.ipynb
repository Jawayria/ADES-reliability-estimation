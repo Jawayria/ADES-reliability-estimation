{
 "cells": [
  {
   "cell_type": "code",
   "id": "d3f434e5-ad5d-420a-8df3-cdd4a57b79fd",
   "metadata": {
    "ExecuteTime": {
     "end_time": "2025-01-28T21:17:42.556640Z",
     "start_time": "2025-01-28T21:17:42.547237Z"
    }
   },
   "source": [
    "import torch\n",
    "\n",
    "from torch_geometric.loader import DataLoader\n",
    "from sklearn.model_selection import train_test_split\n",
    "\n",
    "import datamanip.plots\n",
    "import importlib\n",
    "from datamanip.datasetmanip.three_five_dataset import ThreeFiveDataset\n",
    "\n",
    "importlib.reload(datamanip.plots)\n",
    "\n"
   ],
   "outputs": [
    {
     "data": {
      "text/plain": [
       "<module 'datamanip.plots' from 'C:\\\\Users\\\\pavel\\\\PycharmProjects\\\\ADES-reliability-estimation\\\\src\\\\datamanip\\\\plots.py'>"
      ]
     },
     "execution_count": 2,
     "metadata": {},
     "output_type": "execute_result"
    }
   ],
   "execution_count": 2
  },
  {
   "metadata": {
    "ExecuteTime": {
     "end_time": "2025-01-28T21:18:17.704669Z",
     "start_time": "2025-01-28T21:18:17.695206Z"
    }
   },
   "cell_type": "code",
   "source": [
    "\n",
    "from filepath import *\n",
    "from datamanip.plots import plot_rel_distribution, generate_matrix\n",
    "from models.GAT import GAT#, GCN, SimpleMPNN\n",
    "from train_eval.train import train\n",
    "from train_eval.evaluate import evaluate\n",
    "\n"
   ],
   "id": "1b8602fbdefee2bb",
   "outputs": [],
   "execution_count": 3
  },
  {
   "metadata": {
    "ExecuteTime": {
     "end_time": "2025-01-28T21:18:19.234892Z",
     "start_time": "2025-01-28T21:18:19.229525Z"
    }
   },
   "cell_type": "code",
   "source": [
    "# Number of epochs to train the model\n",
    "NUM_EPOCHS = 100\n",
    "\n",
    "# Dropout rate for the model to prevent overfitting\n",
    "DROPOUT_RATE = 0.3\n",
    "\n",
    "# Learning rate for the optimizer\n",
    "LEARNING_RATE = 0.0005\n",
    "\n",
    "# Threshold for classifying reliability\n",
    "THRESHOLD = 0.97\n",
    "\n",
    "# Number of features for each node in the graph\n",
    "NODE_FEATURES = 5\n",
    "\n",
    "# Number of epochs to wait for improvement before early stopping\n",
    "PATIENCE = 20\n",
    "\n",
    "# Flag to indicate whether to use only one timestamp\n",
    "ONE_TIMESTAMP = False\n",
    "\n",
    "NUM_BINS = 0"
   ],
   "id": "af7d21d4096e7504",
   "outputs": [],
   "execution_count": 4
  },
  {
   "cell_type": "code",
   "id": "4aad7c559c92561a",
   "metadata": {
    "ExecuteTime": {
     "end_time": "2025-01-28T21:18:21.876967Z",
     "start_time": "2025-01-28T21:18:21.761538Z"
    }
   },
   "source": "data_list = ThreeFiveDataset(root=dataset_path, load_binary=False)",
   "outputs": [],
   "execution_count": 5
  },
  {
   "cell_type": "code",
   "id": "4bbfbb02-b31f-4820-8fb7-1303f55ac270",
   "metadata": {
    "ExecuteTime": {
     "end_time": "2025-01-28T21:18:46.069263Z",
     "start_time": "2025-01-28T21:18:23.985801Z"
    }
   },
   "source": [
    "# Split into training and testing data\n",
    "train_data_list, test_data_list  = train_test_split(data_list, test_size=0.2, random_state=42)\n",
    "\n",
    "# Further split training data into training and validation\n",
    "train_data_list, val_data_list = train_test_split(train_data_list, test_size=0.25, random_state=42)  # 0.25 x 0.8 = 0.2 validation split\n",
    "\n",
    "# Create DataLoaders\n",
    "train_loader = DataLoader(train_data_list, batch_size=16, shuffle=True)\n",
    "val_loader = DataLoader(val_data_list, batch_size=16, shuffle=False)\n",
    "test_loader = DataLoader(test_data_list, batch_size=16, shuffle=False)\n",
    "\n",
    "print(f\"Training samples: {len(train_data_list)}\")\n",
    "print(f\"Validation samples: {len(val_data_list)}\")\n",
    "print(f\"Test samples: {len(test_data_list)}\")\n"
   ],
   "outputs": [
    {
     "name": "stdout",
     "output_type": "stream",
     "text": [
      "Training samples: 100641\n",
      "Validation samples: 33547\n",
      "Test samples: 33548\n"
     ]
    }
   ],
   "execution_count": 6
  },
  {
   "cell_type": "code",
   "id": "45354d30-7347-451e-9445-79761c7ffe69",
   "metadata": {
    "ExecuteTime": {
     "end_time": "2025-01-23T11:00:39.884583Z",
     "start_time": "2025-01-23T11:00:39.851367Z"
    }
   },
   "source": [
    "device = torch.device('cuda' if torch.cuda.is_available() else 'cpu')\n",
    "\n",
    "model = GAT(input_dim=NODE_FEATURES, hidden_dim=64, output_dim=NUM_BINS, dropout_rate=DROPOUT_RATE).to(device)\n",
    "optimizer = torch.optim.Adam(model.parameters(), lr=LEARNING_RATE)\n",
    "criterion = torch.nn.CrossEntropyLoss()"
   ],
   "outputs": [],
   "execution_count": 91
  },
  {
   "cell_type": "code",
   "id": "db2e7a3e-1e4d-4f99-af36-cea56f7dab65",
   "metadata": {
    "ExecuteTime": {
     "end_time": "2025-01-23T11:00:39.938458Z",
     "start_time": "2025-01-23T11:00:39.918027Z"
    }
   },
   "source": [
    "train_config = {\n",
    "    \"num_epochs\": NUM_EPOCHS,\n",
    "    \"patience\": PATIENCE,\n",
    "    \"device\": device,\n",
    "    \"criterion\": criterion,\n",
    "    \"optimizer\": optimizer,\n",
    "}"
   ],
   "outputs": [],
   "execution_count": 92
  },
  {
   "cell_type": "code",
   "id": "38b8ebbd-6e46-407b-8c07-df0de71665f6",
   "metadata": {
    "ExecuteTime": {
     "end_time": "2025-01-23T11:21:46.849918Z",
     "start_time": "2025-01-23T11:01:30.981415Z"
    }
   },
   "source": "train(model, train_loader, val_loader, train_config, model_checkpoints_path + \"best_model_GAT_MCC.pth\")",
   "outputs": [
    {
     "name": "stdout",
     "output_type": "stream",
     "text": [
      "Epoch 1/100, Train Loss: 0.9653\n",
      "Epoch 1/100, Validation Loss: 1.0319\n",
      "Best model updated based on validation loss.\n",
      "Epoch 2/100, Train Loss: 0.9359\n",
      "Epoch 2/100, Validation Loss: 1.1493\n",
      "No improvement in validation loss for 1 epoch(s).\n",
      "Epoch 3/100, Train Loss: 0.9137\n",
      "Epoch 3/100, Validation Loss: 1.1266\n",
      "No improvement in validation loss for 2 epoch(s).\n",
      "Epoch 4/100, Train Loss: 0.8904\n",
      "Epoch 4/100, Validation Loss: 1.0011\n",
      "Best model updated based on validation loss.\n",
      "Epoch 5/100, Train Loss: 0.8750\n",
      "Epoch 5/100, Validation Loss: 1.3819\n",
      "No improvement in validation loss for 1 epoch(s).\n",
      "Epoch 6/100, Train Loss: 0.8778\n",
      "Epoch 6/100, Validation Loss: 1.3750\n",
      "No improvement in validation loss for 2 epoch(s).\n",
      "Epoch 7/100, Train Loss: 0.8654\n",
      "Epoch 7/100, Validation Loss: 1.1061\n",
      "No improvement in validation loss for 3 epoch(s).\n",
      "Epoch 8/100, Train Loss: 0.8650\n",
      "Epoch 8/100, Validation Loss: 1.4647\n",
      "No improvement in validation loss for 4 epoch(s).\n",
      "Epoch 9/100, Train Loss: 0.8554\n",
      "Epoch 9/100, Validation Loss: 1.5753\n",
      "No improvement in validation loss for 5 epoch(s).\n",
      "Epoch 10/100, Train Loss: 0.8533\n",
      "Epoch 10/100, Validation Loss: 1.3994\n",
      "No improvement in validation loss for 6 epoch(s).\n",
      "Epoch 11/100, Train Loss: 0.8463\n",
      "Epoch 11/100, Validation Loss: 0.9965\n",
      "Best model updated based on validation loss.\n",
      "Epoch 12/100, Train Loss: 0.8436\n",
      "Epoch 12/100, Validation Loss: 1.7922\n",
      "No improvement in validation loss for 1 epoch(s).\n",
      "Epoch 13/100, Train Loss: 0.8390\n",
      "Epoch 13/100, Validation Loss: 1.5694\n",
      "No improvement in validation loss for 2 epoch(s).\n",
      "Epoch 14/100, Train Loss: 0.9756\n",
      "Epoch 14/100, Validation Loss: 1.0497\n",
      "No improvement in validation loss for 3 epoch(s).\n",
      "Epoch 15/100, Train Loss: 0.9533\n",
      "Epoch 15/100, Validation Loss: 1.0689\n",
      "No improvement in validation loss for 4 epoch(s).\n",
      "Epoch 16/100, Train Loss: 0.9174\n",
      "Epoch 16/100, Validation Loss: 1.3768\n",
      "No improvement in validation loss for 5 epoch(s).\n",
      "Epoch 17/100, Train Loss: 0.9024\n",
      "Epoch 17/100, Validation Loss: 1.4350\n",
      "No improvement in validation loss for 6 epoch(s).\n",
      "Epoch 18/100, Train Loss: 0.8878\n",
      "Epoch 18/100, Validation Loss: 1.0250\n",
      "No improvement in validation loss for 7 epoch(s).\n",
      "Epoch 19/100, Train Loss: 0.8679\n",
      "Epoch 19/100, Validation Loss: 1.0423\n",
      "No improvement in validation loss for 8 epoch(s).\n",
      "Epoch 20/100, Train Loss: 0.8688\n",
      "Epoch 20/100, Validation Loss: 1.5611\n",
      "No improvement in validation loss for 9 epoch(s).\n",
      "Epoch 21/100, Train Loss: 0.8541\n",
      "Epoch 21/100, Validation Loss: 1.6218\n",
      "No improvement in validation loss for 10 epoch(s).\n",
      "Epoch 22/100, Train Loss: 0.8474\n",
      "Epoch 22/100, Validation Loss: 1.7636\n",
      "No improvement in validation loss for 11 epoch(s).\n",
      "Epoch 23/100, Train Loss: 0.8378\n",
      "Epoch 23/100, Validation Loss: 1.2921\n",
      "No improvement in validation loss for 12 epoch(s).\n",
      "Epoch 24/100, Train Loss: 0.8305\n",
      "Epoch 24/100, Validation Loss: 0.9760\n",
      "Best model updated based on validation loss.\n",
      "Epoch 25/100, Train Loss: 0.8329\n",
      "Epoch 25/100, Validation Loss: 1.3189\n",
      "No improvement in validation loss for 1 epoch(s).\n",
      "Epoch 26/100, Train Loss: 0.8380\n",
      "Epoch 26/100, Validation Loss: 0.9799\n",
      "No improvement in validation loss for 2 epoch(s).\n",
      "Epoch 27/100, Train Loss: 0.8336\n",
      "Epoch 27/100, Validation Loss: 2.0024\n",
      "No improvement in validation loss for 3 epoch(s).\n",
      "Epoch 28/100, Train Loss: 0.8482\n",
      "Epoch 28/100, Validation Loss: 1.4096\n",
      "No improvement in validation loss for 4 epoch(s).\n",
      "Epoch 29/100, Train Loss: 0.8357\n",
      "Epoch 29/100, Validation Loss: 1.9049\n",
      "No improvement in validation loss for 5 epoch(s).\n",
      "Epoch 30/100, Train Loss: 0.8255\n",
      "Epoch 30/100, Validation Loss: 1.0782\n",
      "No improvement in validation loss for 6 epoch(s).\n",
      "Epoch 31/100, Train Loss: 0.8250\n",
      "Epoch 31/100, Validation Loss: 1.9905\n",
      "No improvement in validation loss for 7 epoch(s).\n",
      "Epoch 32/100, Train Loss: 0.8376\n",
      "Epoch 32/100, Validation Loss: 1.1199\n",
      "No improvement in validation loss for 8 epoch(s).\n",
      "Epoch 33/100, Train Loss: 0.8273\n",
      "Epoch 33/100, Validation Loss: 1.1369\n",
      "No improvement in validation loss for 9 epoch(s).\n",
      "Epoch 34/100, Train Loss: 0.8202\n",
      "Epoch 34/100, Validation Loss: 1.4181\n",
      "No improvement in validation loss for 10 epoch(s).\n",
      "Epoch 35/100, Train Loss: 0.8252\n",
      "Epoch 35/100, Validation Loss: 1.6681\n",
      "No improvement in validation loss for 11 epoch(s).\n",
      "Epoch 36/100, Train Loss: 0.8252\n",
      "Epoch 36/100, Validation Loss: 1.9420\n",
      "No improvement in validation loss for 12 epoch(s).\n",
      "Epoch 37/100, Train Loss: 0.8107\n",
      "Epoch 37/100, Validation Loss: 1.0456\n",
      "No improvement in validation loss for 13 epoch(s).\n",
      "Epoch 38/100, Train Loss: 0.8235\n",
      "Epoch 38/100, Validation Loss: 0.8453\n",
      "Best model updated based on validation loss.\n",
      "Epoch 39/100, Train Loss: 0.8103\n",
      "Epoch 39/100, Validation Loss: 0.9670\n",
      "No improvement in validation loss for 1 epoch(s).\n",
      "Epoch 40/100, Train Loss: 0.8120\n",
      "Epoch 40/100, Validation Loss: 1.7368\n",
      "No improvement in validation loss for 2 epoch(s).\n",
      "Epoch 41/100, Train Loss: 0.8043\n",
      "Epoch 41/100, Validation Loss: 0.8453\n",
      "No improvement in validation loss for 3 epoch(s).\n",
      "Epoch 42/100, Train Loss: 0.8078\n",
      "Epoch 42/100, Validation Loss: 1.0778\n",
      "No improvement in validation loss for 4 epoch(s).\n",
      "Epoch 43/100, Train Loss: 0.8045\n",
      "Epoch 43/100, Validation Loss: 1.4556\n",
      "No improvement in validation loss for 5 epoch(s).\n",
      "Epoch 44/100, Train Loss: 0.8004\n",
      "Epoch 44/100, Validation Loss: 1.3624\n",
      "No improvement in validation loss for 6 epoch(s).\n",
      "Epoch 45/100, Train Loss: 0.7946\n",
      "Epoch 45/100, Validation Loss: 0.7516\n",
      "Best model updated based on validation loss.\n",
      "Epoch 46/100, Train Loss: 0.8011\n",
      "Epoch 46/100, Validation Loss: 1.7842\n",
      "No improvement in validation loss for 1 epoch(s).\n",
      "Epoch 47/100, Train Loss: 0.7920\n",
      "Epoch 47/100, Validation Loss: 0.7802\n",
      "No improvement in validation loss for 2 epoch(s).\n",
      "Epoch 48/100, Train Loss: 0.8051\n",
      "Epoch 48/100, Validation Loss: 1.3761\n",
      "No improvement in validation loss for 3 epoch(s).\n",
      "Epoch 49/100, Train Loss: 0.7922\n",
      "Epoch 49/100, Validation Loss: 0.8674\n",
      "No improvement in validation loss for 4 epoch(s).\n",
      "Epoch 50/100, Train Loss: 0.7980\n",
      "Epoch 50/100, Validation Loss: 0.8189\n",
      "No improvement in validation loss for 5 epoch(s).\n",
      "Epoch 51/100, Train Loss: 0.7990\n",
      "Epoch 51/100, Validation Loss: 1.9918\n",
      "No improvement in validation loss for 6 epoch(s).\n",
      "Epoch 52/100, Train Loss: 0.7989\n",
      "Epoch 52/100, Validation Loss: 2.0283\n",
      "No improvement in validation loss for 7 epoch(s).\n",
      "Epoch 53/100, Train Loss: 0.7955\n",
      "Epoch 53/100, Validation Loss: 1.9713\n",
      "No improvement in validation loss for 8 epoch(s).\n",
      "Epoch 54/100, Train Loss: 0.7903\n",
      "Epoch 54/100, Validation Loss: 0.8964\n",
      "No improvement in validation loss for 9 epoch(s).\n",
      "Epoch 55/100, Train Loss: 0.7942\n",
      "Epoch 55/100, Validation Loss: 1.6864\n",
      "No improvement in validation loss for 10 epoch(s).\n",
      "Epoch 56/100, Train Loss: 0.7983\n",
      "Epoch 56/100, Validation Loss: 2.2843\n",
      "No improvement in validation loss for 11 epoch(s).\n",
      "Epoch 57/100, Train Loss: 0.7860\n",
      "Epoch 57/100, Validation Loss: 1.1694\n",
      "No improvement in validation loss for 12 epoch(s).\n",
      "Epoch 58/100, Train Loss: 0.7966\n",
      "Epoch 58/100, Validation Loss: 1.9473\n",
      "No improvement in validation loss for 13 epoch(s).\n",
      "Epoch 59/100, Train Loss: 0.7912\n",
      "Epoch 59/100, Validation Loss: 2.0110\n",
      "No improvement in validation loss for 14 epoch(s).\n",
      "Epoch 60/100, Train Loss: 0.7927\n",
      "Epoch 60/100, Validation Loss: 2.8907\n",
      "No improvement in validation loss for 15 epoch(s).\n",
      "Epoch 61/100, Train Loss: 0.7881\n",
      "Epoch 61/100, Validation Loss: 1.7192\n",
      "No improvement in validation loss for 16 epoch(s).\n",
      "Epoch 62/100, Train Loss: 0.7833\n",
      "Epoch 62/100, Validation Loss: 0.9887\n",
      "No improvement in validation loss for 17 epoch(s).\n",
      "Epoch 63/100, Train Loss: 0.7838\n",
      "Epoch 63/100, Validation Loss: 1.3029\n",
      "No improvement in validation loss for 18 epoch(s).\n",
      "Epoch 64/100, Train Loss: 0.7798\n",
      "Epoch 64/100, Validation Loss: 1.9935\n",
      "No improvement in validation loss for 19 epoch(s).\n",
      "Epoch 65/100, Train Loss: 0.7838\n",
      "Epoch 65/100, Validation Loss: 1.9575\n",
      "No improvement in validation loss for 20 epoch(s).\n",
      "Early stopping triggered.\n"
     ]
    }
   ],
   "execution_count": 94
  },
  {
   "cell_type": "code",
   "id": "2c0dd508-da62-471d-9f51-9591f81f480f",
   "metadata": {
    "ExecuteTime": {
     "end_time": "2025-01-23T11:21:53.844616Z",
     "start_time": "2025-01-23T11:21:53.788368Z"
    }
   },
   "source": [
    "# Load the best model after training\n",
    "model.load_state_dict(torch.load(model_checkpoints_path + \"best_model_GAT_MCC.pth\", weights_only=True))"
   ],
   "outputs": [
    {
     "data": {
      "text/plain": [
       "<All keys matched successfully>"
      ]
     },
     "execution_count": 95,
     "metadata": {},
     "output_type": "execute_result"
    }
   ],
   "execution_count": 95
  },
  {
   "cell_type": "code",
   "id": "f7b3252d-6cef-4e4d-9241-f27955ee9df1",
   "metadata": {
    "ExecuteTime": {
     "end_time": "2025-01-23T11:21:59.814098Z",
     "start_time": "2025-01-23T11:21:57.012411Z"
    }
   },
   "source": "true_values, predicted_values, accuracy = evaluate(device, model, test_loader, model_checkpoints_path + \"best_model_GAT_MCC.pth\")",
   "outputs": [
    {
     "name": "stdout",
     "output_type": "stream",
     "text": [
      "GAT(\n",
      "  (conv1): GATConv(5, 64, heads=1)\n",
      "  (bn1): BatchNorm1d(64, eps=1e-05, momentum=0.1, affine=True, track_running_stats=True)\n",
      "  (conv2): GATConv(64, 32, heads=1)\n",
      "  (bn2): BatchNorm1d(32, eps=1e-05, momentum=0.1, affine=True, track_running_stats=True)\n",
      "  (dropout): Dropout(p=0.3, inplace=False)\n",
      "  (fc): Linear(in_features=32, out_features=8, bias=True)\n",
      ")\n",
      "[np.int64(4), np.int64(3), np.int64(2), np.int64(3), np.int64(4), np.int64(0), np.int64(3), np.int64(0), np.int64(0), np.int64(1)]\n",
      "[np.int64(4), np.int64(2), np.int64(2), np.int64(2), np.int64(3), np.int64(0), np.int64(2), np.int64(0), np.int64(0), np.int64(1)]\n",
      "Accuracy: 0.6758\n"
     ]
    }
   ],
   "execution_count": 96
  },
  {
   "cell_type": "code",
   "id": "a169f2fa-cb48-404e-b976-d685b6405638",
   "metadata": {
    "ExecuteTime": {
     "end_time": "2025-01-23T11:22:05.102444Z",
     "start_time": "2025-01-23T11:22:04.944844Z"
    }
   },
   "source": "generate_matrix(true_values, predicted_values, accuracy, \"GAT\")",
   "outputs": [
    {
     "data": {
      "text/plain": [
       "<Figure size 640x480 with 2 Axes>"
      ],
      "image/png": "[encoded data removed]"
     },
     "metadata": {},
     "output_type": "display_data"
    }
   ],
   "execution_count": 97
  }
 ],
 "metadata": {
  "kernelspec": {
   "display_name": "Python 3 (ipykernel)",
   "language": "python",
   "name": "python3"
  },
  "language_info": {
   "codemirror_mode": {
    "name": "ipython",
    "version": 3
   },
   "file_extension": ".py",
   "mimetype": "text/x-python",
   "name": "python",
   "nbconvert_exporter": "python",
   "pygments_lexer": "ipython3",
   "version": "3.11.10"
  }
 },
 "nbformat": 4,
 "nbformat_minor": 5
}
