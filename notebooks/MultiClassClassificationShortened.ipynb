{
 "cells": [
  {
   "cell_type": "code",
   "id": "d3f434e5-ad5d-420a-8df3-cdd4a57b79fd",
   "metadata": {
    "ExecuteTime": {
     "end_time": "2025-02-12T22:10:41.462763Z",
     "start_time": "2025-02-12T22:10:25.013883Z"
    }
   },
   "source": [
    "import torch\n",
    "\n",
    "from torch_geometric.loader import DataLoader\n",
    "from sklearn.model_selection import train_test_split\n",
    "\n",
    "import datamanip.plots\n",
    "import importlib\n",
    "from datamanip.datasetmanip.three_five_dataset import ThreeFiveDataset\n",
    "\n",
    "importlib.reload(datamanip.plots)\n",
    "importlib.reload(datamanip.datasetmanip.three_five_dataset)\n",
    "\n"
   ],
   "outputs": [
    {
     "data": {
      "text/plain": [
       "<module 'datamanip.datasetmanip.three_five_dataset' from 'C:\\\\Users\\\\pavel\\\\PycharmProjects\\\\ADES-reliability\\\\src\\\\datamanip\\\\datasetmanip\\\\three_five_dataset.py'>"
      ]
     },
     "execution_count": 1,
     "metadata": {},
     "output_type": "execute_result"
    }
   ],
   "execution_count": 1
  },
  {
   "cell_type": "code",
   "id": "1b8602fbdefee2bb",
   "metadata": {
    "ExecuteTime": {
     "end_time": "2025-02-12T22:10:41.482732Z",
     "start_time": "2025-02-12T22:10:41.469773Z"
    }
   },
   "source": [
    "\n",
    "from filepath import *\n",
    "from datamanip.plots import generate_matrix, visualize_samples_outside_of_radii\n",
    "from models.GAT import GAT#, GCN, SimpleMPNN\n",
    "from train_eval.train import train\n",
    "from train_eval.evaluate import evaluate_multiclass\n",
    "\n"
   ],
   "outputs": [],
   "execution_count": 2
  },
  {
   "cell_type": "code",
   "id": "af7d21d4096e7504",
   "metadata": {
    "ExecuteTime": {
     "end_time": "2025-02-12T22:10:41.982798Z",
     "start_time": "2025-02-12T22:10:41.977986Z"
    }
   },
   "source": [
    "# Number of epochs to train the model\n",
    "NUM_EPOCHS = 100\n",
    "\n",
    "# Dropout rate for the model to prevent overfitting\n",
    "DROPOUT_RATE = 0.3\n",
    "\n",
    "# Learning rate for the optimizer\n",
    "LEARNING_RATE = 0.0005\n",
    "\n",
    "# Threshold for classifying reliability\n",
    "THRESHOLD = 0.97\n",
    "\n",
    "# Number of features for each node in the graph\n",
    "NODE_FEATURES = 12\n",
    "\n",
    "# Number of epochs to wait for improvement before early stopping\n",
    "PATIENCE = 20\n",
    "\n",
    "# Flag to indicate whether to use only one timestamp\n",
    "ONE_TIMESTAMP = False\n",
    "\n",
    "NUM_BINS = 8"
   ],
   "outputs": [],
   "execution_count": 3
  },
  {
   "cell_type": "code",
   "id": "4bbfbb02-b31f-4820-8fb7-1303f55ac270",
   "metadata": {
    "ExecuteTime": {
     "end_time": "2025-02-12T22:10:42.107744Z",
     "start_time": "2025-02-12T22:10:42.004372Z"
    }
   },
   "source": [
    "train_set = ThreeFiveDataset(root=dataset_path, match='ensemble', test_train_val=\"train\")\n",
    "test_set = ThreeFiveDataset(root=dataset_path, match='ensemble', test_train_val=\"test\")\n",
    "val_set = ThreeFiveDataset(root=dataset_path, match='ensemble', test_train_val=\"val\")\n",
    "test_loader = DataLoader(test_set, batch_size=32, shuffle=True)\n",
    "val_loader = DataLoader(val_set, batch_size=32, shuffle=True)\n",
    "train_loader = DataLoader(train_set, batch_size=32, shuffle=True)\n"
   ],
   "outputs": [],
   "execution_count": 4
  },
  {
   "cell_type": "code",
   "id": "45354d30-7347-451e-9445-79761c7ffe69",
   "metadata": {
    "ExecuteTime": {
     "end_time": "2025-02-12T22:10:43.383674Z",
     "start_time": "2025-02-12T22:10:43.262594Z"
    }
   },
   "source": [
    "device = torch.device('cuda' if torch.cuda.is_available() else 'cpu')\n",
    "\n",
    "model = GAT(input_dim=NODE_FEATURES, hidden_dim=64, output_dim=NUM_BINS, dropout_rate=DROPOUT_RATE).to(device)\n",
    "optimizer = torch.optim.Adam(model.parameters(), lr=LEARNING_RATE)\n",
    "criterion = torch.nn.CrossEntropyLoss()"
   ],
   "outputs": [],
   "execution_count": 5
  },
  {
   "cell_type": "code",
   "id": "db2e7a3e-1e4d-4f99-af36-cea56f7dab65",
   "metadata": {
    "ExecuteTime": {
     "end_time": "2025-02-12T22:10:44.851452Z",
     "start_time": "2025-02-12T22:10:44.848435Z"
    }
   },
   "source": [
    "train_config = {\n",
    "    \"num_epochs\": NUM_EPOCHS,\n",
    "    \"patience\": PATIENCE,\n",
    "    \"device\": device,\n",
    "    \"criterion\": criterion,\n",
    "    \"optimizer\": optimizer,\n",
    "}"
   ],
   "outputs": [],
   "execution_count": 6
  },
  {
   "cell_type": "code",
   "id": "38b8ebbd-6e46-407b-8c07-df0de71665f6",
   "metadata": {
    "ExecuteTime": {
     "end_time": "2025-02-12T22:30:58.702591Z",
     "start_time": "2025-02-12T22:10:46.387792Z"
    }
   },
   "source": [
    "train(model, train_loader, val_loader, train_config, model_checkpoints_path + \"best_model_GAT_MCC.pth\")"
   ],
   "outputs": [
    {
     "name": "stdout",
     "output_type": "stream",
     "text": [
      "Epoch 1/100, Train Loss: 1.2662\n",
      "Epoch 1/100, Validation Loss: 1.2257\n",
      "Best model updated based on validation loss.\n",
      "Epoch 2/100, Train Loss: 1.0213\n",
      "Epoch 2/100, Validation Loss: 0.9699\n",
      "Best model updated based on validation loss.\n",
      "Epoch 3/100, Train Loss: 0.9505\n",
      "Epoch 3/100, Validation Loss: 0.9412\n",
      "Best model updated based on validation loss.\n",
      "Epoch 4/100, Train Loss: 0.9265\n",
      "Epoch 4/100, Validation Loss: 0.8571\n",
      "Best model updated based on validation loss.\n",
      "Epoch 5/100, Train Loss: 0.8985\n",
      "Epoch 5/100, Validation Loss: 0.9569\n",
      "No improvement in validation loss for 1 epoch(s).\n",
      "Epoch 6/100, Train Loss: 0.8762\n",
      "Epoch 6/100, Validation Loss: 0.8104\n",
      "Best model updated based on validation loss.\n",
      "Epoch 7/100, Train Loss: 0.8487\n",
      "Epoch 7/100, Validation Loss: 0.9484\n",
      "No improvement in validation loss for 1 epoch(s).\n",
      "Epoch 8/100, Train Loss: 0.8377\n",
      "Epoch 8/100, Validation Loss: 0.7217\n",
      "Best model updated based on validation loss.\n",
      "Epoch 9/100, Train Loss: 0.8315\n",
      "Epoch 9/100, Validation Loss: 1.1436\n",
      "No improvement in validation loss for 1 epoch(s).\n",
      "Epoch 10/100, Train Loss: 0.8362\n",
      "Epoch 10/100, Validation Loss: 0.7320\n",
      "No improvement in validation loss for 2 epoch(s).\n",
      "Epoch 11/100, Train Loss: 0.8075\n",
      "Epoch 11/100, Validation Loss: 0.7018\n",
      "Best model updated based on validation loss.\n",
      "Epoch 12/100, Train Loss: 0.7960\n",
      "Epoch 12/100, Validation Loss: 0.8220\n",
      "No improvement in validation loss for 1 epoch(s).\n",
      "Epoch 13/100, Train Loss: 0.7949\n",
      "Epoch 13/100, Validation Loss: 0.7605\n",
      "No improvement in validation loss for 2 epoch(s).\n",
      "Epoch 14/100, Train Loss: 0.7841\n",
      "Epoch 14/100, Validation Loss: 0.8204\n",
      "No improvement in validation loss for 3 epoch(s).\n",
      "Epoch 15/100, Train Loss: 0.7796\n",
      "Epoch 15/100, Validation Loss: 1.0198\n",
      "No improvement in validation loss for 4 epoch(s).\n",
      "Epoch 16/100, Train Loss: 0.7652\n",
      "Epoch 16/100, Validation Loss: 0.9196\n",
      "No improvement in validation loss for 5 epoch(s).\n",
      "Epoch 17/100, Train Loss: 0.7684\n",
      "Epoch 17/100, Validation Loss: 0.9215\n",
      "No improvement in validation loss for 6 epoch(s).\n",
      "Epoch 18/100, Train Loss: 0.7592\n",
      "Epoch 18/100, Validation Loss: 0.8360\n",
      "No improvement in validation loss for 7 epoch(s).\n",
      "Epoch 19/100, Train Loss: 0.7700\n",
      "Epoch 19/100, Validation Loss: 0.7382\n",
      "No improvement in validation loss for 8 epoch(s).\n",
      "Epoch 20/100, Train Loss: 0.7600\n",
      "Epoch 20/100, Validation Loss: 0.8128\n",
      "No improvement in validation loss for 9 epoch(s).\n",
      "Epoch 21/100, Train Loss: 0.7520\n",
      "Epoch 21/100, Validation Loss: 0.6321\n",
      "Best model updated based on validation loss.\n",
      "Epoch 22/100, Train Loss: 0.7392\n",
      "Epoch 22/100, Validation Loss: 0.6894\n",
      "No improvement in validation loss for 1 epoch(s).\n",
      "Epoch 23/100, Train Loss: 0.7420\n",
      "Epoch 23/100, Validation Loss: 0.7481\n",
      "No improvement in validation loss for 2 epoch(s).\n",
      "Epoch 24/100, Train Loss: 0.7476\n",
      "Epoch 24/100, Validation Loss: 0.7942\n",
      "No improvement in validation loss for 3 epoch(s).\n",
      "Epoch 25/100, Train Loss: 0.7329\n",
      "Epoch 25/100, Validation Loss: 0.8101\n",
      "No improvement in validation loss for 4 epoch(s).\n",
      "Epoch 26/100, Train Loss: 0.7314\n",
      "Epoch 26/100, Validation Loss: 0.6461\n",
      "No improvement in validation loss for 5 epoch(s).\n",
      "Epoch 27/100, Train Loss: 0.7286\n",
      "Epoch 27/100, Validation Loss: 0.7680\n",
      "No improvement in validation loss for 6 epoch(s).\n",
      "Epoch 28/100, Train Loss: 0.7240\n",
      "Epoch 28/100, Validation Loss: 0.6847\n",
      "No improvement in validation loss for 7 epoch(s).\n",
      "Epoch 29/100, Train Loss: 0.7207\n",
      "Epoch 29/100, Validation Loss: 0.7865\n",
      "No improvement in validation loss for 8 epoch(s).\n",
      "Epoch 30/100, Train Loss: 0.7141\n",
      "Epoch 30/100, Validation Loss: 0.6249\n",
      "Best model updated based on validation loss.\n",
      "Epoch 31/100, Train Loss: 0.7172\n",
      "Epoch 31/100, Validation Loss: 0.7321\n",
      "No improvement in validation loss for 1 epoch(s).\n",
      "Epoch 32/100, Train Loss: 0.7021\n",
      "Epoch 32/100, Validation Loss: 0.6823\n",
      "No improvement in validation loss for 2 epoch(s).\n",
      "Epoch 33/100, Train Loss: 0.6909\n",
      "Epoch 33/100, Validation Loss: 0.7405\n",
      "No improvement in validation loss for 3 epoch(s).\n",
      "Epoch 34/100, Train Loss: 0.7053\n",
      "Epoch 34/100, Validation Loss: 0.5958\n",
      "Best model updated based on validation loss.\n",
      "Epoch 35/100, Train Loss: 0.6917\n",
      "Epoch 35/100, Validation Loss: 0.6158\n",
      "No improvement in validation loss for 1 epoch(s).\n",
      "Epoch 36/100, Train Loss: 0.6951\n",
      "Epoch 36/100, Validation Loss: 0.6513\n",
      "No improvement in validation loss for 2 epoch(s).\n",
      "Epoch 37/100, Train Loss: 0.6860\n",
      "Epoch 37/100, Validation Loss: 1.1059\n",
      "No improvement in validation loss for 3 epoch(s).\n",
      "Epoch 38/100, Train Loss: 0.6903\n",
      "Epoch 38/100, Validation Loss: 0.7848\n",
      "No improvement in validation loss for 4 epoch(s).\n",
      "Epoch 39/100, Train Loss: 0.6876\n",
      "Epoch 39/100, Validation Loss: 0.6249\n",
      "No improvement in validation loss for 5 epoch(s).\n",
      "Epoch 40/100, Train Loss: 0.6830\n",
      "Epoch 40/100, Validation Loss: 0.8266\n",
      "No improvement in validation loss for 6 epoch(s).\n",
      "Epoch 41/100, Train Loss: 0.6806\n",
      "Epoch 41/100, Validation Loss: 0.6039\n",
      "No improvement in validation loss for 7 epoch(s).\n",
      "Epoch 42/100, Train Loss: 0.6750\n",
      "Epoch 42/100, Validation Loss: 1.3124\n",
      "No improvement in validation loss for 8 epoch(s).\n",
      "Epoch 43/100, Train Loss: 0.6770\n",
      "Epoch 43/100, Validation Loss: 0.5835\n",
      "Best model updated based on validation loss.\n",
      "Epoch 44/100, Train Loss: 0.6716\n",
      "Epoch 44/100, Validation Loss: 0.5777\n",
      "Best model updated based on validation loss.\n",
      "Epoch 45/100, Train Loss: 0.6680\n",
      "Epoch 45/100, Validation Loss: 0.6665\n",
      "No improvement in validation loss for 1 epoch(s).\n",
      "Epoch 46/100, Train Loss: 0.6677\n",
      "Epoch 46/100, Validation Loss: 0.6213\n",
      "No improvement in validation loss for 2 epoch(s).\n",
      "Epoch 47/100, Train Loss: 0.6668\n",
      "Epoch 47/100, Validation Loss: 0.7230\n",
      "No improvement in validation loss for 3 epoch(s).\n",
      "Epoch 48/100, Train Loss: 0.6649\n",
      "Epoch 48/100, Validation Loss: 0.8282\n",
      "No improvement in validation loss for 4 epoch(s).\n",
      "Epoch 49/100, Train Loss: 0.6615\n",
      "Epoch 49/100, Validation Loss: 0.6563\n",
      "No improvement in validation loss for 5 epoch(s).\n",
      "Epoch 50/100, Train Loss: 0.6586\n",
      "Epoch 50/100, Validation Loss: 0.7187\n",
      "No improvement in validation loss for 6 epoch(s).\n",
      "Epoch 51/100, Train Loss: 0.6532\n",
      "Epoch 51/100, Validation Loss: 0.6114\n",
      "No improvement in validation loss for 7 epoch(s).\n",
      "Epoch 52/100, Train Loss: 0.6540\n",
      "Epoch 52/100, Validation Loss: 0.7094\n",
      "No improvement in validation loss for 8 epoch(s).\n",
      "Epoch 53/100, Train Loss: 0.6533\n",
      "Epoch 53/100, Validation Loss: 0.9544\n",
      "No improvement in validation loss for 9 epoch(s).\n",
      "Epoch 54/100, Train Loss: 0.6553\n",
      "Epoch 54/100, Validation Loss: 0.6643\n",
      "No improvement in validation loss for 10 epoch(s).\n",
      "Epoch 55/100, Train Loss: 0.6495\n",
      "Epoch 55/100, Validation Loss: 0.6395\n",
      "No improvement in validation loss for 11 epoch(s).\n",
      "Epoch 56/100, Train Loss: 0.6487\n",
      "Epoch 56/100, Validation Loss: 0.7135\n",
      "No improvement in validation loss for 12 epoch(s).\n",
      "Epoch 57/100, Train Loss: 0.6434\n",
      "Epoch 57/100, Validation Loss: 0.6046\n",
      "No improvement in validation loss for 13 epoch(s).\n",
      "Epoch 58/100, Train Loss: 0.6445\n",
      "Epoch 58/100, Validation Loss: 0.6513\n",
      "No improvement in validation loss for 14 epoch(s).\n",
      "Epoch 59/100, Train Loss: 0.6469\n",
      "Epoch 59/100, Validation Loss: 0.8527\n",
      "No improvement in validation loss for 15 epoch(s).\n",
      "Epoch 60/100, Train Loss: 0.6409\n",
      "Epoch 60/100, Validation Loss: 0.6968\n",
      "No improvement in validation loss for 16 epoch(s).\n",
      "Epoch 61/100, Train Loss: 0.6449\n",
      "Epoch 61/100, Validation Loss: 0.6791\n",
      "No improvement in validation loss for 17 epoch(s).\n",
      "Epoch 62/100, Train Loss: 0.6385\n",
      "Epoch 62/100, Validation Loss: 0.9957\n",
      "No improvement in validation loss for 18 epoch(s).\n",
      "Epoch 63/100, Train Loss: 0.6450\n",
      "Epoch 63/100, Validation Loss: 0.6806\n",
      "No improvement in validation loss for 19 epoch(s).\n",
      "Epoch 64/100, Train Loss: 0.6346\n",
      "Epoch 64/100, Validation Loss: 0.6943\n",
      "No improvement in validation loss for 20 epoch(s).\n",
      "Early stopping triggered.\n"
     ]
    },
    {
     "data": {
      "text/plain": [
       "([1.2662372547714125,\n",
       "  1.021321220638273,\n",
       "  0.9505331792125103,\n",
       "  0.9264631420099156,\n",
       "  0.8984600615853097,\n",
       "  0.8761683260471307,\n",
       "  0.8487401907438139,\n",
       "  0.837710335420258,\n",
       "  0.8315468133045401,\n",
       "  0.836227361637167,\n",
       "  0.8075179055232392,\n",
       "  0.7959679941238621,\n",
       "  0.7948921060151826,\n",
       "  0.7841078689219986,\n",
       "  0.779602305593854,\n",
       "  0.7652229474744111,\n",
       "  0.768379342229951,\n",
       "  0.7592249607739452,\n",
       "  0.7700281384794274,\n",
       "  0.7600297196811155,\n",
       "  0.7520220137367823,\n",
       "  0.7391518044852742,\n",
       "  0.7420132797996765,\n",
       "  0.7476409602069972,\n",
       "  0.7328612856617278,\n",
       "  0.7314330882907427,\n",
       "  0.728641962045237,\n",
       "  0.7240026654021903,\n",
       "  0.7207286858309538,\n",
       "  0.7141195240200995,\n",
       "  0.7172398753670292,\n",
       "  0.7020534798273955,\n",
       "  0.6908530706852289,\n",
       "  0.7053321661323437,\n",
       "  0.6917215202876081,\n",
       "  0.695063786834167,\n",
       "  0.6859567072872157,\n",
       "  0.6903351949048174,\n",
       "  0.6875783392785147,\n",
       "  0.6829507443241056,\n",
       "  0.6805884412775468,\n",
       "  0.6749721164526057,\n",
       "  0.6770085299681796,\n",
       "  0.6715613925427693,\n",
       "  0.6679976056636149,\n",
       "  0.6676776020271908,\n",
       "  0.6668196461760493,\n",
       "  0.6648798682935851,\n",
       "  0.6615361550796522,\n",
       "  0.658597896490349,\n",
       "  0.6531672616934,\n",
       "  0.6539517738882134,\n",
       "  0.6532576256320017,\n",
       "  0.6552505780013705,\n",
       "  0.6495061795918137,\n",
       "  0.648709701920259,\n",
       "  0.6434344155662398,\n",
       "  0.6444977540213709,\n",
       "  0.6469063505704372,\n",
       "  0.64090059849662,\n",
       "  0.6449167957390901,\n",
       "  0.6385483138936388,\n",
       "  0.6450003397266925,\n",
       "  0.6346412007802824],\n",
       " [1.225657701053233,\n",
       "  0.9699003206871272,\n",
       "  0.9412102328260081,\n",
       "  0.8570669247300585,\n",
       "  0.9569443889085759,\n",
       "  0.8104019468001897,\n",
       "  0.9483665495726724,\n",
       "  0.7216684668981788,\n",
       "  1.1435668886695778,\n",
       "  0.731998627027754,\n",
       "  0.7017780732823121,\n",
       "  0.8220446522503707,\n",
       "  0.7605012331439206,\n",
       "  0.8203531330242122,\n",
       "  1.0197516133662305,\n",
       "  0.919561695437844,\n",
       "  0.9215369665820295,\n",
       "  0.8359711966571667,\n",
       "  0.7381975074499352,\n",
       "  0.8127766263089786,\n",
       "  0.6320687154819074,\n",
       "  0.6894371779035249,\n",
       "  0.7480945445007162,\n",
       "  0.7942311705585782,\n",
       "  0.8100968002724165,\n",
       "  0.6460503321106702,\n",
       "  0.7679959835817362,\n",
       "  0.6847494725364348,\n",
       "  0.7865447614403719,\n",
       "  0.6248562464946761,\n",
       "  0.7320550136254418,\n",
       "  0.6822766232995477,\n",
       "  0.7404668170883291,\n",
       "  0.5958136623076971,\n",
       "  0.6157760536143793,\n",
       "  0.6512919046931503,\n",
       "  1.1059019366900127,\n",
       "  0.7847997059369833,\n",
       "  0.6249148924157545,\n",
       "  0.826602824155797,\n",
       "  0.6039343159062647,\n",
       "  1.3123907762996398,\n",
       "  0.5834894265917784,\n",
       "  0.5776849385783158,\n",
       "  0.6665281320254887,\n",
       "  0.6213072068015075,\n",
       "  0.7230143501503911,\n",
       "  0.8281700107274135,\n",
       "  0.6563473257680404,\n",
       "  0.7186691971773601,\n",
       "  0.611448998279993,\n",
       "  0.709403514038792,\n",
       "  0.9543781080737738,\n",
       "  0.6642968077795721,\n",
       "  0.6395325737543966,\n",
       "  0.7135460944794818,\n",
       "  0.6046454381767118,\n",
       "  0.6512806963305886,\n",
       "  0.8526602450545541,\n",
       "  0.6968407441568638,\n",
       "  0.6791046381984627,\n",
       "  0.9956963469529898,\n",
       "  0.6806328518395046,\n",
       "  0.694287113612089])"
      ]
     },
     "execution_count": 7,
     "metadata": {},
     "output_type": "execute_result"
    }
   ],
   "execution_count": 7
  },
  {
   "cell_type": "code",
   "id": "2c0dd508-da62-471d-9f51-9591f81f480f",
   "metadata": {
    "ExecuteTime": {
     "end_time": "2025-02-12T22:30:58.773823Z",
     "start_time": "2025-02-12T22:30:58.750170Z"
    }
   },
   "source": [
    "# Load the best model after training\n",
    "model.load_state_dict(torch.load(model_checkpoints_path + \"best_model_GAT_MCC.pth\", weights_only=True))"
   ],
   "outputs": [
    {
     "data": {
      "text/plain": [
       "<All keys matched successfully>"
      ]
     },
     "execution_count": 8,
     "metadata": {},
     "output_type": "execute_result"
    }
   ],
   "execution_count": 8
  },
  {
   "cell_type": "code",
   "id": "f7b3252d-6cef-4e4d-9241-f27955ee9df1",
   "metadata": {
    "ExecuteTime": {
     "end_time": "2025-02-12T22:31:03.585756Z",
     "start_time": "2025-02-12T22:30:58.826180Z"
    }
   },
   "source": [
    "true_values, predicted_values, distance, accuracy, rmse, outside_1, outside_2 = evaluate_multiclass(device, model, test_loader, model_checkpoints_path + \"best_model_GAT_MCC.pth\")\n",
    "print(f\"Cumulative distance is {distance}\")\n",
    "print(f\"RMSE is {rmse}\")\n",
    "print(f\"Accuracy is {accuracy}\")\n",
    "#print(f\"F1 score is {f1}\")\n",
    "print(f\"Percentage of samples with distance more than 1 is {outside_1}\")\n",
    "print(f\"Percentage of samples with distance more than 2 is {outside_2}\")"
   ],
   "outputs": [
    {
     "name": "stdout",
     "output_type": "stream",
     "text": [
      "GAT(\n",
      "  (conv1): GATConv(12, 64, heads=1)\n",
      "  (bn1): BatchNorm1d(64, eps=1e-05, momentum=0.1, affine=True, track_running_stats=True)\n",
      "  (conv2): GATConv(64, 32, heads=1)\n",
      "  (bn2): BatchNorm1d(32, eps=1e-05, momentum=0.1, affine=True, track_running_stats=True)\n",
      "  (dropout): Dropout(p=0.3, inplace=False)\n",
      "  (fc): Linear(in_features=32, out_features=8, bias=True)\n",
      ")\n",
      "[np.int64(1), np.int64(6), np.int64(2), np.int64(2), np.int64(2), np.int64(3), np.int64(6), np.int64(6), np.int64(6), np.int64(2)]\n",
      "[np.int64(1), np.int64(4), np.int64(2), np.int64(2), np.int64(2), np.int64(3), np.int64(6), np.int64(4), np.int64(6), np.int64(2)]\n",
      "Accuracy: 0.7535\n",
      "Cumulative distance is 5425\n",
      "RMSE is 0.5589365081612447\n",
      "Accuracy is 0.7534696228044918\n",
      "Percentage of samples with distance more than 1 is 0.020328246472790096\n",
      "Percentage of samples with distance more than 2 is 0.000978980708321336\n"
     ]
    }
   ],
   "execution_count": 9
  },
  {
   "cell_type": "code",
   "id": "a169f2fa-cb48-404e-b976-d685b6405638",
   "metadata": {
    "scrolled": true,
    "ExecuteTime": {
     "end_time": "2025-02-12T22:35:53.178786Z",
     "start_time": "2025-02-12T22:35:52.883098Z"
    }
   },
   "source": [
    "generate_matrix(true_values, predicted_values, accuracy, \"GAT\")\n",
    "visualize_samples_outside_of_radii(accuracy, outside_1, outside_2)"
   ],
   "outputs": [
    {
     "data": {
      "text/plain": [
       "<Figure size 640x480 with 2 Axes>"
      ],
      "image/png": "[encoded data removed]"
     },
     "metadata": {},
     "output_type": "display_data"
    },
    {
     "data": {
      "text/plain": [
       "<Figure size 800x600 with 1 Axes>"
      ],
      "image/png": "[encoded data removed]"
     },
     "metadata": {},
     "output_type": "display_data"
    }
   ],
   "execution_count": 11
  }
 ],
 "metadata": {
  "kernelspec": {
   "display_name": "Python 3 (ipykernel)",
   "language": "python",
   "name": "python3"
  },
  "language_info": {
   "codemirror_mode": {
    "name": "ipython",
    "version": 3
   },
   "file_extension": ".py",
   "mimetype": "text/x-python",
   "name": "python",
   "nbconvert_exporter": "python",
   "pygments_lexer": "ipython3",
   "version": "3.11.10"
  }
 },
 "nbformat": 4,
 "nbformat_minor": 5
}
